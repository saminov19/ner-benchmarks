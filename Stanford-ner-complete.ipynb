{
 "cells": [
  {
   "cell_type": "code",
   "execution_count": 74,
   "metadata": {},
   "outputs": [],
   "source": [
    "import nltk\n",
    "from nltk.tag import StanfordNERTagger\n",
    "from sklearn.metrics import f1_score"
   ]
  },
  {
   "cell_type": "markdown",
   "metadata": {},
   "source": [
    "CONLL 2003 (English) - Pre-Trained Model"
   ]
  },
  {
   "cell_type": "code",
   "execution_count": 75,
   "metadata": {},
   "outputs": [],
   "source": [
    "raw_conll = open(\"/Users/aminov.sb/Desktop/stanford-ner-tagger/DATA/conll2003 (1)/test.txt\").read()\n",
    "split_conll = raw_conll.split()"
   ]
  },
  {
   "cell_type": "code",
   "execution_count": 76,
   "metadata": {},
   "outputs": [],
   "source": [
    "# Amend class annotations to reflect Stanford's NERTagger\n",
    "for n,i in enumerate(split_conll):\n",
    "    if i == \"I-PER\":\n",
    "        split_conll[n] = \"PERSON\"\n",
    "    if i == \"I-ORG\":\n",
    "        split_conll[n] = \"ORGANIZATION\"\n",
    "    if i == \"I-LOC\":\n",
    "        split_conll[n] = \"LOCATION\"\n",
    "    if i == \"B-PER\":\n",
    "        split_conll[n] = \"PERSON\"\n",
    "    if i == \"B-ORG\":\n",
    "        split_conll[n] = \"ORGANIZATION\"\n",
    "    if i == \"B-LOC\":\n",
    "        split_conll[n] = \"LOCATION\"\n",
    "    if i == \"I-MISC\":\n",
    "        split_conll[n] = \"MISC\"\n",
    "    if i == \"B-MISC\":\n",
    "        split_conll[n] = \"MISC\""
   ]
  },
  {
   "cell_type": "code",
   "execution_count": 77,
   "metadata": {},
   "outputs": [],
   "source": [
    "reference_conll=list(zip(split_conll[0::4],split_conll[3::4]))"
   ]
  },
  {
   "cell_type": "code",
   "execution_count": 78,
   "metadata": {},
   "outputs": [],
   "source": [
    "conll_tokens = split_conll[::4]"
   ]
  },
  {
   "cell_type": "code",
   "execution_count": 79,
   "metadata": {},
   "outputs": [],
   "source": [
    "st = StanfordNERTagger('/Users/aminov.sb/Desktop/stanford-ner-tagger/train/english.conll.4class.distsim.crf.ser.gz',\n",
    "\t\t\t\t\t   '/Users/aminov.sb/Desktop/stanford-ner-tagger/train/stanford-ner.jar',\n",
    "\t\t\t\t\t   encoding='utf-8')                  \n",
    "stanford_prediction = st.tag(conll_tokens)"
   ]
  },
  {
   "cell_type": "code",
   "execution_count": 80,
   "metadata": {},
   "outputs": [],
   "source": [
    "stanford_pred = [x[1] for x in stanford_prediction]"
   ]
  },
  {
   "cell_type": "code",
   "execution_count": 81,
   "metadata": {},
   "outputs": [
    {
     "data": {
      "text/plain": [
       "0.9007987632053595"
      ]
     },
     "execution_count": 81,
     "metadata": {},
     "output_type": "execute_result"
    }
   ],
   "source": [
    "f1_score(split_conll[3::4], stanford_pred, average='micro',labels=['LOCATION'])"
   ]
  },
  {
   "cell_type": "code",
   "execution_count": 82,
   "metadata": {},
   "outputs": [
    {
     "data": {
      "text/plain": [
       "0.9497165843847138"
      ]
     },
     "execution_count": 82,
     "metadata": {},
     "output_type": "execute_result"
    }
   ],
   "source": [
    "f1_score(split_conll[3::4], stanford_pred, average='micro',labels=['PERSON'])"
   ]
  },
  {
   "cell_type": "code",
   "execution_count": 83,
   "metadata": {},
   "outputs": [
    {
     "data": {
      "text/plain": [
       "0.8582253240279163"
      ]
     },
     "execution_count": 83,
     "metadata": {},
     "output_type": "execute_result"
    }
   ],
   "source": [
    "f1_score(split_conll[3::4], stanford_pred, average='micro',labels=['ORGANIZATION'])"
   ]
  },
  {
   "cell_type": "code",
   "execution_count": 84,
   "metadata": {},
   "outputs": [
    {
     "data": {
      "text/plain": [
       "0.7972399150743099"
      ]
     },
     "execution_count": 84,
     "metadata": {},
     "output_type": "execute_result"
    }
   ],
   "source": [
    "f1_score(split_conll[3::4], stanford_pred, average='micro',labels=['MISC'])"
   ]
  },
  {
   "cell_type": "code",
   "execution_count": null,
   "metadata": {},
   "outputs": [],
   "source": []
  },
  {
   "cell_type": "code",
   "execution_count": null,
   "metadata": {},
   "outputs": [],
   "source": []
  },
  {
   "cell_type": "code",
   "execution_count": null,
   "metadata": {},
   "outputs": [],
   "source": []
  },
  {
   "cell_type": "markdown",
   "metadata": {},
   "source": [
    "SEC-Filings - Pre-Trained"
   ]
  },
  {
   "cell_type": "code",
   "execution_count": 167,
   "metadata": {},
   "outputs": [],
   "source": [
    "raw_sec_test = open(\"/Users/aminov.sb/Desktop/stanford-ner-tagger/DATA/SEC-Filings/test/FIN3.txt\").read()\n",
    "split_sec_test = raw_sec_test.split()"
   ]
  },
  {
   "cell_type": "code",
   "execution_count": 169,
   "metadata": {},
   "outputs": [],
   "source": [
    "# Amend class annotations to reflect Stanford's NERTagger\n",
    "for n,i in enumerate(split_sec_test):\n",
    "    if i == \"I-PER\":\n",
    "        split_sec_test[n] = \"PERSON\"\n",
    "    if i == \"I-ORG\":\n",
    "        split_sec_test[n] = \"ORGANIZATION\"\n",
    "    if i == \"I-LOC\":\n",
    "        split_sec_test[n] = \"LOCATION\"\n",
    "    if i == \"B-PER\":\n",
    "        split_sec_test[n] = \"PERSON\"\n",
    "    if i == \"B-ORG\":\n",
    "        split_sec_test[n] = \"ORGANIZATION\"\n",
    "    if i == \"B-LOC\":\n",
    "        split_sec_test[n] = \"LOCATION\"\n",
    "    if i == \"I-MISC\":\n",
    "        split_sec_test[n] = \"MISC\"\n",
    "    if i == \"B-MISC\":\n",
    "        split_sec_test[n] = \"MISC\""
   ]
  },
  {
   "cell_type": "code",
   "execution_count": 170,
   "metadata": {},
   "outputs": [],
   "source": [
    "reference_sec_test=list(zip(split_sec_test[0::4],split_sec_test[3::4]))"
   ]
  },
  {
   "cell_type": "code",
   "execution_count": 171,
   "metadata": {},
   "outputs": [],
   "source": [
    "sec_test_tokens = split_sec_test[::4]"
   ]
  },
  {
   "cell_type": "code",
   "execution_count": 173,
   "metadata": {},
   "outputs": [],
   "source": [
    "st = StanfordNERTagger('/Users/aminov.sb/Desktop/stanford-ner-tagger/train/english.conll.4class.distsim.crf.ser.gz',\n",
    "\t\t\t\t\t   '/Users/aminov.sb/Desktop/stanford-ner-tagger/train/stanford-ner.jar',\n",
    "\t\t\t\t\t   encoding='utf-8')                  \n",
    "stanford_prediction_sec_test = st.tag(sec_test_tokens)"
   ]
  },
  {
   "cell_type": "code",
   "execution_count": 174,
   "metadata": {},
   "outputs": [],
   "source": [
    "stanford_pred_sec_test = [x[1] for x in stanford_prediction_sec_test]"
   ]
  },
  {
   "cell_type": "code",
   "execution_count": 200,
   "metadata": {},
   "outputs": [
    {
     "data": {
      "text/plain": [
       "0.39999999999999997"
      ]
     },
     "execution_count": 200,
     "metadata": {},
     "output_type": "execute_result"
    }
   ],
   "source": [
    "f1_score(split_sec_test[3::4], stanford_pred_sec_test, average='micro',labels=['LOCATION'])"
   ]
  },
  {
   "cell_type": "code",
   "execution_count": 178,
   "metadata": {},
   "outputs": [
    {
     "data": {
      "text/plain": [
       "0.2967741935483871"
      ]
     },
     "execution_count": 178,
     "metadata": {},
     "output_type": "execute_result"
    }
   ],
   "source": [
    "f1_score(split_sec_test[3::4], stanford_pred_sec_test, average='micro',labels=['PERSON'])"
   ]
  },
  {
   "cell_type": "code",
   "execution_count": 179,
   "metadata": {},
   "outputs": [
    {
     "data": {
      "text/plain": [
       "0.2608695652173913"
      ]
     },
     "execution_count": 179,
     "metadata": {},
     "output_type": "execute_result"
    }
   ],
   "source": [
    "f1_score(split_sec_test[3::4], stanford_pred_sec_test, average='micro',labels=['ORGANIZATION'])"
   ]
  },
  {
   "cell_type": "code",
   "execution_count": 189,
   "metadata": {},
   "outputs": [
    {
     "data": {
      "text/plain": [
       "0.04307692307692307"
      ]
     },
     "execution_count": 189,
     "metadata": {},
     "output_type": "execute_result"
    }
   ],
   "source": [
    "f1_score(split_sec_test[3::4], stanford_pred_sec_test, average='micro',labels=['MISC'])"
   ]
  },
  {
   "cell_type": "code",
   "execution_count": null,
   "metadata": {},
   "outputs": [],
   "source": []
  },
  {
   "cell_type": "code",
   "execution_count": null,
   "metadata": {},
   "outputs": [],
   "source": []
  },
  {
   "cell_type": "code",
   "execution_count": null,
   "metadata": {},
   "outputs": [],
   "source": []
  },
  {
   "cell_type": "markdown",
   "metadata": {},
   "source": [
    "SEC-Filings - Self-Trained"
   ]
  },
  {
   "cell_type": "code",
   "execution_count": 257,
   "metadata": {},
   "outputs": [],
   "source": [
    "import pandas as pd\n",
    "df = pd.read_csv('/Users/aminov.sb/Desktop/stanford-ner-tagger/DATA/SEC-Filings/train/FIN5.txt',sep=' ')"
   ]
  },
  {
   "cell_type": "code",
   "execution_count": 258,
   "metadata": {},
   "outputs": [],
   "source": [
    "df=df.replace({'O':'O', 'I-ORG':'ORGANIZATION', 'I-PER':'PERSON', 'I-LOC':'LOCATION', 'I-MISC':'MISC'})"
   ]
  },
  {
   "cell_type": "code",
   "execution_count": 279,
   "metadata": {},
   "outputs": [
    {
     "data": {
      "text/plain": [
       "O               21416\n",
       "PERSON            628\n",
       "ORGANIZATION      191\n",
       "LOCATION          168\n",
       "MISC                7\n",
       "Name: O.1, dtype: int64"
      ]
     },
     "execution_count": 279,
     "metadata": {},
     "output_type": "execute_result"
    }
   ],
   "source": [
    "df['O.1'].value_counts()"
   ]
  },
  {
   "cell_type": "code",
   "execution_count": 259,
   "metadata": {},
   "outputs": [],
   "source": [
    "df = df.drop(['-X-','O'],axis=1)"
   ]
  },
  {
   "cell_type": "code",
   "execution_count": 260,
   "metadata": {},
   "outputs": [],
   "source": [
    "df=df.dropna(subset=['-DOCSTART-'])"
   ]
  },
  {
   "cell_type": "code",
   "execution_count": 261,
   "metadata": {},
   "outputs": [],
   "source": [
    "df=df.drop(df[df['-DOCSTART-'].str.contains(r'[^0-9a-zA-Z]')].index,axis=0)"
   ]
  },
  {
   "cell_type": "code",
   "execution_count": 262,
   "metadata": {},
   "outputs": [],
   "source": [
    "df.to_csv('/Users/aminov.sb/Desktop/stanford-ner-tagger/DATA/SEC-Filings/train/ner_df.tsv', sep = '\\t', index=False,header=False)"
   ]
  },
  {
   "cell_type": "code",
   "execution_count": 281,
   "metadata": {},
   "outputs": [],
   "source": [
    "# in the terminal run the following command\n",
    "#cd /Users/aminov.sb/Desktop/stanford-ner-tagger\n",
    "#java -cp \"stanford-ner.jar:lib/*\" -mx4g edu.stanford.nlp.ie.crf.CRFClassifier -prop train/prop.txt"
   ]
  },
  {
   "cell_type": "code",
   "execution_count": 282,
   "metadata": {},
   "outputs": [],
   "source": [
    "import os\n",
    "jar_engine = '/Users/aminov.sb/Desktop/stanford-ner-tagger/train/stanford-ner.jar'\n",
    "#load your own ner model\n",
    "model = '/Users/aminov.sb/Desktop/stanford-ner-tagger/ner_df.ser.gz'"
   ]
  },
  {
   "cell_type": "code",
   "execution_count": 283,
   "metadata": {},
   "outputs": [],
   "source": [
    "entity_tagger=StanfordNERTagger(model,jar_engine, encoding='utf8')"
   ]
  },
  {
   "cell_type": "code",
   "execution_count": 284,
   "metadata": {},
   "outputs": [],
   "source": [
    "raw_sec_train = open(\"/Users/aminov.sb/Desktop/stanford-ner-tagger/DATA/SEC-Filings/test/FIN3.txt\").read()\n",
    "split_sec_train = raw_sec_train.split()"
   ]
  },
  {
   "cell_type": "code",
   "execution_count": 285,
   "metadata": {},
   "outputs": [],
   "source": [
    "# Amend class annotations to reflect Stanford's NERTagger\n",
    "for n,i in enumerate(split_sec_train):\n",
    "    if i == \"I-PER\":\n",
    "        split_sec_train[n] = \"PERSON\"\n",
    "    if i == \"I-ORG\":\n",
    "        split_sec_train[n] = \"ORGANIZATION\"\n",
    "    if i == \"I-LOC\":\n",
    "        split_sec_train[n] = \"LOCATION\"\n",
    "    if i == \"B-PER\":\n",
    "        split_sec_train[n] = \"PERSON\"\n",
    "    if i == \"B-ORG\":\n",
    "        split_sec_train[n] = \"ORGANIZATION\"\n",
    "    if i == \"B-LOC\":\n",
    "        split_sec_train[n] = \"LOCATION\"\n",
    "    if i == \"I-MISC\":\n",
    "        split_sec_train[n] = \"MISC\"\n",
    "    if i == \"B-MISC\":\n",
    "        split_sec_train[n] = \"MISC\""
   ]
  },
  {
   "cell_type": "code",
   "execution_count": 286,
   "metadata": {},
   "outputs": [],
   "source": [
    "reference_sec_train=list(zip(split_sec_train[0::4],split_sec_train[3::4]))"
   ]
  },
  {
   "cell_type": "code",
   "execution_count": 287,
   "metadata": {},
   "outputs": [],
   "source": [
    "sec_train_tokens = split_sec_train[::4]"
   ]
  },
  {
   "cell_type": "code",
   "execution_count": 296,
   "metadata": {},
   "outputs": [],
   "source": [
    "stanford_prediction_sec_train = entity_tagger.tag(sec_train_tokens)"
   ]
  },
  {
   "cell_type": "code",
   "execution_count": 297,
   "metadata": {},
   "outputs": [],
   "source": [
    "stanford_pred_sec_train = [x[1] for x in stanford_prediction_sec_train]"
   ]
  },
  {
   "cell_type": "code",
   "execution_count": 298,
   "metadata": {},
   "outputs": [
    {
     "data": {
      "text/plain": [
       "0.3883495145631068"
      ]
     },
     "execution_count": 298,
     "metadata": {},
     "output_type": "execute_result"
    }
   ],
   "source": [
    "f1_score(split_sec_train[3::4], stanford_pred_sec_train, average='micro',labels=['LOCATION'])"
   ]
  },
  {
   "cell_type": "code",
   "execution_count": 299,
   "metadata": {},
   "outputs": [
    {
     "data": {
      "text/plain": [
       "0.8955916473317866"
      ]
     },
     "execution_count": 299,
     "metadata": {},
     "output_type": "execute_result"
    }
   ],
   "source": [
    "f1_score(split_sec_train[3::4], stanford_pred_sec_train, average='micro',labels=['PERSON'])"
   ]
  },
  {
   "cell_type": "code",
   "execution_count": 300,
   "metadata": {},
   "outputs": [
    {
     "data": {
      "text/plain": [
       "0.2518518518518518"
      ]
     },
     "execution_count": 300,
     "metadata": {},
     "output_type": "execute_result"
    }
   ],
   "source": [
    "f1_score(split_sec_train[3::4], stanford_pred_sec_train, average='micro',labels=['ORGANIZATION'])"
   ]
  },
  {
   "cell_type": "code",
   "execution_count": 301,
   "metadata": {},
   "outputs": [
    {
     "data": {
      "text/plain": [
       "0.0"
      ]
     },
     "execution_count": 301,
     "metadata": {},
     "output_type": "execute_result"
    }
   ],
   "source": [
    "f1_score(split_sec_train[3::4], stanford_pred_sec_train, average='micro',labels=['MISC'])"
   ]
  },
  {
   "cell_type": "code",
   "execution_count": 302,
   "metadata": {},
   "outputs": [
    {
     "data": {
      "text/plain": [
       "{'LOCATION', 'MISC', 'O', 'ORGANIZATION', 'PERSON'}"
      ]
     },
     "execution_count": 302,
     "metadata": {},
     "output_type": "execute_result"
    }
   ],
   "source": [
    "set(split_sec_train[3::4])"
   ]
  },
  {
   "cell_type": "code",
   "execution_count": 303,
   "metadata": {},
   "outputs": [
    {
     "data": {
      "text/plain": [
       "{'LOCATION', 'O', 'ORGANIZATION', 'PERSON'}"
      ]
     },
     "execution_count": 303,
     "metadata": {},
     "output_type": "execute_result"
    }
   ],
   "source": [
    "set(stanford_pred_sec_train)"
   ]
  },
  {
   "cell_type": "code",
   "execution_count": null,
   "metadata": {},
   "outputs": [],
   "source": []
  },
  {
   "cell_type": "markdown",
   "metadata": {},
   "source": [
    "Data \\ Entity type | Location | Person | Organization | Misc\n",
    "--- | --- |--- | --- | ---\n",
    "Stanford NER | | | |\n",
    "CONLL 2003 pre-trained | 90 | 95 | 86 | 80\n",
    "SEC-Filings pre-trained | 40 | 29.7 | 26.1 | 4.3\n",
    "SEC-Filings custom-trained | 38.8 | 89.6 | 25.2 | 0"
   ]
  },
  {
   "cell_type": "code",
   "execution_count": null,
   "metadata": {},
   "outputs": [],
   "source": []
  },
  {
   "cell_type": "markdown",
   "metadata": {},
   "source": [
    "Flair NLP"
   ]
  },
  {
   "cell_type": "code",
   "execution_count": 86,
   "metadata": {},
   "outputs": [],
   "source": [
    "import numpy as np"
   ]
  },
  {
   "cell_type": "code",
   "execution_count": 89,
   "metadata": {},
   "outputs": [],
   "source": [
    "data = np.loadtxt('/Users/aminov.sb/Desktop/stanford-ner-tagger/DATA/NCBI Data/NCBItrainset_corpus.txt', dtype=str, delimiter='\\n')"
   ]
  },
  {
   "cell_type": "code",
   "execution_count": 90,
   "metadata": {},
   "outputs": [],
   "source": [
    "dict = {}\n",
    "for i in data:\n",
    "    if not i.split('|')[0].split()[0] in dict:\n",
    "        dict[i.split('|')[0].split()[0]]=[]\n",
    "        dict[i.split('|')[0].split()[0]].append(i)\n",
    "    else:\n",
    "        dict[i.split('|')[0].split()[0]].append(i)"
   ]
  },
  {
   "cell_type": "code",
   "execution_count": 91,
   "metadata": {},
   "outputs": [],
   "source": [
    "words =set()\n",
    "for j in dict.keys():\n",
    "    for i in dict[j][2:]:\n",
    "        spl=i.split()[3:-1]\n",
    "        words.add((' '.join(spl[0:-1]), spl[-1]))"
   ]
  },
  {
   "cell_type": "code",
   "execution_count": 94,
   "metadata": {},
   "outputs": [
    {
     "data": {
      "text/plain": [
       "array(['10192393|t|A common human skin tumour is caused by activating mutations in beta-catenin.',\n",
       "       '10192393|a|WNT signalling orchestrates a number of developmental programs. In response to this stimulus, cytoplasmic beta-catenin (encoded by CTNNB1) is stabilized, enabling downstream transcriptional activation by members of the LEF/TCF family. One of the target genes for beta-catenin/TCF encodes c-MYC, explaining why constitutive activation of the WNT pathway can lead to cancer, particularly in the colon. Most colon cancers arise from mutations in the gene encoding adenomatous polyposis coli (APC), a protein required for ubiquitin-mediated degradation of beta-catenin, but a small percentage of colon and some other cancers harbour beta-catenin-stabilizing mutations. Recently, we discovered that transgenic mice expressing an activated beta-catenin are predisposed to developing skin tumours resembling pilomatricomas. Given that the skin of these adult mice also exhibits signs of de novo hair-follicle morphogenesis, we wondered whether human pilomatricomas might originate from hair matrix cells and whether they might possess beta-catenin-stabilizing mutations. Here, we explore the cell origin and aetiology of this common human skin tumour. We found nuclear LEF-1 in the dividing tumour cells, providing biochemical evidence that pilomatricomas are derived from hair matrix cells. At least 75% of these tumours possess mutations affecting the amino-terminal segment, normally involved in phosphorylation-dependent, ubiquitin-mediated degradation of the protein. This percentage of CTNNB1 mutations is greater than in all other human tumours examined thus far, and directly implicates beta-catenin/LEF misregulation as the major cause of hair matrix cell tumorigenesis in humans.. ',\n",
       "       '10192393\\t15\\t26\\tskin tumour\\tDiseaseClass\\tD012878', ...,\n",
       "       '8012387\\t373\\t376\\tPMD\\tSpecificDisease\\tOMIM:312080',\n",
       "       '8012387\\t930\\t933\\tPMD\\tSpecificDisease\\tOMIM:312080',\n",
       "       '8012387\\t938\\t955\\tallelic disorders\\tDiseaseClass\\tD030342'],\n",
       "      dtype='<U2548')"
      ]
     },
     "execution_count": 94,
     "metadata": {},
     "output_type": "execute_result"
    }
   ],
   "source": [
    "data"
   ]
  },
  {
   "cell_type": "code",
   "execution_count": 9,
   "metadata": {},
   "outputs": [
    {
     "name": "stdout",
     "output_type": "stream",
     "text": [
      "Requirement already satisfied: flair in /Users/aminov.sb/opt/anaconda3/lib/python3.7/site-packages (0.7)\n",
      "Requirement already satisfied: hyperopt>=0.1.1 in /Users/aminov.sb/opt/anaconda3/lib/python3.7/site-packages (from flair) (0.2.5)\n",
      "Requirement already satisfied: bpemb>=0.3.2 in /Users/aminov.sb/opt/anaconda3/lib/python3.7/site-packages (from flair) (0.3.2)\n",
      "Requirement already satisfied: matplotlib>=2.2.3 in /Users/aminov.sb/opt/anaconda3/lib/python3.7/site-packages (from flair) (3.2.2)\n",
      "Requirement already satisfied: janome in /Users/aminov.sb/opt/anaconda3/lib/python3.7/site-packages (from flair) (0.4.1)\n",
      "Requirement already satisfied: scikit-learn>=0.21.3 in /Users/aminov.sb/opt/anaconda3/lib/python3.7/site-packages (from flair) (0.23.2)\n",
      "Requirement already satisfied: gensim<=3.8.3,>=3.4.0 in /Users/aminov.sb/opt/anaconda3/lib/python3.7/site-packages (from flair) (3.8.3)\n",
      "Requirement already satisfied: konoha<5.0.0,>=4.0.0 in /Users/aminov.sb/opt/anaconda3/lib/python3.7/site-packages (from flair) (4.6.2)\n",
      "Requirement already satisfied: tqdm>=4.26.0 in /Users/aminov.sb/opt/anaconda3/lib/python3.7/site-packages (from flair) (4.46.1)\n",
      "Requirement already satisfied: ftfy in /Users/aminov.sb/opt/anaconda3/lib/python3.7/site-packages (from flair) (5.8)\n",
      "Requirement already satisfied: lxml in /Users/aminov.sb/opt/anaconda3/lib/python3.7/site-packages (from flair) (4.4.1)\n",
      "Requirement already satisfied: deprecated>=1.2.4 in /Users/aminov.sb/opt/anaconda3/lib/python3.7/site-packages (from flair) (1.2.11)\n",
      "Requirement already satisfied: langdetect in /Users/aminov.sb/opt/anaconda3/lib/python3.7/site-packages (from flair) (1.0.8)\n",
      "Requirement already satisfied: sqlitedict>=1.6.0 in /Users/aminov.sb/opt/anaconda3/lib/python3.7/site-packages (from flair) (1.7.0)\n",
      "Requirement already satisfied: segtok>=1.5.7 in /Users/aminov.sb/opt/anaconda3/lib/python3.7/site-packages (from flair) (1.5.10)\n",
      "Requirement already satisfied: gdown in /Users/aminov.sb/opt/anaconda3/lib/python3.7/site-packages (from flair) (3.12.2)\n",
      "Requirement already satisfied: sentencepiece<=0.1.91 in /Users/aminov.sb/opt/anaconda3/lib/python3.7/site-packages (from flair) (0.1.91)\n",
      "Requirement already satisfied: transformers<=3.5.1,>=3.5.0 in /Users/aminov.sb/opt/anaconda3/lib/python3.7/site-packages (from flair) (3.5.1)\n",
      "Requirement already satisfied: python-dateutil>=2.6.1 in /Users/aminov.sb/opt/anaconda3/lib/python3.7/site-packages (from flair) (2.8.0)\n",
      "Requirement already satisfied: mpld3==0.3 in /Users/aminov.sb/opt/anaconda3/lib/python3.7/site-packages (from flair) (0.3)\n",
      "Requirement already satisfied: regex in /Users/aminov.sb/opt/anaconda3/lib/python3.7/site-packages (from flair) (2020.11.13)\n",
      "Requirement already satisfied: torch>=1.1.0 in /Users/aminov.sb/opt/anaconda3/lib/python3.7/site-packages (from flair) (1.5.1)\n",
      "Requirement already satisfied: tabulate in /Users/aminov.sb/opt/anaconda3/lib/python3.7/site-packages (from flair) (0.8.7)\n",
      "Requirement already satisfied: numpy in /Users/aminov.sb/opt/anaconda3/lib/python3.7/site-packages (from bpemb>=0.3.2->flair) (1.19.5)\n",
      "Requirement already satisfied: requests in /Users/aminov.sb/opt/anaconda3/lib/python3.7/site-packages (from bpemb>=0.3.2->flair) (2.22.0)\n",
      "Requirement already satisfied: wrapt<2,>=1.10 in /Users/aminov.sb/opt/anaconda3/lib/python3.7/site-packages (from deprecated>=1.2.4->flair) (1.12.1)\n",
      "Requirement already satisfied: six>=1.5.0 in /Users/aminov.sb/opt/anaconda3/lib/python3.7/site-packages (from gensim<=3.8.3,>=3.4.0->flair) (1.15.0)\n",
      "Requirement already satisfied: scipy>=0.18.1 in /Users/aminov.sb/opt/anaconda3/lib/python3.7/site-packages (from gensim<=3.8.3,>=3.4.0->flair) (1.4.1)\n",
      "Requirement already satisfied: smart-open>=1.8.1 in /Users/aminov.sb/opt/anaconda3/lib/python3.7/site-packages (from gensim<=3.8.3,>=3.4.0->flair) (4.1.2)\n",
      "Requirement already satisfied: networkx>=2.2 in /Users/aminov.sb/opt/anaconda3/lib/python3.7/site-packages (from hyperopt>=0.1.1->flair) (2.3)\n",
      "Requirement already satisfied: cloudpickle in /Users/aminov.sb/opt/anaconda3/lib/python3.7/site-packages (from hyperopt>=0.1.1->flair) (1.2.2)\n",
      "Requirement already satisfied: future in /Users/aminov.sb/opt/anaconda3/lib/python3.7/site-packages (from hyperopt>=0.1.1->flair) (0.17.1)\n",
      "Requirement already satisfied: overrides==3.0.0 in /Users/aminov.sb/opt/anaconda3/lib/python3.7/site-packages (from konoha<5.0.0,>=4.0.0->flair) (3.0.0)\n",
      "Requirement already satisfied: kiwisolver>=1.0.1 in /Users/aminov.sb/opt/anaconda3/lib/python3.7/site-packages (from matplotlib>=2.2.3->flair) (1.1.0)\n",
      "Requirement already satisfied: cycler>=0.10 in /Users/aminov.sb/opt/anaconda3/lib/python3.7/site-packages (from matplotlib>=2.2.3->flair) (0.10.0)\n",
      "Requirement already satisfied: pyparsing!=2.0.4,!=2.1.2,!=2.1.6,>=2.0.1 in /Users/aminov.sb/opt/anaconda3/lib/python3.7/site-packages (from matplotlib>=2.2.3->flair) (2.4.2)\n",
      "Requirement already satisfied: setuptools in /Users/aminov.sb/opt/anaconda3/lib/python3.7/site-packages (from kiwisolver>=1.0.1->matplotlib>=2.2.3->flair) (41.4.0)\n",
      "Requirement already satisfied: decorator>=4.3.0 in /Users/aminov.sb/opt/anaconda3/lib/python3.7/site-packages (from networkx>=2.2->hyperopt>=0.1.1->flair) (4.4.0)\n",
      "Requirement already satisfied: threadpoolctl>=2.0.0 in /Users/aminov.sb/opt/anaconda3/lib/python3.7/site-packages (from scikit-learn>=0.21.3->flair) (2.1.0)\n",
      "Requirement already satisfied: joblib>=0.11 in /Users/aminov.sb/opt/anaconda3/lib/python3.7/site-packages (from scikit-learn>=0.21.3->flair) (0.13.2)\n",
      "Requirement already satisfied: filelock in /Users/aminov.sb/opt/anaconda3/lib/python3.7/site-packages (from transformers<=3.5.1,>=3.5.0->flair) (3.0.12)\n",
      "Requirement already satisfied: tokenizers==0.9.3 in /Users/aminov.sb/opt/anaconda3/lib/python3.7/site-packages (from transformers<=3.5.1,>=3.5.0->flair) (0.9.3)\n",
      "Requirement already satisfied: protobuf in /Users/aminov.sb/opt/anaconda3/lib/python3.7/site-packages (from transformers<=3.5.1,>=3.5.0->flair) (3.14.0)\n",
      "Requirement already satisfied: sacremoses in /Users/aminov.sb/opt/anaconda3/lib/python3.7/site-packages (from transformers<=3.5.1,>=3.5.0->flair) (0.0.43)\n",
      "Requirement already satisfied: packaging in /Users/aminov.sb/opt/anaconda3/lib/python3.7/site-packages (from transformers<=3.5.1,>=3.5.0->flair) (19.2)\n",
      "Requirement already satisfied: wcwidth in /Users/aminov.sb/opt/anaconda3/lib/python3.7/site-packages (from ftfy->flair) (0.1.7)\n",
      "Requirement already satisfied: chardet<3.1.0,>=3.0.2 in /Users/aminov.sb/opt/anaconda3/lib/python3.7/site-packages (from requests->bpemb>=0.3.2->flair) (3.0.4)\n",
      "Requirement already satisfied: certifi>=2017.4.17 in /Users/aminov.sb/opt/anaconda3/lib/python3.7/site-packages (from requests->bpemb>=0.3.2->flair) (2019.9.11)\n",
      "Requirement already satisfied: urllib3!=1.25.0,!=1.25.1,<1.26,>=1.21.1 in /Users/aminov.sb/opt/anaconda3/lib/python3.7/site-packages (from requests->bpemb>=0.3.2->flair) (1.24.2)\n",
      "Requirement already satisfied: idna<2.9,>=2.5 in /Users/aminov.sb/opt/anaconda3/lib/python3.7/site-packages (from requests->bpemb>=0.3.2->flair) (2.8)\n",
      "Requirement already satisfied: PySocks!=1.5.7,>=1.5.6 in /Users/aminov.sb/opt/anaconda3/lib/python3.7/site-packages (from requests->bpemb>=0.3.2->flair) (1.7.1)\n",
      "Requirement already satisfied: click in /Users/aminov.sb/opt/anaconda3/lib/python3.7/site-packages (from sacremoses->transformers<=3.5.1,>=3.5.0->flair) (7.0)\n",
      "\u001b[33mWARNING: You are using pip version 21.0; however, version 21.0.1 is available.\n",
      "You should consider upgrading via the '/Users/aminov.sb/opt/anaconda3/bin/python -m pip install --upgrade pip' command.\u001b[0m\n"
     ]
    }
   ],
   "source": [
    "!pip install flair"
   ]
  },
  {
   "cell_type": "code",
   "execution_count": 159,
   "metadata": {},
   "outputs": [
    {
     "name": "stdout",
     "output_type": "stream",
     "text": [
      "Requirement already satisfied: scispacy in /Users/aminov.sb/opt/anaconda3/lib/python3.7/site-packages (0.3.0)\n",
      "Requirement already satisfied: pysbd in /Users/aminov.sb/opt/anaconda3/lib/python3.7/site-packages (from scispacy) (0.3.3)\n",
      "Requirement already satisfied: joblib in /Users/aminov.sb/opt/anaconda3/lib/python3.7/site-packages (from scispacy) (0.13.2)\n",
      "Requirement already satisfied: requests<3.0.0conllu,>=2.0.0 in /Users/aminov.sb/opt/anaconda3/lib/python3.7/site-packages (from scispacy) (2.22.0)\n",
      "Collecting spacy<3.0.0,>=2.3.0\n",
      "  Using cached spacy-2.3.5-cp37-cp37m-macosx_10_9_x86_64.whl (10.2 MB)\n",
      "Requirement already satisfied: nmslib>=1.7.3.6 in /Users/aminov.sb/opt/anaconda3/lib/python3.7/site-packages (from scispacy) (2.1.1)\n",
      "Requirement already satisfied: numpy in /Users/aminov.sb/opt/anaconda3/lib/python3.7/site-packages (from scispacy) (1.19.5)\n",
      "Requirement already satisfied: scikit-learn>=0.20.3 in /Users/aminov.sb/opt/anaconda3/lib/python3.7/site-packages (from scispacy) (0.23.2)\n",
      "Requirement already satisfied: pybind11<2.6.2 in /Users/aminov.sb/opt/anaconda3/lib/python3.7/site-packages (from nmslib>=1.7.3.6->scispacy) (2.6.1)\n",
      "Requirement already satisfied: psutil in /Users/aminov.sb/opt/anaconda3/lib/python3.7/site-packages (from nmslib>=1.7.3.6->scispacy) (5.6.3)\n",
      "Requirement already satisfied: idna<2.9,>=2.5 in /Users/aminov.sb/opt/anaconda3/lib/python3.7/site-packages (from requests<3.0.0conllu,>=2.0.0->scispacy) (2.8)\n",
      "Requirement already satisfied: urllib3!=1.25.0,!=1.25.1,<1.26,>=1.21.1 in /Users/aminov.sb/opt/anaconda3/lib/python3.7/site-packages (from requests<3.0.0conllu,>=2.0.0->scispacy) (1.24.2)\n",
      "Requirement already satisfied: certifi>=2017.4.17 in /Users/aminov.sb/opt/anaconda3/lib/python3.7/site-packages (from requests<3.0.0conllu,>=2.0.0->scispacy) (2019.9.11)\n",
      "Requirement already satisfied: chardet<3.1.0,>=3.0.2 in /Users/aminov.sb/opt/anaconda3/lib/python3.7/site-packages (from requests<3.0.0conllu,>=2.0.0->scispacy) (3.0.4)\n",
      "Requirement already satisfied: scipy>=0.19.1 in /Users/aminov.sb/opt/anaconda3/lib/python3.7/site-packages (from scikit-learn>=0.20.3->scispacy) (1.4.1)\n",
      "Requirement already satisfied: threadpoolctl>=2.0.0 in /Users/aminov.sb/opt/anaconda3/lib/python3.7/site-packages (from scikit-learn>=0.20.3->scispacy) (2.1.0)\n",
      "Collecting catalogue<1.1.0,>=0.0.7\n",
      "  Using cached catalogue-1.0.0-py2.py3-none-any.whl (7.7 kB)\n",
      "Requirement already satisfied: setuptools in /Users/aminov.sb/opt/anaconda3/lib/python3.7/site-packages (from spacy<3.0.0,>=2.3.0->scispacy) (41.4.0)\n",
      "Requirement already satisfied: blis<0.8.0,>=0.4.0 in /Users/aminov.sb/opt/anaconda3/lib/python3.7/site-packages (from spacy<3.0.0,>=2.3.0->scispacy) (0.4.1)\n",
      "Requirement already satisfied: plac<1.2.0,>=0.9.6 in /Users/aminov.sb/opt/anaconda3/lib/python3.7/site-packages (from spacy<3.0.0,>=2.3.0->scispacy) (1.1.3)\n",
      "Requirement already satisfied: wasabi<1.1.0,>=0.4.0 in /Users/aminov.sb/opt/anaconda3/lib/python3.7/site-packages (from spacy<3.0.0,>=2.3.0->scispacy) (0.8.2)\n",
      "Requirement already satisfied: preshed<3.1.0,>=3.0.2 in /Users/aminov.sb/opt/anaconda3/lib/python3.7/site-packages (from spacy<3.0.0,>=2.3.0->scispacy) (3.0.5)\n",
      "Requirement already satisfied: cymem<2.1.0,>=2.0.2 in /Users/aminov.sb/opt/anaconda3/lib/python3.7/site-packages (from spacy<3.0.0,>=2.3.0->scispacy) (2.0.5)\n",
      "Requirement already satisfied: tqdm<5.0.0,>=4.38.0 in /Users/aminov.sb/opt/anaconda3/lib/python3.7/site-packages (from spacy<3.0.0,>=2.3.0->scispacy) (4.46.1)\n",
      "Collecting srsly<1.1.0,>=1.0.2\n",
      "  Using cached srsly-1.0.5-cp37-cp37m-macosx_10_9_x86_64.whl (177 kB)\n",
      "Collecting thinc<7.5.0,>=7.4.1\n",
      "  Using cached thinc-7.4.5-cp37-cp37m-macosx_10_9_x86_64.whl (969 kB)\n",
      "Requirement already satisfied: murmurhash<1.1.0,>=0.28.0 in /Users/aminov.sb/opt/anaconda3/lib/python3.7/site-packages (from spacy<3.0.0,>=2.3.0->scispacy) (1.0.5)\n",
      "Requirement already satisfied: importlib-metadata>=0.20 in /Users/aminov.sb/opt/anaconda3/lib/python3.7/site-packages (from catalogue<1.1.0,>=0.0.7->spacy<3.0.0,>=2.3.0->scispacy) (2.0.0)\n",
      "Requirement already satisfied: zipp>=0.5 in /Users/aminov.sb/opt/anaconda3/lib/python3.7/site-packages (from importlib-metadata>=0.20->catalogue<1.1.0,>=0.0.7->spacy<3.0.0,>=2.3.0->scispacy) (0.6.0)\n",
      "Requirement already satisfied: more-itertools in /Users/aminov.sb/opt/anaconda3/lib/python3.7/site-packages (from zipp>=0.5->importlib-metadata>=0.20->catalogue<1.1.0,>=0.0.7->spacy<3.0.0,>=2.3.0->scispacy) (7.2.0)\n",
      "Installing collected packages: srsly, catalogue, thinc, spacy\n",
      "  Attempting uninstall: srsly\n",
      "    Found existing installation: srsly 2.4.0\n",
      "    Uninstalling srsly-2.4.0:\n",
      "      Successfully uninstalled srsly-2.4.0\n",
      "  Attempting uninstall: catalogue\n",
      "    Found existing installation: catalogue 2.0.1\n",
      "    Uninstalling catalogue-2.0.1:\n",
      "      Successfully uninstalled catalogue-2.0.1\n",
      "  Attempting uninstall: thinc\n",
      "    Found existing installation: thinc 8.0.1\n",
      "    Uninstalling thinc-8.0.1:\n",
      "      Successfully uninstalled thinc-8.0.1\n",
      "  Attempting uninstall: spacy\n",
      "    Found existing installation: spacy 3.0.1\n",
      "    Uninstalling spacy-3.0.1:\n",
      "      Successfully uninstalled spacy-3.0.1\n",
      "Successfully installed catalogue-1.0.0 spacy-2.3.5 srsly-1.0.5 thinc-7.4.5\n"
     ]
    }
   ],
   "source": [
    "!pip install scispacy #==0.3.0"
   ]
  },
  {
   "cell_type": "code",
   "execution_count": 163,
   "metadata": {},
   "outputs": [
    {
     "name": "stdout",
     "output_type": "stream",
     "text": [
      "Requirement already satisfied: spacy in /Users/aminov.sb/opt/anaconda3/lib/python3.7/site-packages (2.3.5)\n",
      "Requirement already satisfied: blis<0.8.0,>=0.4.0 in /Users/aminov.sb/opt/anaconda3/lib/python3.7/site-packages (from spacy) (0.4.1)\n",
      "Requirement already satisfied: srsly<1.1.0,>=1.0.2 in /Users/aminov.sb/opt/anaconda3/lib/python3.7/site-packages (from spacy) (1.0.5)\n",
      "Requirement already satisfied: wasabi<1.1.0,>=0.4.0 in /Users/aminov.sb/opt/anaconda3/lib/python3.7/site-packages (from spacy) (0.8.2)\n",
      "Requirement already satisfied: setuptools in /Users/aminov.sb/opt/anaconda3/lib/python3.7/site-packages (from spacy) (41.4.0)\n",
      "Requirement already satisfied: cymem<2.1.0,>=2.0.2 in /Users/aminov.sb/opt/anaconda3/lib/python3.7/site-packages (from spacy) (2.0.5)\n",
      "Requirement already satisfied: catalogue<1.1.0,>=0.0.7 in /Users/aminov.sb/opt/anaconda3/lib/python3.7/site-packages (from spacy) (1.0.0)\n",
      "Requirement already satisfied: requests<3.0.0,>=2.13.0 in /Users/aminov.sb/opt/anaconda3/lib/python3.7/site-packages (from spacy) (2.22.0)\n",
      "Requirement already satisfied: preshed<3.1.0,>=3.0.2 in /Users/aminov.sb/opt/anaconda3/lib/python3.7/site-packages (from spacy) (3.0.5)\n",
      "Requirement already satisfied: tqdm<5.0.0,>=4.38.0 in /Users/aminov.sb/opt/anaconda3/lib/python3.7/site-packages (from spacy) (4.46.1)\n",
      "Requirement already satisfied: numpy>=1.15.0 in /Users/aminov.sb/opt/anaconda3/lib/python3.7/site-packages (from spacy) (1.19.5)\n",
      "Requirement already satisfied: plac<1.2.0,>=0.9.6 in /Users/aminov.sb/opt/anaconda3/lib/python3.7/site-packages (from spacy) (1.1.3)\n",
      "Requirement already satisfied: thinc<7.5.0,>=7.4.1 in /Users/aminov.sb/opt/anaconda3/lib/python3.7/site-packages (from spacy) (7.4.5)\n",
      "Requirement already satisfied: murmurhash<1.1.0,>=0.28.0 in /Users/aminov.sb/opt/anaconda3/lib/python3.7/site-packages (from spacy) (1.0.5)\n",
      "Requirement already satisfied: importlib-metadata>=0.20 in /Users/aminov.sb/opt/anaconda3/lib/python3.7/site-packages (from catalogue<1.1.0,>=0.0.7->spacy) (2.0.0)\n",
      "Requirement already satisfied: zipp>=0.5 in /Users/aminov.sb/opt/anaconda3/lib/python3.7/site-packages (from importlib-metadata>=0.20->catalogue<1.1.0,>=0.0.7->spacy) (0.6.0)\n",
      "Requirement already satisfied: chardet<3.1.0,>=3.0.2 in /Users/aminov.sb/opt/anaconda3/lib/python3.7/site-packages (from requests<3.0.0,>=2.13.0->spacy) (3.0.4)\n",
      "Requirement already satisfied: certifi>=2017.4.17 in /Users/aminov.sb/opt/anaconda3/lib/python3.7/site-packages (from requests<3.0.0,>=2.13.0->spacy) (2019.9.11)\n",
      "Requirement already satisfied: urllib3!=1.25.0,!=1.25.1,<1.26,>=1.21.1 in /Users/aminov.sb/opt/anaconda3/lib/python3.7/site-packages (from requests<3.0.0,>=2.13.0->spacy) (1.24.2)\n",
      "Requirement already satisfied: idna<2.9,>=2.5 in /Users/aminov.sb/opt/anaconda3/lib/python3.7/site-packages (from requests<3.0.0,>=2.13.0->spacy) (2.8)\n",
      "Requirement already satisfied: more-itertools in /Users/aminov.sb/opt/anaconda3/lib/python3.7/site-packages (from zipp>=0.5->importlib-metadata>=0.20->catalogue<1.1.0,>=0.0.7->spacy) (7.2.0)\n"
     ]
    }
   ],
   "source": [
    "!pip install spacy"
   ]
  },
  {
   "cell_type": "code",
   "execution_count": null,
   "metadata": {},
   "outputs": [],
   "source": []
  },
  {
   "cell_type": "code",
   "execution_count": 95,
   "metadata": {},
   "outputs": [],
   "source": [
    "from flair.tokenization import SciSpacyTokenizer"
   ]
  },
  {
   "cell_type": "code",
   "execution_count": 113,
   "metadata": {},
   "outputs": [],
   "source": [
    "import en_core_web_sm\n",
    "nlp = en_core_web_sm.load()"
   ]
  },
  {
   "cell_type": "code",
   "execution_count": 166,
   "metadata": {},
   "outputs": [],
   "source": [
    "from flair.datasets import NCBI_DISEASE\n",
    "from flair.datasets.biomedical import NCBI_DISEASE"
   ]
  },
  {
   "cell_type": "code",
   "execution_count": 167,
   "metadata": {},
   "outputs": [
    {
     "ename": "OSError",
     "evalue": "[E049] Can't find spaCy data directory: 'None'. Check your installation and permissions, or use spacy.util.set_data_path to customise the location if necessary.",
     "output_type": "error",
     "traceback": [
      "\u001b[0;31m---------------------------------------------------------------------------\u001b[0m",
      "\u001b[0;31mOSError\u001b[0m                                   Traceback (most recent call last)",
      "\u001b[0;32m<ipython-input-167-e919951bfb54>\u001b[0m in \u001b[0;36m<module>\u001b[0;34m\u001b[0m\n\u001b[1;32m      1\u001b[0m \u001b[0;31m# 1. get the corpus\u001b[0m\u001b[0;34m\u001b[0m\u001b[0;34m\u001b[0m\u001b[0;34m\u001b[0m\u001b[0m\n\u001b[0;32m----> 2\u001b[0;31m \u001b[0mcorpus\u001b[0m \u001b[0;34m=\u001b[0m \u001b[0mNCBI_DISEASE\u001b[0m\u001b[0;34m(\u001b[0m\u001b[0;34m)\u001b[0m\u001b[0;34m\u001b[0m\u001b[0;34m\u001b[0m\u001b[0m\n\u001b[0m\u001b[1;32m      3\u001b[0m \u001b[0mprint\u001b[0m\u001b[0;34m(\u001b[0m\u001b[0mcorpus\u001b[0m\u001b[0;34m)\u001b[0m\u001b[0;34m\u001b[0m\u001b[0;34m\u001b[0m\u001b[0m\n\u001b[1;32m      4\u001b[0m \u001b[0;34m\u001b[0m\u001b[0m\n\u001b[1;32m      5\u001b[0m \u001b[0;31m# 2. make the tag dictionary from the corpus\u001b[0m\u001b[0;34m\u001b[0m\u001b[0;34m\u001b[0m\u001b[0;34m\u001b[0m\u001b[0m\n",
      "\u001b[0;32m~/opt/anaconda3/lib/python3.7/site-packages/flair/datasets/biomedical.py\u001b[0m in \u001b[0;36m__init__\u001b[0;34m(self, base_path, in_memory, sentence_splitter)\u001b[0m\n\u001b[1;32m   2427\u001b[0m \u001b[0;34m\u001b[0m\u001b[0m\n\u001b[1;32m   2428\u001b[0m         \u001b[0;32mif\u001b[0m \u001b[0msentence_splitter\u001b[0m \u001b[0;32mis\u001b[0m \u001b[0;32mNone\u001b[0m\u001b[0;34m:\u001b[0m\u001b[0;34m\u001b[0m\u001b[0;34m\u001b[0m\u001b[0m\n\u001b[0;32m-> 2429\u001b[0;31m             \u001b[0msentence_splitter\u001b[0m \u001b[0;34m=\u001b[0m \u001b[0mSciSpacySentenceSplitter\u001b[0m\u001b[0;34m(\u001b[0m\u001b[0;34m)\u001b[0m\u001b[0;34m\u001b[0m\u001b[0;34m\u001b[0m\u001b[0m\n\u001b[0m\u001b[1;32m   2430\u001b[0m \u001b[0;34m\u001b[0m\u001b[0m\n\u001b[1;32m   2431\u001b[0m         \u001b[0mtrain_file\u001b[0m \u001b[0;34m=\u001b[0m \u001b[0mdata_folder\u001b[0m \u001b[0;34m/\u001b[0m \u001b[0;34mf\"{sentence_splitter.name}_train.conll\"\u001b[0m\u001b[0;34m\u001b[0m\u001b[0;34m\u001b[0m\u001b[0m\n",
      "\u001b[0;32m~/opt/anaconda3/lib/python3.7/site-packages/flair/tokenization.py\u001b[0m in \u001b[0;36m__init__\u001b[0;34m(self)\u001b[0m\n\u001b[1;32m    527\u001b[0m \u001b[0;34m\u001b[0m\u001b[0m\n\u001b[1;32m    528\u001b[0m     \u001b[0;32mdef\u001b[0m \u001b[0m__init__\u001b[0m\u001b[0;34m(\u001b[0m\u001b[0mself\u001b[0m\u001b[0;34m)\u001b[0m\u001b[0;34m:\u001b[0m\u001b[0;34m\u001b[0m\u001b[0;34m\u001b[0m\u001b[0m\n\u001b[0;32m--> 529\u001b[0;31m         \u001b[0msuper\u001b[0m\u001b[0;34m(\u001b[0m\u001b[0mSciSpacySentenceSplitter\u001b[0m\u001b[0;34m,\u001b[0m \u001b[0mself\u001b[0m\u001b[0;34m)\u001b[0m\u001b[0;34m.\u001b[0m\u001b[0m__init__\u001b[0m\u001b[0;34m(\u001b[0m\u001b[0;34m\"en_core_sci_sm\"\u001b[0m\u001b[0;34m,\u001b[0m \u001b[0mSciSpacyTokenizer\u001b[0m\u001b[0;34m(\u001b[0m\u001b[0;34m)\u001b[0m\u001b[0;34m)\u001b[0m\u001b[0;34m\u001b[0m\u001b[0;34m\u001b[0m\u001b[0m\n\u001b[0m\u001b[1;32m    530\u001b[0m \u001b[0;34m\u001b[0m\u001b[0m\n\u001b[1;32m    531\u001b[0m \u001b[0;34m\u001b[0m\u001b[0m\n",
      "\u001b[0;32m~/opt/anaconda3/lib/python3.7/site-packages/flair/tokenization.py\u001b[0m in \u001b[0;36m__init__\u001b[0;34m(self)\u001b[0m\n\u001b[1;32m    337\u001b[0m \u001b[0;34m\u001b[0m\u001b[0m\n\u001b[1;32m    338\u001b[0m         self.model = spacy.load(\n\u001b[0;32m--> 339\u001b[0;31m             \u001b[0;34m\"en_core_sci_sm\"\u001b[0m\u001b[0;34m,\u001b[0m \u001b[0mdisable\u001b[0m\u001b[0;34m=\u001b[0m\u001b[0;34m[\u001b[0m\u001b[0;34m\"tagger\"\u001b[0m\u001b[0;34m,\u001b[0m \u001b[0;34m\"ner\"\u001b[0m\u001b[0;34m,\u001b[0m \u001b[0;34m\"parser\"\u001b[0m\u001b[0;34m,\u001b[0m \u001b[0;34m\"textcat\"\u001b[0m\u001b[0;34m]\u001b[0m\u001b[0;34m\u001b[0m\u001b[0;34m\u001b[0m\u001b[0m\n\u001b[0m\u001b[1;32m    340\u001b[0m         )\n\u001b[1;32m    341\u001b[0m         \u001b[0mself\u001b[0m\u001b[0;34m.\u001b[0m\u001b[0mmodel\u001b[0m\u001b[0;34m.\u001b[0m\u001b[0mtokenizer\u001b[0m\u001b[0;34m.\u001b[0m\u001b[0mprefix_search\u001b[0m \u001b[0;34m=\u001b[0m \u001b[0mprefix_re\u001b[0m\u001b[0;34m.\u001b[0m\u001b[0msearch\u001b[0m\u001b[0;34m\u001b[0m\u001b[0;34m\u001b[0m\u001b[0m\n",
      "\u001b[0;32m~/opt/anaconda3/lib/python3.7/site-packages/spacy/__init__.py\u001b[0m in \u001b[0;36mload\u001b[0;34m(name, **overrides)\u001b[0m\n\u001b[1;32m     28\u001b[0m     \u001b[0;32mif\u001b[0m \u001b[0mdepr_path\u001b[0m \u001b[0;32mnot\u001b[0m \u001b[0;32min\u001b[0m \u001b[0;34m(\u001b[0m\u001b[0;32mTrue\u001b[0m\u001b[0;34m,\u001b[0m \u001b[0;32mFalse\u001b[0m\u001b[0;34m,\u001b[0m \u001b[0;32mNone\u001b[0m\u001b[0;34m)\u001b[0m\u001b[0;34m:\u001b[0m\u001b[0;34m\u001b[0m\u001b[0;34m\u001b[0m\u001b[0m\n\u001b[1;32m     29\u001b[0m         \u001b[0mwarnings\u001b[0m\u001b[0;34m.\u001b[0m\u001b[0mwarn\u001b[0m\u001b[0;34m(\u001b[0m\u001b[0mWarnings\u001b[0m\u001b[0;34m.\u001b[0m\u001b[0mW001\u001b[0m\u001b[0;34m.\u001b[0m\u001b[0mformat\u001b[0m\u001b[0;34m(\u001b[0m\u001b[0mpath\u001b[0m\u001b[0;34m=\u001b[0m\u001b[0mdepr_path\u001b[0m\u001b[0;34m)\u001b[0m\u001b[0;34m,\u001b[0m \u001b[0mDeprecationWarning\u001b[0m\u001b[0;34m)\u001b[0m\u001b[0;34m\u001b[0m\u001b[0;34m\u001b[0m\u001b[0m\n\u001b[0;32m---> 30\u001b[0;31m     \u001b[0;32mreturn\u001b[0m \u001b[0mutil\u001b[0m\u001b[0;34m.\u001b[0m\u001b[0mload_model\u001b[0m\u001b[0;34m(\u001b[0m\u001b[0mname\u001b[0m\u001b[0;34m,\u001b[0m \u001b[0;34m**\u001b[0m\u001b[0moverrides\u001b[0m\u001b[0;34m)\u001b[0m\u001b[0;34m\u001b[0m\u001b[0;34m\u001b[0m\u001b[0m\n\u001b[0m\u001b[1;32m     31\u001b[0m \u001b[0;34m\u001b[0m\u001b[0m\n\u001b[1;32m     32\u001b[0m \u001b[0;34m\u001b[0m\u001b[0m\n",
      "\u001b[0;32m~/opt/anaconda3/lib/python3.7/site-packages/spacy/util.py\u001b[0m in \u001b[0;36mload_model\u001b[0;34m(name, **overrides)\u001b[0m\n\u001b[1;32m    161\u001b[0m     \u001b[0mdata_path\u001b[0m \u001b[0;34m=\u001b[0m \u001b[0mget_data_path\u001b[0m\u001b[0;34m(\u001b[0m\u001b[0;34m)\u001b[0m\u001b[0;34m\u001b[0m\u001b[0;34m\u001b[0m\u001b[0m\n\u001b[1;32m    162\u001b[0m     \u001b[0;32mif\u001b[0m \u001b[0;32mnot\u001b[0m \u001b[0mdata_path\u001b[0m \u001b[0;32mor\u001b[0m \u001b[0;32mnot\u001b[0m \u001b[0mdata_path\u001b[0m\u001b[0;34m.\u001b[0m\u001b[0mexists\u001b[0m\u001b[0;34m(\u001b[0m\u001b[0;34m)\u001b[0m\u001b[0;34m:\u001b[0m\u001b[0;34m\u001b[0m\u001b[0;34m\u001b[0m\u001b[0m\n\u001b[0;32m--> 163\u001b[0;31m         \u001b[0;32mraise\u001b[0m \u001b[0mIOError\u001b[0m\u001b[0;34m(\u001b[0m\u001b[0mErrors\u001b[0m\u001b[0;34m.\u001b[0m\u001b[0mE049\u001b[0m\u001b[0;34m.\u001b[0m\u001b[0mformat\u001b[0m\u001b[0;34m(\u001b[0m\u001b[0mpath\u001b[0m\u001b[0;34m=\u001b[0m\u001b[0mpath2str\u001b[0m\u001b[0;34m(\u001b[0m\u001b[0mdata_path\u001b[0m\u001b[0;34m)\u001b[0m\u001b[0;34m)\u001b[0m\u001b[0;34m)\u001b[0m\u001b[0;34m\u001b[0m\u001b[0;34m\u001b[0m\u001b[0m\n\u001b[0m\u001b[1;32m    164\u001b[0m     \u001b[0;32mif\u001b[0m \u001b[0misinstance\u001b[0m\u001b[0;34m(\u001b[0m\u001b[0mname\u001b[0m\u001b[0;34m,\u001b[0m \u001b[0mbasestring_\u001b[0m\u001b[0;34m)\u001b[0m\u001b[0;34m:\u001b[0m  \u001b[0;31m# in data dir / shortcut\u001b[0m\u001b[0;34m\u001b[0m\u001b[0;34m\u001b[0m\u001b[0m\n\u001b[1;32m    165\u001b[0m         \u001b[0;32mif\u001b[0m \u001b[0mname\u001b[0m\u001b[0;34m.\u001b[0m\u001b[0mstartswith\u001b[0m\u001b[0;34m(\u001b[0m\u001b[0;34m\"blank:\"\u001b[0m\u001b[0;34m)\u001b[0m\u001b[0;34m:\u001b[0m  \u001b[0;31m# shortcut for blank model\u001b[0m\u001b[0;34m\u001b[0m\u001b[0;34m\u001b[0m\u001b[0m\n",
      "\u001b[0;31mOSError\u001b[0m: [E049] Can't find spaCy data directory: 'None'. Check your installation and permissions, or use spacy.util.set_data_path to customise the location if necessary."
     ]
    }
   ],
   "source": [
    "# 1. get the corpus\n",
    "corpus = NCBI_DISEASE()\n",
    "print(corpus)\n",
    "\n",
    "# 2. make the tag dictionary from the corpus\n",
    "tag_dictionary = corpus.make_tag_dictionary(tag_type=\"ner\")"
   ]
  },
  {
   "cell_type": "code",
   "execution_count": null,
   "metadata": {},
   "outputs": [],
   "source": []
  },
  {
   "cell_type": "code",
   "execution_count": 144,
   "metadata": {},
   "outputs": [
    {
     "name": "stdout",
     "output_type": "stream",
     "text": [
      "Collecting spacy==2.3.1\n",
      "  Downloading spacy-2.3.1-cp37-cp37m-macosx_10_9_x86_64.whl (10.0 MB)\n",
      "\u001b[K     |████████████████████████████████| 10.0 MB 678 kB/s eta 0:00:01\n",
      "\u001b[?25hCollecting srsly<1.1.0,>=1.0.2\n",
      "  Using cached srsly-1.0.5-cp37-cp37m-macosx_10_9_x86_64.whl (177 kB)\n",
      "Requirement already satisfied: setuptools in /Users/aminov.sb/opt/anaconda3/lib/python3.7/site-packages (from spacy==2.3.1) (41.4.0)\n",
      "Requirement already satisfied: wasabi<1.1.0,>=0.4.0 in /Users/aminov.sb/opt/anaconda3/lib/python3.7/site-packages (from spacy==2.3.1) (0.8.2)\n",
      "Collecting thinc==7.4.1\n",
      "  Using cached thinc-7.4.1-cp37-cp37m-macosx_10_9_x86_64.whl (2.1 MB)\n",
      "Requirement already satisfied: blis<0.5.0,>=0.4.0 in /Users/aminov.sb/opt/anaconda3/lib/python3.7/site-packages (from spacy==2.3.1) (0.4.1)\n",
      "Requirement already satisfied: plac<1.2.0,>=0.9.6 in /Users/aminov.sb/opt/anaconda3/lib/python3.7/site-packages (from spacy==2.3.1) (1.1.3)\n",
      "Requirement already satisfied: preshed<3.1.0,>=3.0.2 in /Users/aminov.sb/opt/anaconda3/lib/python3.7/site-packages (from spacy==2.3.1) (3.0.5)\n",
      "Requirement already satisfied: tqdm<5.0.0,>=4.38.0 in /Users/aminov.sb/opt/anaconda3/lib/python3.7/site-packages (from spacy==2.3.1) (4.46.1)\n",
      "Requirement already satisfied: requests<3.0.0,>=2.13.0 in /Users/aminov.sb/opt/anaconda3/lib/python3.7/site-packages (from spacy==2.3.1) (2.22.0)\n",
      "Collecting catalogue<1.1.0,>=0.0.7\n",
      "  Using cached catalogue-1.0.0-py2.py3-none-any.whl (7.7 kB)\n",
      "Requirement already satisfied: numpy>=1.15.0 in /Users/aminov.sb/opt/anaconda3/lib/python3.7/site-packages (from spacy==2.3.1) (1.19.5)\n",
      "Requirement already satisfied: cymem<2.1.0,>=2.0.2 in /Users/aminov.sb/opt/anaconda3/lib/python3.7/site-packages (from spacy==2.3.1) (2.0.5)\n",
      "Requirement already satisfied: murmurhash<1.1.0,>=0.28.0 in /Users/aminov.sb/opt/anaconda3/lib/python3.7/site-packages (from spacy==2.3.1) (1.0.5)\n",
      "Requirement already satisfied: importlib-metadata>=0.20 in /Users/aminov.sb/opt/anaconda3/lib/python3.7/site-packages (from catalogue<1.1.0,>=0.0.7->spacy==2.3.1) (2.0.0)\n",
      "Requirement already satisfied: zipp>=0.5 in /Users/aminov.sb/opt/anaconda3/lib/python3.7/site-packages (from importlib-metadata>=0.20->catalogue<1.1.0,>=0.0.7->spacy==2.3.1) (0.6.0)\n",
      "Requirement already satisfied: chardet<3.1.0,>=3.0.2 in /Users/aminov.sb/opt/anaconda3/lib/python3.7/site-packages (from requests<3.0.0,>=2.13.0->spacy==2.3.1) (3.0.4)\n",
      "Requirement already satisfied: idna<2.9,>=2.5 in /Users/aminov.sb/opt/anaconda3/lib/python3.7/site-packages (from requests<3.0.0,>=2.13.0->spacy==2.3.1) (2.8)\n",
      "Requirement already satisfied: certifi>=2017.4.17 in /Users/aminov.sb/opt/anaconda3/lib/python3.7/site-packages (from requests<3.0.0,>=2.13.0->spacy==2.3.1) (2019.9.11)\n",
      "Requirement already satisfied: urllib3!=1.25.0,!=1.25.1,<1.26,>=1.21.1 in /Users/aminov.sb/opt/anaconda3/lib/python3.7/site-packages (from requests<3.0.0,>=2.13.0->spacy==2.3.1) (1.24.2)\n",
      "Requirement already satisfied: more-itertools in /Users/aminov.sb/opt/anaconda3/lib/python3.7/site-packages (from zipp>=0.5->importlib-metadata>=0.20->catalogue<1.1.0,>=0.0.7->spacy==2.3.1) (7.2.0)\n",
      "Installing collected packages: srsly, catalogue, thinc, spacy\n",
      "  Attempting uninstall: srsly\n",
      "    Found existing installation: srsly 2.4.0\n",
      "    Uninstalling srsly-2.4.0:\n",
      "      Successfully uninstalled srsly-2.4.0\n",
      "  Attempting uninstall: catalogue\n",
      "    Found existing installation: catalogue 2.0.1\n",
      "    Uninstalling catalogue-2.0.1:\n",
      "      Successfully uninstalled catalogue-2.0.1\n",
      "  Attempting uninstall: thinc\n",
      "    Found existing installation: thinc 8.0.1\n",
      "    Uninstalling thinc-8.0.1:\n",
      "      Successfully uninstalled thinc-8.0.1\n",
      "  Attempting uninstall: spacy\n",
      "    Found existing installation: spacy 3.0.1\n",
      "    Uninstalling spacy-3.0.1:\n",
      "      Successfully uninstalled spacy-3.0.1\n",
      "Successfully installed catalogue-1.0.0 spacy-2.3.1 srsly-1.0.5 thinc-7.4.1\n"
     ]
    }
   ],
   "source": [
    "!pip install -U spacy==2.3.1"
   ]
  },
  {
   "cell_type": "code",
   "execution_count": 154,
   "metadata": {},
   "outputs": [
    {
     "name": "stdout",
     "output_type": "stream",
     "text": [
      "Collecting https://s3-us-west-2.amazonaws.com/ai2-s2-scispacy/releases/v0.3.0/en_core_sci_sm-0.3.0.tar.gz\n",
      "  Using cached https://s3-us-west-2.amazonaws.com/ai2-s2-scispacy/releases/v0.3.0/en_core_sci_sm-0.3.0.tar.gz (33.1 MB)\n",
      "Requirement already satisfied: spacy>=2.3.1 in /Users/aminov.sb/opt/anaconda3/lib/python3.7/site-packages (from en-core-sci-sm==0.3.0) (3.0.1)\n",
      "Requirement already satisfied: thinc<8.1.0,>=8.0.0 in /Users/aminov.sb/opt/anaconda3/lib/python3.7/site-packages (from spacy>=2.3.1->en-core-sci-sm==0.3.0) (8.0.1)\n",
      "Requirement already satisfied: murmurhash<1.1.0,>=0.28.0 in /Users/aminov.sb/opt/anaconda3/lib/python3.7/site-packages (from spacy>=2.3.1->en-core-sci-sm==0.3.0) (1.0.5)\n",
      "Requirement already satisfied: srsly<3.0.0,>=2.4.0 in /Users/aminov.sb/opt/anaconda3/lib/python3.7/site-packages (from spacy>=2.3.1->en-core-sci-sm==0.3.0) (2.4.0)\n",
      "Requirement already satisfied: catalogue<2.1.0,>=2.0.1 in /Users/aminov.sb/opt/anaconda3/lib/python3.7/site-packages (from spacy>=2.3.1->en-core-sci-sm==0.3.0) (2.0.1)\n",
      "Requirement already satisfied: typing-extensions>=3.7.4 in /Users/aminov.sb/opt/anaconda3/lib/python3.7/site-packages (from spacy>=2.3.1->en-core-sci-sm==0.3.0) (3.7.4.3)\n",
      "Requirement already satisfied: tqdm<5.0.0,>=4.38.0 in /Users/aminov.sb/opt/anaconda3/lib/python3.7/site-packages (from spacy>=2.3.1->en-core-sci-sm==0.3.0) (4.46.1)\n",
      "Requirement already satisfied: blis<0.8.0,>=0.4.0 in /Users/aminov.sb/opt/anaconda3/lib/python3.7/site-packages (from spacy>=2.3.1->en-core-sci-sm==0.3.0) (0.4.1)\n",
      "Requirement already satisfied: jinja2 in /Users/aminov.sb/opt/anaconda3/lib/python3.7/site-packages (from spacy>=2.3.1->en-core-sci-sm==0.3.0) (2.10.3)\n",
      "Requirement already satisfied: preshed<3.1.0,>=3.0.2 in /Users/aminov.sb/opt/anaconda3/lib/python3.7/site-packages (from spacy>=2.3.1->en-core-sci-sm==0.3.0) (3.0.5)\n",
      "Requirement already satisfied: cymem<2.1.0,>=2.0.2 in /Users/aminov.sb/opt/anaconda3/lib/python3.7/site-packages (from spacy>=2.3.1->en-core-sci-sm==0.3.0) (2.0.5)\n",
      "Requirement already satisfied: pathy in /Users/aminov.sb/opt/anaconda3/lib/python3.7/site-packages (from spacy>=2.3.1->en-core-sci-sm==0.3.0) (0.3.5)\n",
      "Requirement already satisfied: packaging>=20.0 in /Users/aminov.sb/opt/anaconda3/lib/python3.7/site-packages (from spacy>=2.3.1->en-core-sci-sm==0.3.0) (20.9)\n",
      "Requirement already satisfied: typer<0.4.0,>=0.3.0 in /Users/aminov.sb/opt/anaconda3/lib/python3.7/site-packages (from spacy>=2.3.1->en-core-sci-sm==0.3.0) (0.3.2)\n",
      "Requirement already satisfied: importlib-metadata>=0.20 in /Users/aminov.sb/opt/anaconda3/lib/python3.7/site-packages (from spacy>=2.3.1->en-core-sci-sm==0.3.0) (2.0.0)\n",
      "Requirement already satisfied: wasabi<1.1.0,>=0.8.1 in /Users/aminov.sb/opt/anaconda3/lib/python3.7/site-packages (from spacy>=2.3.1->en-core-sci-sm==0.3.0) (0.8.2)\n",
      "Requirement already satisfied: spacy-legacy<3.1.0,>=3.0.0 in /Users/aminov.sb/opt/anaconda3/lib/python3.7/site-packages (from spacy>=2.3.1->en-core-sci-sm==0.3.0) (3.0.1)\n",
      "Requirement already satisfied: setuptools in /Users/aminov.sb/opt/anaconda3/lib/python3.7/site-packages (from spacy>=2.3.1->en-core-sci-sm==0.3.0) (41.4.0)\n",
      "Requirement already satisfied: requests<3.0.0,>=2.13.0 in /Users/aminov.sb/opt/anaconda3/lib/python3.7/site-packages (from spacy>=2.3.1->en-core-sci-sm==0.3.0) (2.22.0)\n",
      "Requirement already satisfied: pydantic<1.8.0,>=1.7.1 in /Users/aminov.sb/opt/anaconda3/lib/python3.7/site-packages (from spacy>=2.3.1->en-core-sci-sm==0.3.0) (1.7.3)\n",
      "Requirement already satisfied: numpy>=1.15.0 in /Users/aminov.sb/opt/anaconda3/lib/python3.7/site-packages (from spacy>=2.3.1->en-core-sci-sm==0.3.0) (1.19.5)\n",
      "Requirement already satisfied: zipp>=0.5 in /Users/aminov.sb/opt/anaconda3/lib/python3.7/site-packages (from importlib-metadata>=0.20->spacy>=2.3.1->en-core-sci-sm==0.3.0) (0.6.0)\n",
      "Requirement already satisfied: pyparsing>=2.0.2 in /Users/aminov.sb/opt/anaconda3/lib/python3.7/site-packages (from packaging>=20.0->spacy>=2.3.1->en-core-sci-sm==0.3.0) (2.4.2)\n",
      "Requirement already satisfied: idna<2.9,>=2.5 in /Users/aminov.sb/opt/anaconda3/lib/python3.7/site-packages (from requests<3.0.0,>=2.13.0->spacy>=2.3.1->en-core-sci-sm==0.3.0) (2.8)\n",
      "Requirement already satisfied: chardet<3.1.0,>=3.0.2 in /Users/aminov.sb/opt/anaconda3/lib/python3.7/site-packages (from requests<3.0.0,>=2.13.0->spacy>=2.3.1->en-core-sci-sm==0.3.0) (3.0.4)\n",
      "Requirement already satisfied: urllib3!=1.25.0,!=1.25.1,<1.26,>=1.21.1 in /Users/aminov.sb/opt/anaconda3/lib/python3.7/site-packages (from requests<3.0.0,>=2.13.0->spacy>=2.3.1->en-core-sci-sm==0.3.0) (1.24.2)\n",
      "Requirement already satisfied: certifi>=2017.4.17 in /Users/aminov.sb/opt/anaconda3/lib/python3.7/site-packages (from requests<3.0.0,>=2.13.0->spacy>=2.3.1->en-core-sci-sm==0.3.0) (2019.9.11)\n",
      "Requirement already satisfied: click<7.2.0,>=7.1.1 in /Users/aminov.sb/opt/anaconda3/lib/python3.7/site-packages (from typer<0.4.0,>=0.3.0->spacy>=2.3.1->en-core-sci-sm==0.3.0) (7.1.2)\n",
      "Requirement already satisfied: more-itertools in /Users/aminov.sb/opt/anaconda3/lib/python3.7/site-packages (from zipp>=0.5->importlib-metadata>=0.20->spacy>=2.3.1->en-core-sci-sm==0.3.0) (7.2.0)\n",
      "Requirement already satisfied: MarkupSafe>=0.23 in /Users/aminov.sb/opt/anaconda3/lib/python3.7/site-packages (from jinja2->spacy>=2.3.1->en-core-sci-sm==0.3.0) (1.1.1)\n",
      "Requirement already satisfied: smart-open<4.0.0,>=2.2.0 in /Users/aminov.sb/opt/anaconda3/lib/python3.7/site-packages (from pathy->spacy>=2.3.1->en-core-sci-sm==0.3.0) (3.0.0)\n",
      "Building wheels for collected packages: en-core-sci-sm\n",
      "  Building wheel for en-core-sci-sm (setup.py) ... \u001b[?25ldone\n",
      "\u001b[?25h  Created wheel for en-core-sci-sm: filename=en_core_sci_sm-0.3.0-py3-none-any.whl size=33119279 sha256=25008aa79ae7de99cac357850d885b2473e837bb31c916dae3eebe60d60fd57c\n",
      "  Stored in directory: /Users/aminov.sb/Library/Caches/pip/wheels/c1/ac/bc/75799930092270c4efedabe938585fee0abc61d53d15dc6ea6\n",
      "Successfully built en-core-sci-sm\n",
      "Installing collected packages: en-core-sci-sm\n",
      "  Attempting uninstall: en-core-sci-sm\n",
      "    Found existing installation: en-core-sci-sm 0.4.0\n",
      "    Uninstalling en-core-sci-sm-0.4.0:\n",
      "      Successfully uninstalled en-core-sci-sm-0.4.0\n",
      "Successfully installed en-core-sci-sm-0.3.0\n"
     ]
    }
   ],
   "source": [
    "!pip install https://s3-us-west-2.amazonaws.com/ai2-s2-scispacy/releases/v0.3.0/en_core_sci_sm-0.3.0.tar.gz"
   ]
  },
  {
   "cell_type": "markdown",
   "metadata": {},
   "source": []
  },
  {
   "cell_type": "code",
   "execution_count": 155,
   "metadata": {},
   "outputs": [],
   "source": [
    "spacy.util.set_data_path('/Users/aminov.sb/opt/anaconda3/lib/python3.7/site-packages/spacy/en_core_sci_sm')"
   ]
  },
  {
   "cell_type": "code",
   "execution_count": 156,
   "metadata": {},
   "outputs": [],
   "source": [
    "import en_core_sci_sm\n",
    "\n",
    "nlp = en_core_sci_sm.load()"
   ]
  },
  {
   "cell_type": "code",
   "execution_count": null,
   "metadata": {},
   "outputs": [],
   "source": []
  },
  {
   "cell_type": "code",
   "execution_count": null,
   "metadata": {},
   "outputs": [],
   "source": []
  },
  {
   "cell_type": "code",
   "execution_count": 174,
   "metadata": {},
   "outputs": [
    {
     "name": "stdout",
     "output_type": "stream",
     "text": [
      "2021-02-10 19:25:34,484 Reading data from /Users/aminov.sb/Desktop/stanford-ner-tagger/DATA/conll2003 (1)\n",
      "2021-02-10 19:25:34,485 Train: /Users/aminov.sb/Desktop/stanford-ner-tagger/DATA/conll2003 (1)/train.txt\n",
      "2021-02-10 19:25:34,486 Dev: /Users/aminov.sb/Desktop/stanford-ner-tagger/DATA/conll2003 (1)/valid.txt\n",
      "2021-02-10 19:25:34,487 Test: /Users/aminov.sb/Desktop/stanford-ner-tagger/DATA/conll2003 (1)/test.txt\n",
      "Dictionary with 12 tags: <unk>, O, B-ORG, B-MISC, B-PER, I-PER, B-LOC, I-ORG, I-MISC, I-LOC, <START>, <STOP>\n",
      "2021-02-10 19:25:38,557 ----------------------------------------------------------------------------------------------------\n",
      "2021-02-10 19:25:38,558 Model: \"SequenceTagger(\n",
      "  (embeddings): StackedEmbeddings(\n",
      "    (list_embedding_0): WordEmbeddings('glove')\n",
      "  )\n",
      "  (word_dropout): WordDropout(p=0.05)\n",
      "  (locked_dropout): LockedDropout(p=0.5)\n",
      "  (embedding2nn): Linear(in_features=100, out_features=100, bias=True)\n",
      "  (rnn): LSTM(100, 256, batch_first=True, bidirectional=True)\n",
      "  (linear): Linear(in_features=512, out_features=12, bias=True)\n",
      "  (beta): 1.0\n",
      "  (weights): None\n",
      "  (weight_tensor) None\n",
      ")\"\n",
      "2021-02-10 19:25:38,559 ----------------------------------------------------------------------------------------------------\n",
      "2021-02-10 19:25:38,560 Corpus: \"Corpus: 14987 train + 3466 dev + 3684 test sentences\"\n",
      "2021-02-10 19:25:38,561 ----------------------------------------------------------------------------------------------------\n",
      "2021-02-10 19:25:38,562 Parameters:\n",
      "2021-02-10 19:25:38,563  - learning_rate: \"0.1\"\n",
      "2021-02-10 19:25:38,563  - mini_batch_size: \"32\"\n",
      "2021-02-10 19:25:38,564  - patience: \"3\"\n",
      "2021-02-10 19:25:38,565  - anneal_factor: \"0.5\"\n",
      "2021-02-10 19:25:38,565  - max_epochs: \"150\"\n",
      "2021-02-10 19:25:38,567  - shuffle: \"True\"\n",
      "2021-02-10 19:25:38,567  - train_with_dev: \"False\"\n",
      "2021-02-10 19:25:38,568  - batch_growth_annealing: \"False\"\n",
      "2021-02-10 19:25:38,568 ----------------------------------------------------------------------------------------------------\n",
      "2021-02-10 19:25:38,569 Model training base path: \"resources/taggers/model-ner\"\n",
      "2021-02-10 19:25:38,570 ----------------------------------------------------------------------------------------------------\n",
      "2021-02-10 19:25:38,571 Device: cpu\n",
      "2021-02-10 19:25:38,571 ----------------------------------------------------------------------------------------------------\n",
      "2021-02-10 19:25:38,572 Embeddings storage mode: cpu\n",
      "2021-02-10 19:25:38,573 ----------------------------------------------------------------------------------------------------\n",
      "2021-02-10 19:25:46,835 epoch 1 - iter 46/469 - loss 10.63709759 - samples/sec: 178.31 - lr: 0.100000\n",
      "2021-02-10 19:25:54,435 epoch 1 - iter 92/469 - loss 8.80461017 - samples/sec: 193.82 - lr: 0.100000\n",
      "2021-02-10 19:26:01,150 ----------------------------------------------------------------------------------------------------\n",
      "2021-02-10 19:26:01,151 Exiting from training early.\n",
      "2021-02-10 19:26:01,152 Saving model ...\n",
      "2021-02-10 19:26:04,136 Done.\n",
      "2021-02-10 19:26:04,141 ----------------------------------------------------------------------------------------------------\n",
      "2021-02-10 19:26:04,143 Testing using best model ...\n",
      "2021-02-10 19:26:04,144 loading file resources/taggers/model-ner/best-model.pt\n"
     ]
    },
    {
     "ename": "KeyboardInterrupt",
     "evalue": "",
     "output_type": "error",
     "traceback": [
      "\u001b[0;31m---------------------------------------------------------------------------\u001b[0m",
      "\u001b[0;31mKeyboardInterrupt\u001b[0m                         Traceback (most recent call last)",
      "\u001b[0;32m<ipython-input-174-3e6c9b057e25>\u001b[0m in \u001b[0;36m<module>\u001b[0;34m\u001b[0m\n\u001b[1;32m     54\u001b[0m               \u001b[0mlearning_rate\u001b[0m\u001b[0;34m=\u001b[0m\u001b[0;36m0.1\u001b[0m\u001b[0;34m,\u001b[0m\u001b[0;34m\u001b[0m\u001b[0;34m\u001b[0m\u001b[0m\n\u001b[1;32m     55\u001b[0m               \u001b[0mmini_batch_size\u001b[0m\u001b[0;34m=\u001b[0m\u001b[0;36m32\u001b[0m\u001b[0;34m,\u001b[0m\u001b[0;34m\u001b[0m\u001b[0;34m\u001b[0m\u001b[0m\n\u001b[0;32m---> 56\u001b[0;31m               max_epochs=150)\n\u001b[0m",
      "\u001b[0;32m~/opt/anaconda3/lib/python3.7/site-packages/flair/trainers/trainer.py\u001b[0m in \u001b[0;36mtrain\u001b[0;34m(self, base_path, learning_rate, mini_batch_size, mini_batch_chunk_size, max_epochs, scheduler, cycle_momentum, anneal_factor, patience, initial_extra_patience, min_learning_rate, train_with_dev, monitor_train, monitor_test, embeddings_storage_mode, checkpoint, save_final_model, anneal_with_restarts, anneal_with_prestarts, batch_growth_annealing, shuffle, param_selection_mode, write_weights, num_workers, sampler, use_amp, amp_opt_level, eval_on_train_fraction, eval_on_train_shuffle, save_model_at_each_epoch, **kwargs)\u001b[0m\n\u001b[1;32m    614\u001b[0m         \u001b[0;31m# test best model if test data is present\u001b[0m\u001b[0;34m\u001b[0m\u001b[0;34m\u001b[0m\u001b[0;34m\u001b[0m\u001b[0m\n\u001b[1;32m    615\u001b[0m         \u001b[0;32mif\u001b[0m \u001b[0mself\u001b[0m\u001b[0;34m.\u001b[0m\u001b[0mcorpus\u001b[0m\u001b[0;34m.\u001b[0m\u001b[0mtest\u001b[0m\u001b[0;34m:\u001b[0m\u001b[0;34m\u001b[0m\u001b[0;34m\u001b[0m\u001b[0m\n\u001b[0;32m--> 616\u001b[0;31m             \u001b[0mfinal_score\u001b[0m \u001b[0;34m=\u001b[0m \u001b[0mself\u001b[0m\u001b[0;34m.\u001b[0m\u001b[0mfinal_test\u001b[0m\u001b[0;34m(\u001b[0m\u001b[0mbase_path\u001b[0m\u001b[0;34m,\u001b[0m \u001b[0mmini_batch_chunk_size\u001b[0m\u001b[0;34m,\u001b[0m \u001b[0mnum_workers\u001b[0m\u001b[0;34m)\u001b[0m\u001b[0;34m\u001b[0m\u001b[0;34m\u001b[0m\u001b[0m\n\u001b[0m\u001b[1;32m    617\u001b[0m         \u001b[0;32melse\u001b[0m\u001b[0;34m:\u001b[0m\u001b[0;34m\u001b[0m\u001b[0;34m\u001b[0m\u001b[0m\n\u001b[1;32m    618\u001b[0m             \u001b[0mfinal_score\u001b[0m \u001b[0;34m=\u001b[0m \u001b[0;36m0\u001b[0m\u001b[0;34m\u001b[0m\u001b[0;34m\u001b[0m\u001b[0m\n",
      "\u001b[0;32m~/opt/anaconda3/lib/python3.7/site-packages/flair/trainers/trainer.py\u001b[0m in \u001b[0;36mfinal_test\u001b[0;34m(self, base_path, eval_mini_batch_size, num_workers)\u001b[0m\n\u001b[1;32m    655\u001b[0m \u001b[0;34m\u001b[0m\u001b[0m\n\u001b[1;32m    656\u001b[0m         \u001b[0;32mif\u001b[0m \u001b[0;34m(\u001b[0m\u001b[0mbase_path\u001b[0m \u001b[0;34m/\u001b[0m \u001b[0;34m\"best-model.pt\"\u001b[0m\u001b[0;34m)\u001b[0m\u001b[0;34m.\u001b[0m\u001b[0mexists\u001b[0m\u001b[0;34m(\u001b[0m\u001b[0;34m)\u001b[0m\u001b[0;34m:\u001b[0m\u001b[0;34m\u001b[0m\u001b[0;34m\u001b[0m\u001b[0m\n\u001b[0;32m--> 657\u001b[0;31m             \u001b[0mself\u001b[0m\u001b[0;34m.\u001b[0m\u001b[0mmodel\u001b[0m \u001b[0;34m=\u001b[0m \u001b[0mself\u001b[0m\u001b[0;34m.\u001b[0m\u001b[0mmodel\u001b[0m\u001b[0;34m.\u001b[0m\u001b[0mload\u001b[0m\u001b[0;34m(\u001b[0m\u001b[0mbase_path\u001b[0m \u001b[0;34m/\u001b[0m \u001b[0;34m\"best-model.pt\"\u001b[0m\u001b[0;34m)\u001b[0m\u001b[0;34m\u001b[0m\u001b[0;34m\u001b[0m\u001b[0m\n\u001b[0m\u001b[1;32m    658\u001b[0m \u001b[0;34m\u001b[0m\u001b[0m\n\u001b[1;32m    659\u001b[0m         test_results, test_loss = self.model.evaluate(\n",
      "\u001b[0;32m~/opt/anaconda3/lib/python3.7/site-packages/flair/nn.py\u001b[0m in \u001b[0;36mload\u001b[0;34m(cls, model)\u001b[0m\n\u001b[1;32m     86\u001b[0m             \u001b[0;31m# see https://github.com/zalandoresearch/flair/issues/351\u001b[0m\u001b[0;34m\u001b[0m\u001b[0;34m\u001b[0m\u001b[0;34m\u001b[0m\u001b[0m\n\u001b[1;32m     87\u001b[0m             \u001b[0mf\u001b[0m \u001b[0;34m=\u001b[0m \u001b[0mfile_utils\u001b[0m\u001b[0;34m.\u001b[0m\u001b[0mload_big_file\u001b[0m\u001b[0;34m(\u001b[0m\u001b[0mstr\u001b[0m\u001b[0;34m(\u001b[0m\u001b[0mmodel_file\u001b[0m\u001b[0;34m)\u001b[0m\u001b[0;34m)\u001b[0m\u001b[0;34m\u001b[0m\u001b[0;34m\u001b[0m\u001b[0m\n\u001b[0;32m---> 88\u001b[0;31m             \u001b[0mstate\u001b[0m \u001b[0;34m=\u001b[0m \u001b[0mtorch\u001b[0m\u001b[0;34m.\u001b[0m\u001b[0mload\u001b[0m\u001b[0;34m(\u001b[0m\u001b[0mf\u001b[0m\u001b[0;34m,\u001b[0m \u001b[0mmap_location\u001b[0m\u001b[0;34m=\u001b[0m\u001b[0;34m'cpu'\u001b[0m\u001b[0;34m)\u001b[0m\u001b[0;34m\u001b[0m\u001b[0;34m\u001b[0m\u001b[0m\n\u001b[0m\u001b[1;32m     89\u001b[0m \u001b[0;34m\u001b[0m\u001b[0m\n\u001b[1;32m     90\u001b[0m         \u001b[0mmodel\u001b[0m \u001b[0;34m=\u001b[0m \u001b[0mcls\u001b[0m\u001b[0;34m.\u001b[0m\u001b[0m_init_model_with_state_dict\u001b[0m\u001b[0;34m(\u001b[0m\u001b[0mstate\u001b[0m\u001b[0;34m)\u001b[0m\u001b[0;34m\u001b[0m\u001b[0;34m\u001b[0m\u001b[0m\n",
      "\u001b[0;32m~/opt/anaconda3/lib/python3.7/site-packages/torch/serialization.py\u001b[0m in \u001b[0;36mload\u001b[0;34m(f, map_location, pickle_module, **pickle_load_args)\u001b[0m\n\u001b[1;32m    591\u001b[0m                     \u001b[0;32mreturn\u001b[0m \u001b[0mtorch\u001b[0m\u001b[0;34m.\u001b[0m\u001b[0mjit\u001b[0m\u001b[0;34m.\u001b[0m\u001b[0mload\u001b[0m\u001b[0;34m(\u001b[0m\u001b[0mf\u001b[0m\u001b[0;34m)\u001b[0m\u001b[0;34m\u001b[0m\u001b[0;34m\u001b[0m\u001b[0m\n\u001b[1;32m    592\u001b[0m                 \u001b[0;32mreturn\u001b[0m \u001b[0m_load\u001b[0m\u001b[0;34m(\u001b[0m\u001b[0mopened_zipfile\u001b[0m\u001b[0;34m,\u001b[0m \u001b[0mmap_location\u001b[0m\u001b[0;34m,\u001b[0m \u001b[0mpickle_module\u001b[0m\u001b[0;34m,\u001b[0m \u001b[0;34m**\u001b[0m\u001b[0mpickle_load_args\u001b[0m\u001b[0;34m)\u001b[0m\u001b[0;34m\u001b[0m\u001b[0;34m\u001b[0m\u001b[0m\n\u001b[0;32m--> 593\u001b[0;31m         \u001b[0;32mreturn\u001b[0m \u001b[0m_legacy_load\u001b[0m\u001b[0;34m(\u001b[0m\u001b[0mopened_file\u001b[0m\u001b[0;34m,\u001b[0m \u001b[0mmap_location\u001b[0m\u001b[0;34m,\u001b[0m \u001b[0mpickle_module\u001b[0m\u001b[0;34m,\u001b[0m \u001b[0;34m**\u001b[0m\u001b[0mpickle_load_args\u001b[0m\u001b[0;34m)\u001b[0m\u001b[0;34m\u001b[0m\u001b[0;34m\u001b[0m\u001b[0m\n\u001b[0m\u001b[1;32m    594\u001b[0m \u001b[0;34m\u001b[0m\u001b[0m\n\u001b[1;32m    595\u001b[0m \u001b[0;34m\u001b[0m\u001b[0m\n",
      "\u001b[0;32m~/opt/anaconda3/lib/python3.7/site-packages/torch/serialization.py\u001b[0m in \u001b[0;36m_legacy_load\u001b[0;34m(f, map_location, pickle_module, **pickle_load_args)\u001b[0m\n\u001b[1;32m    771\u001b[0m     \u001b[0munpickler\u001b[0m \u001b[0;34m=\u001b[0m \u001b[0mpickle_module\u001b[0m\u001b[0;34m.\u001b[0m\u001b[0mUnpickler\u001b[0m\u001b[0;34m(\u001b[0m\u001b[0mf\u001b[0m\u001b[0;34m,\u001b[0m \u001b[0;34m**\u001b[0m\u001b[0mpickle_load_args\u001b[0m\u001b[0;34m)\u001b[0m\u001b[0;34m\u001b[0m\u001b[0;34m\u001b[0m\u001b[0m\n\u001b[1;32m    772\u001b[0m     \u001b[0munpickler\u001b[0m\u001b[0;34m.\u001b[0m\u001b[0mpersistent_load\u001b[0m \u001b[0;34m=\u001b[0m \u001b[0mpersistent_load\u001b[0m\u001b[0;34m\u001b[0m\u001b[0;34m\u001b[0m\u001b[0m\n\u001b[0;32m--> 773\u001b[0;31m     \u001b[0mresult\u001b[0m \u001b[0;34m=\u001b[0m \u001b[0munpickler\u001b[0m\u001b[0;34m.\u001b[0m\u001b[0mload\u001b[0m\u001b[0;34m(\u001b[0m\u001b[0;34m)\u001b[0m\u001b[0;34m\u001b[0m\u001b[0;34m\u001b[0m\u001b[0m\n\u001b[0m\u001b[1;32m    774\u001b[0m \u001b[0;34m\u001b[0m\u001b[0m\n\u001b[1;32m    775\u001b[0m     \u001b[0mdeserialized_storage_keys\u001b[0m \u001b[0;34m=\u001b[0m \u001b[0mpickle_module\u001b[0m\u001b[0;34m.\u001b[0m\u001b[0mload\u001b[0m\u001b[0;34m(\u001b[0m\u001b[0mf\u001b[0m\u001b[0;34m,\u001b[0m \u001b[0;34m**\u001b[0m\u001b[0mpickle_load_args\u001b[0m\u001b[0;34m)\u001b[0m\u001b[0;34m\u001b[0m\u001b[0;34m\u001b[0m\u001b[0m\n",
      "\u001b[0;32m~/opt/anaconda3/lib/python3.7/site-packages/torch/nn/modules/module.py\u001b[0m in \u001b[0;36m__setstate__\u001b[0;34m(self, state)\u001b[0m\n\u001b[1;32m    568\u001b[0m         \u001b[0;32mreturn\u001b[0m \u001b[0mresult\u001b[0m\u001b[0;34m\u001b[0m\u001b[0;34m\u001b[0m\u001b[0m\n\u001b[1;32m    569\u001b[0m \u001b[0;34m\u001b[0m\u001b[0m\n\u001b[0;32m--> 570\u001b[0;31m     \u001b[0;32mdef\u001b[0m \u001b[0m__setstate__\u001b[0m\u001b[0;34m(\u001b[0m\u001b[0mself\u001b[0m\u001b[0;34m,\u001b[0m \u001b[0mstate\u001b[0m\u001b[0;34m)\u001b[0m\u001b[0;34m:\u001b[0m\u001b[0;34m\u001b[0m\u001b[0;34m\u001b[0m\u001b[0m\n\u001b[0m\u001b[1;32m    571\u001b[0m         \u001b[0mself\u001b[0m\u001b[0;34m.\u001b[0m\u001b[0m__dict__\u001b[0m\u001b[0;34m.\u001b[0m\u001b[0mupdate\u001b[0m\u001b[0;34m(\u001b[0m\u001b[0mstate\u001b[0m\u001b[0;34m)\u001b[0m\u001b[0;34m\u001b[0m\u001b[0;34m\u001b[0m\u001b[0m\n\u001b[1;32m    572\u001b[0m         \u001b[0;31m# Support loading old checkpoints that don't have the following attrs:\u001b[0m\u001b[0;34m\u001b[0m\u001b[0;34m\u001b[0m\u001b[0;34m\u001b[0m\u001b[0m\n",
      "\u001b[0;31mKeyboardInterrupt\u001b[0m: "
     ]
    }
   ],
   "source": [
    "from flair.data import Corpus\n",
    "from flair.datasets import ColumnCorpus\n",
    "from flair.embeddings import TokenEmbeddings, WordEmbeddings, StackedEmbeddings\n",
    "# define columns\n",
    "columns = {0: 'text', 3: 'ner'}\n",
    "\n",
    "# this is the folder in which train, test and dev files reside\n",
    "data_folder = '/Users/aminov.sb/Desktop/stanford-ner-tagger/DATA/conll2003 (1)'\n",
    "\n",
    "# init a corpus using column format, data folder and the names of the train, dev and test files\n",
    "corpus: Corpus = ColumnCorpus(data_folder, columns,\n",
    "                              train_file='train.txt',\n",
    "                              test_file='test.txt',\n",
    "                              dev_file='valid.txt')\n",
    "    \n",
    "# 2. what tag do we want to predict?\n",
    "tag_type = 'ner'\n",
    "\n",
    "# 3. make the tag dictionary from the corpus\n",
    "tag_dictionary = corpus.make_tag_dictionary(tag_type=tag_type)\n",
    "print(tag_dictionary)\n",
    "\n",
    "# 4. initialize embeddings\n",
    "embedding_types = [\n",
    "\n",
    "    WordEmbeddings('glove'),\n",
    "\n",
    "    # comment in this line to use character embeddings\n",
    "    # CharacterEmbeddings(),\n",
    "\n",
    "    # comment in these lines to use flair embeddings\n",
    "    # FlairEmbeddings('news-forward'),\n",
    "    # FlairEmbeddings('news-backward'),\n",
    "]\n",
    "\n",
    "embeddings: StackedEmbeddings = StackedEmbeddings(embeddings=embedding_types)\n",
    "\n",
    "# 5. initialize sequence tagger\n",
    "from flair.models import SequenceTagger\n",
    "\n",
    "tagger: SequenceTagger = SequenceTagger(hidden_size=256,\n",
    "                                        embeddings=embeddings,\n",
    "                                        tag_dictionary=tag_dictionary,\n",
    "                                        tag_type=tag_type,\n",
    "                                        use_crf=True)\n",
    "\n",
    "# 6. initialize trainer\n",
    "from flair.trainers import ModelTrainer\n",
    "\n",
    "trainer: ModelTrainer = ModelTrainer(tagger, corpus)\n",
    "\n",
    "# 7. start training\n",
    "trainer.train('resources/taggers/model-ner',\n",
    "              learning_rate=0.1,\n",
    "              mini_batch_size=32,\n",
    "              max_epochs=150)"
   ]
  },
  {
   "cell_type": "code",
   "execution_count": null,
   "metadata": {},
   "outputs": [],
   "source": []
  },
  {
   "cell_type": "code",
   "execution_count": null,
   "metadata": {},
   "outputs": [],
   "source": []
  },
  {
   "cell_type": "code",
   "execution_count": null,
   "metadata": {},
   "outputs": [],
   "source": []
  },
  {
   "cell_type": "code",
   "execution_count": null,
   "metadata": {},
   "outputs": [],
   "source": []
  },
  {
   "cell_type": "code",
   "execution_count": null,
   "metadata": {},
   "outputs": [],
   "source": []
  }
 ],
 "metadata": {
  "kernelspec": {
   "display_name": "Python 3",
   "language": "python",
   "name": "python3"
  },
  "language_info": {
   "codemirror_mode": {
    "name": "ipython",
    "version": 3
   },
   "file_extension": ".py",
   "mimetype": "text/x-python",
   "name": "python",
   "nbconvert_exporter": "python",
   "pygments_lexer": "ipython3",
   "version": "3.7.4"
  }
 },
 "nbformat": 4,
 "nbformat_minor": 4
}
