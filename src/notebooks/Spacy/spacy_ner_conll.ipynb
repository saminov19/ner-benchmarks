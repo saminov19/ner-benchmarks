{
  "nbformat": 4,
  "nbformat_minor": 0,
  "metadata": {
    "colab": {
      "name": "spacy_ner_conll.ipynb",
      "provenance": [],
      "collapsed_sections": []
    },
    "kernelspec": {
      "name": "python3",
      "display_name": "Python 3"
    }
  },
  "cells": [
    {
      "cell_type": "markdown",
      "metadata": {
        "id": "G0ut21m4zcFi"
      },
      "source": [
        "##Data Preprocessing"
      ]
    },
    {
      "cell_type": "code",
      "metadata": {
        "id": "VXX7-cTXzIPe",
        "colab": {
          "base_uri": "https://localhost:8080/"
        },
        "outputId": "3ca08f37-3fc7-45d7-f192-f2c93280c630"
      },
      "source": [
        "#Read the CONLL data from conll2003 folder, and store the formatted data into a folder spacyNER_data\n",
        "!mkdir spacyNER_data\n",
        "#the above two lines create folders if they don't exist. If they do, the output shows a message that it\n",
        "#already exists and cannot be created again\n",
        "!python3 -m spacy convert \"drive/MyDrive/Stanford NER/CONLL 2003/train.txt\" spacyNER_data -c ner\n",
        "!python3 -m spacy convert \"drive/MyDrive/Stanford NER/CONLL 2003/test.txt\" spacyNER_data -c ner\n",
        "!python3 -m spacy convert \"drive/MyDrive/Stanford NER/CONLL 2003/valid.txt\" spacyNER_data -c ner"
      ],
      "execution_count": 2,
      "outputs": [
        {
          "output_type": "stream",
          "text": [
            "\u001b[38;5;4mℹ Auto-detected token-per-line NER format\u001b[0m\n",
            "\u001b[38;5;4mℹ Grouping every 1 sentences into a document.\u001b[0m\n",
            "\u001b[38;5;3m⚠ To generate better training data, you may want to group sentences\n",
            "into documents with `-n 10`.\u001b[0m\n",
            "\u001b[38;5;2m✔ Generated output file (14987 documents): spacyNER_data/train.json\u001b[0m\n",
            "\u001b[38;5;4mℹ Auto-detected token-per-line NER format\u001b[0m\n",
            "\u001b[38;5;4mℹ Grouping every 1 sentences into a document.\u001b[0m\n",
            "\u001b[38;5;3m⚠ To generate better training data, you may want to group sentences\n",
            "into documents with `-n 10`.\u001b[0m\n",
            "\u001b[38;5;2m✔ Generated output file (3684 documents): spacyNER_data/test.json\u001b[0m\n",
            "\u001b[38;5;4mℹ Auto-detected token-per-line NER format\u001b[0m\n",
            "\u001b[38;5;4mℹ Grouping every 1 sentences into a document.\u001b[0m\n",
            "\u001b[38;5;3m⚠ To generate better training data, you may want to group sentences\n",
            "into documents with `-n 10`.\u001b[0m\n",
            "\u001b[38;5;2m✔ Generated output file (3466 documents): spacyNER_data/valid.json\u001b[0m\n"
          ],
          "name": "stdout"
        }
      ]
    },
    {
      "cell_type": "code",
      "metadata": {
        "colab": {
          "base_uri": "https://localhost:8080/"
        },
        "id": "o8EmUEZuzTUj",
        "outputId": "2a4aa065-277c-4c7a-e570-391ebf05be5e"
      },
      "source": [
        "!echo \"BEFORE : (drive/MyDrive/Stanford NER/CONLL 2003/train.txt)\"\n",
        "!head \"drive/MyDrive/Stanford NER/CONLL 2003/train.txt\" -n 11 | tail -n 9\n",
        "!echo \"\\nAFTER : (drive/MyDrive/Stanford NER/CONLL 2003/train.txt)\"\n",
        "!head \"spacyNER_data/train.json\" -n 64 | tail -n 49"
      ],
      "execution_count": 3,
      "outputs": [
        {
          "output_type": "stream",
          "text": [
            "BEFORE : (drive/MyDrive/Stanford NER/CONLL 2003/train.txt)\n",
            "EU NNP B-NP B-ORG\n",
            "rejects VBZ B-VP O\n",
            "German JJ B-NP B-MISC\n",
            "call NN I-NP O\n",
            "to TO B-VP O\n",
            "boycott VB I-VP O\n",
            "British JJ B-NP B-MISC\n",
            "lamb NN I-NP O\n",
            ". . O O\n",
            "\\nAFTER : (drive/MyDrive/Stanford NER/CONLL 2003/train.txt)\n",
            "        ]\n",
            "      }\n",
            "    ]\n",
            "  },\n",
            "  {\n",
            "    \"id\":1,\n",
            "    \"paragraphs\":[\n",
            "      {\n",
            "        \"sentences\":[\n",
            "          {\n",
            "            \"tokens\":[\n",
            "              {\n",
            "                \"orth\":\"EU\",\n",
            "                \"tag\":\"NNP\",\n",
            "                \"ner\":\"U-ORG\"\n",
            "              },\n",
            "              {\n",
            "                \"orth\":\"rejects\",\n",
            "                \"tag\":\"VBZ\",\n",
            "                \"ner\":\"O\"\n",
            "              },\n",
            "              {\n",
            "                \"orth\":\"German\",\n",
            "                \"tag\":\"JJ\",\n",
            "                \"ner\":\"U-MISC\"\n",
            "              },\n",
            "              {\n",
            "                \"orth\":\"call\",\n",
            "                \"tag\":\"NN\",\n",
            "                \"ner\":\"O\"\n",
            "              },\n",
            "              {\n",
            "                \"orth\":\"to\",\n",
            "                \"tag\":\"TO\",\n",
            "                \"ner\":\"O\"\n",
            "              },\n",
            "              {\n",
            "                \"orth\":\"boycott\",\n",
            "                \"tag\":\"VB\",\n",
            "                \"ner\":\"O\"\n",
            "              },\n",
            "              {\n",
            "                \"orth\":\"British\",\n",
            "                \"tag\":\"JJ\",\n",
            "                \"ner\":\"U-MISC\"\n",
            "              },\n",
            "              {\n",
            "                \"orth\":\"lamb\",\n",
            "                \"tag\":\"NN\",\n"
          ],
          "name": "stdout"
        }
      ]
    },
    {
      "cell_type": "code",
      "metadata": {
        "colab": {
          "base_uri": "https://localhost:8080/"
        },
        "id": "RUBndzBUzTXu",
        "outputId": "b997d4e2-3b1b-412f-a386-471a5445f476"
      },
      "source": [
        "!python3 -m spacy train en model spacyNER_data/train.json spacyNER_data/valid.json -G -p tagger,ner"
      ],
      "execution_count": 4,
      "outputs": [
        {
          "output_type": "stream",
          "text": [
            "\u001b[38;5;2m✔ Created output directory: model\u001b[0m\n",
            "Training pipeline: ['tagger', 'ner']\n",
            "Starting with blank model 'en'\n",
            "Counting training words (limit=0)\n",
            "/usr/lib/python3.7/runpy.py:193: UserWarning: [W022] Training a new part-of-speech tagger using a model with no lemmatization rules or data. This means that the trained model may not be able to lemmatize correctly. If this is intentional or the language you're using doesn't have lemmatization data, you can ignore this warning by setting SPACY_WARNING_IGNORE=W022. If this is surprising, make sure you have the spacy-lookups-data package installed.\n",
            "  \"__main__\", mod_spec)\n",
            "\n",
            "Itn  Tag Loss    Tag %    NER Loss   NER P   NER R   NER F   Token %  CPU WPS\n",
            "---  ---------  --------  ---------  ------  ------  ------  -------  -------\n",
            "  1  31464.708    94.038  16939.745  83.123  82.144  82.631  100.000    12618\n",
            "  2  16902.621    94.765   7861.604  86.067  85.560  85.813  100.000    12387\n",
            "  3  13652.748    95.097   5274.733  87.559  87.294  87.426  100.000    12403\n",
            "  4  11736.501    95.244   3891.188  88.182  87.900  88.040  100.000    12254\n",
            "  5  10477.496    95.302   3162.953  88.554  88.018  88.285  100.000    12479\n",
            "  6   9684.241    95.393   2655.517  88.538  88.270  88.404  100.000    12299\n",
            "  7   8916.516    95.426   2237.483  88.482  88.304  88.393  100.000    12201\n",
            "  8   8329.665    95.455   2077.619  88.831  88.607  88.719  100.000    12206\n",
            "  9   7915.897    95.461   1938.508  88.536  88.253  88.394  100.000    12136\n",
            " 10   7527.746    95.488   1671.943  88.404  88.018  88.210  100.000    12142\n",
            " 11   7103.560    95.517   1570.197  88.237  87.866  88.051  100.000    12224\n",
            " 12   6839.961    95.527   1409.674  88.302  88.034  88.168  100.000    12314\n",
            " 13   6362.589    95.558   1483.497  88.530  88.068  88.298  100.000    12216\n",
            " 14   6146.854    95.589   1261.514  88.399  88.102  88.250  100.000    12261\n",
            " 15   6082.342    95.583   1220.556  88.325  88.102  88.213  100.000    12209\n",
            " 16   5740.629    95.605   1122.897  88.234  87.967  88.100  100.000    12204\n",
            " 17   5511.690    95.618   1183.716  88.341  88.118  88.230  100.000    12027\n",
            " 18   5414.357    95.626   1156.577  88.341  88.118  88.230  100.000    12257\n",
            " 19   5135.017    95.630   1046.981  88.451  88.287  88.369  100.000    12334\n",
            " 20   5004.005    95.580    924.587  88.476  88.253  88.365  100.000    12387\n",
            " 21   4805.633    95.578    935.973  88.548  88.354  88.451  100.000    12246\n",
            " 22   4766.422    95.603    853.901  88.533  88.354  88.443  100.000    12347\n",
            " 23   4545.957    95.618    931.059  88.552  88.388  88.470  100.000    12249\n",
            " 24   4353.539    95.618    912.642  88.372  88.253  88.313  100.000    12227\n",
            " 25   4327.573    95.605    889.582  88.546  88.472  88.509  100.000    12245\n",
            " 26   4256.679    95.638    877.643  88.520  88.506  88.513  100.000    12269\n",
            " 27   4158.391    95.626    711.325  88.466  88.421  88.444  100.000    12218\n",
            " 28   4049.540    95.620    776.605  88.462  88.253  88.357  100.000    12240\n",
            " 29   3976.625    95.620    702.185  88.347  88.169  88.258  100.000    12196\n",
            " 30   3798.660    95.636    665.802  88.425  88.320  88.372  100.000    12203\n",
            "\u001b[38;5;2m✔ Saved model to output directory\u001b[0m\n",
            "model/model-final\n",
            "\u001b[2K\u001b[38;5;2m✔ Created best model\u001b[0m\n",
            "model/model-best\n"
          ],
          "name": "stdout"
        }
      ]
    },
    {
      "cell_type": "code",
      "metadata": {
        "colab": {
          "base_uri": "https://localhost:8080/"
        },
        "id": "5OLRHUF_zTa_",
        "outputId": "5e35ed6b-195f-49cc-9675-dfba4d5135dc"
      },
      "source": [
        "#create a folder to store the output and visualizations. \n",
        "!mkdir result\n",
        "!python3 -m spacy evaluate model/model-best spacyNER_data/test.json -dp result\n",
        "# !python -m spacy evaluate model/model-final data/test.txt.json -dp result"
      ],
      "execution_count": 5,
      "outputs": [
        {
          "output_type": "stream",
          "text": [
            "\u001b[1m\n",
            "================================== Results ==================================\u001b[0m\n",
            "\n",
            "Time      4.02 s\n",
            "Words     46666 \n",
            "Words/s   11616 \n",
            "TOK       100.00\n",
            "POS       95.15 \n",
            "UAS       0.00  \n",
            "LAS       0.00  \n",
            "NER P     81.58 \n",
            "NER R     81.69 \n",
            "NER F     81.63 \n",
            "Textcat   0.00  \n",
            "\n",
            "/usr/lib/python3.7/runpy.py:193: UserWarning: [W006] No entities to visualize found in Doc object. If this is surprising to you, make sure the Doc was processed using a model that supports named entity recognition, and check the `doc.ents` property manually if necessary.\n",
            "  \"__main__\", mod_spec)\n",
            "/usr/lib/python3.7/runpy.py:193: UserWarning: [W006] No entities to visualize found in Doc object. If this is surprising to you, make sure the Doc was processed using a model that supports named entity recognition, and check the `doc.ents` property manually if necessary.\n",
            "  \"__main__\", mod_spec)\n",
            "/usr/lib/python3.7/runpy.py:193: UserWarning: [W006] No entities to visualize found in Doc object. If this is surprising to you, make sure the Doc was processed using a model that supports named entity recognition, and check the `doc.ents` property manually if necessary.\n",
            "  \"__main__\", mod_spec)\n",
            "/usr/lib/python3.7/runpy.py:193: UserWarning: [W006] No entities to visualize found in Doc object. If this is surprising to you, make sure the Doc was processed using a model that supports named entity recognition, and check the `doc.ents` property manually if necessary.\n",
            "  \"__main__\", mod_spec)\n",
            "\u001b[38;5;2m✔ Generated 25 parses as HTML\u001b[0m\n",
            "result\n"
          ],
          "name": "stdout"
        }
      ]
    },
    {
      "cell_type": "code",
      "metadata": {
        "colab": {
          "base_uri": "https://localhost:8080/"
        },
        "id": "hfNOOQGJzTeS",
        "outputId": "84d064db-e698-492f-8b20-67fcf26472aa"
      },
      "source": [
        "!mkdir pretrained_result\n",
        "!python3 -m spacy evaluate en spacyNER_data/test.json -dp pretrained_result"
      ],
      "execution_count": 6,
      "outputs": [
        {
          "output_type": "stream",
          "text": [
            "\u001b[1m\n",
            "================================== Results ==================================\u001b[0m\n",
            "\n",
            "Time      7.34 s\n",
            "Words     46666 \n",
            "Words/s   6361  \n",
            "TOK       100.00\n",
            "POS       86.21 \n",
            "UAS       0.00  \n",
            "LAS       0.00  \n",
            "NER P     6.51  \n",
            "NER R     9.17  \n",
            "NER F     7.62  \n",
            "Textcat   0.00  \n",
            "\n",
            "/usr/lib/python3.7/runpy.py:193: UserWarning: [W006] No entities to visualize found in Doc object. If this is surprising to you, make sure the Doc was processed using a model that supports named entity recognition, and check the `doc.ents` property manually if necessary.\n",
            "  \"__main__\", mod_spec)\n",
            "/usr/lib/python3.7/runpy.py:193: UserWarning: [W006] No entities to visualize found in Doc object. If this is surprising to you, make sure the Doc was processed using a model that supports named entity recognition, and check the `doc.ents` property manually if necessary.\n",
            "  \"__main__\", mod_spec)\n",
            "/usr/lib/python3.7/runpy.py:193: UserWarning: [W006] No entities to visualize found in Doc object. If this is surprising to you, make sure the Doc was processed using a model that supports named entity recognition, and check the `doc.ents` property manually if necessary.\n",
            "  \"__main__\", mod_spec)\n",
            "/usr/lib/python3.7/runpy.py:193: UserWarning: [W006] No entities to visualize found in Doc object. If this is surprising to you, make sure the Doc was processed using a model that supports named entity recognition, and check the `doc.ents` property manually if necessary.\n",
            "  \"__main__\", mod_spec)\n",
            "/usr/lib/python3.7/runpy.py:193: UserWarning: [W006] No entities to visualize found in Doc object. If this is surprising to you, make sure the Doc was processed using a model that supports named entity recognition, and check the `doc.ents` property manually if necessary.\n",
            "  \"__main__\", mod_spec)\n",
            "/usr/lib/python3.7/runpy.py:193: UserWarning: [W006] No entities to visualize found in Doc object. If this is surprising to you, make sure the Doc was processed using a model that supports named entity recognition, and check the `doc.ents` property manually if necessary.\n",
            "  \"__main__\", mod_spec)\n",
            "/usr/lib/python3.7/runpy.py:193: UserWarning: [W006] No entities to visualize found in Doc object. If this is surprising to you, make sure the Doc was processed using a model that supports named entity recognition, and check the `doc.ents` property manually if necessary.\n",
            "  \"__main__\", mod_spec)\n",
            "/usr/lib/python3.7/runpy.py:193: UserWarning: [W006] No entities to visualize found in Doc object. If this is surprising to you, make sure the Doc was processed using a model that supports named entity recognition, and check the `doc.ents` property manually if necessary.\n",
            "  \"__main__\", mod_spec)\n",
            "\u001b[38;5;2m✔ Generated 25 parses as HTML\u001b[0m\n",
            "pretrained_result\n"
          ],
          "name": "stdout"
        }
      ]
    },
    {
      "cell_type": "code",
      "metadata": {
        "id": "tWUc_aruzThf"
      },
      "source": [
        ""
      ],
      "execution_count": null,
      "outputs": []
    },
    {
      "cell_type": "code",
      "metadata": {
        "id": "qG10OgDezTkr"
      },
      "source": [
        ""
      ],
      "execution_count": null,
      "outputs": []
    },
    {
      "cell_type": "code",
      "metadata": {
        "id": "NHDEl9YwzTn0"
      },
      "source": [
        ""
      ],
      "execution_count": null,
      "outputs": []
    },
    {
      "cell_type": "code",
      "metadata": {
        "id": "xeysYfVkzTrZ"
      },
      "source": [
        ""
      ],
      "execution_count": null,
      "outputs": []
    },
    {
      "cell_type": "code",
      "metadata": {
        "id": "q4RkAsZkzTub"
      },
      "source": [
        ""
      ],
      "execution_count": null,
      "outputs": []
    },
    {
      "cell_type": "code",
      "metadata": {
        "id": "_B3hns3-zTxg"
      },
      "source": [
        ""
      ],
      "execution_count": null,
      "outputs": []
    },
    {
      "cell_type": "code",
      "metadata": {
        "id": "5t5wIrwczT0y"
      },
      "source": [
        ""
      ],
      "execution_count": null,
      "outputs": []
    },
    {
      "cell_type": "code",
      "metadata": {
        "id": "v3ic2YxNzT4T"
      },
      "source": [
        ""
      ],
      "execution_count": null,
      "outputs": []
    },
    {
      "cell_type": "code",
      "metadata": {
        "id": "a2SFfhx3zT7f"
      },
      "source": [
        ""
      ],
      "execution_count": null,
      "outputs": []
    },
    {
      "cell_type": "code",
      "metadata": {
        "id": "RjGyGPgozT--"
      },
      "source": [
        ""
      ],
      "execution_count": null,
      "outputs": []
    },
    {
      "cell_type": "code",
      "metadata": {
        "id": "ekBWqkQtzUCN"
      },
      "source": [
        ""
      ],
      "execution_count": null,
      "outputs": []
    },
    {
      "cell_type": "code",
      "metadata": {
        "id": "aIzsaSGbzUFc"
      },
      "source": [
        ""
      ],
      "execution_count": null,
      "outputs": []
    },
    {
      "cell_type": "code",
      "metadata": {
        "id": "xWD2ptr2zUI0"
      },
      "source": [
        ""
      ],
      "execution_count": null,
      "outputs": []
    },
    {
      "cell_type": "code",
      "metadata": {
        "id": "sTsKd4e_zUMD"
      },
      "source": [
        ""
      ],
      "execution_count": null,
      "outputs": []
    },
    {
      "cell_type": "code",
      "metadata": {
        "id": "ETiRfTbZzUPV"
      },
      "source": [
        ""
      ],
      "execution_count": null,
      "outputs": []
    },
    {
      "cell_type": "code",
      "metadata": {
        "id": "9khLrF5AzUSV"
      },
      "source": [
        ""
      ],
      "execution_count": null,
      "outputs": []
    },
    {
      "cell_type": "code",
      "metadata": {
        "id": "-J9Z3BJVzOJh"
      },
      "source": [
        ""
      ],
      "execution_count": null,
      "outputs": []
    },
    {
      "cell_type": "code",
      "metadata": {
        "id": "3rmRh5hvzOO2"
      },
      "source": [
        ""
      ],
      "execution_count": null,
      "outputs": []
    },
    {
      "cell_type": "code",
      "metadata": {
        "id": "D1OPM01pzOQW"
      },
      "source": [
        ""
      ],
      "execution_count": null,
      "outputs": []
    },
    {
      "cell_type": "code",
      "metadata": {
        "id": "W6qytfGEzOTV"
      },
      "source": [
        ""
      ],
      "execution_count": null,
      "outputs": []
    },
    {
      "cell_type": "code",
      "metadata": {
        "id": "qPSIKKSDzOWq"
      },
      "source": [
        ""
      ],
      "execution_count": null,
      "outputs": []
    },
    {
      "cell_type": "code",
      "metadata": {
        "id": "MfTp_iTDzOaC"
      },
      "source": [
        ""
      ],
      "execution_count": null,
      "outputs": []
    },
    {
      "cell_type": "code",
      "metadata": {
        "id": "tqjyDYvhzOdX"
      },
      "source": [
        ""
      ],
      "execution_count": null,
      "outputs": []
    },
    {
      "cell_type": "code",
      "metadata": {
        "id": "tQs6ikdFzOg7"
      },
      "source": [
        ""
      ],
      "execution_count": null,
      "outputs": []
    },
    {
      "cell_type": "code",
      "metadata": {
        "id": "uzYmaFkyzOkS"
      },
      "source": [
        ""
      ],
      "execution_count": null,
      "outputs": []
    },
    {
      "cell_type": "code",
      "metadata": {
        "id": "uXV-wrvfzOnw"
      },
      "source": [
        ""
      ],
      "execution_count": null,
      "outputs": []
    },
    {
      "cell_type": "code",
      "metadata": {
        "id": "WTaZ3ob1zOrZ"
      },
      "source": [
        ""
      ],
      "execution_count": null,
      "outputs": []
    },
    {
      "cell_type": "code",
      "metadata": {
        "id": "aYv3gR9ozOu9"
      },
      "source": [
        ""
      ],
      "execution_count": null,
      "outputs": []
    }
  ]
}