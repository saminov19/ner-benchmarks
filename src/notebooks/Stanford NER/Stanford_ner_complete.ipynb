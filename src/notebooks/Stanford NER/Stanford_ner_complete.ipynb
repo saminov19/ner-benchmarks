{
 "cells": [
  {
   "cell_type": "markdown",
   "metadata": {
    "id": "SfcTiyZcQxVE"
   },
   "source": [
    "##CONLL 2003 (English) - Pre-Trained Model"
   ]
  },
  {
   "cell_type": "code",
   "execution_count": 1,
   "metadata": {},
   "outputs": [
    {
     "name": "stdout",
     "output_type": "stream",
     "text": [
      "\u001b[33mDEPRECATION: Python 3.5 reached the end of its life on September 13th, 2020. Please upgrade your Python as Python 3.5 is no longer maintained. pip 21.0 will drop support for Python 3.5 in January 2021. pip 21.0 will remove support for this functionality.\u001b[0m\n",
      "Collecting pandas\n",
      "  Downloading pandas-0.24.2-cp35-cp35m-manylinux1_x86_64.whl (10.0 MB)\n",
      "\u001b[K     |████████████████████████████████| 10.0 MB 9.2 MB/s eta 0:00:01\n",
      "\u001b[?25hCollecting sklearn\n",
      "  Downloading sklearn-0.0.tar.gz (1.1 kB)\n",
      "Collecting nltk\n",
      "  Downloading nltk-3.5.zip (1.4 MB)\n",
      "\u001b[K     |████████████████████████████████| 1.4 MB 39.8 MB/s eta 0:00:01\n",
      "\u001b[?25hRequirement already satisfied: python-dateutil>=2.5.0 in /usr/local/lib/python3.5/dist-packages (from pandas) (2.8.1)\n",
      "Collecting numpy>=1.12.0\n",
      "  Downloading numpy-1.18.5-cp35-cp35m-manylinux1_x86_64.whl (19.9 MB)\n",
      "\u001b[K     |████████████████████████████████| 19.9 MB 44.3 MB/s eta 0:00:01\n",
      "\u001b[?25hCollecting pytz>=2011k\n",
      "  Downloading pytz-2021.1-py2.py3-none-any.whl (510 kB)\n",
      "\u001b[K     |████████████████████████████████| 510 kB 27.8 MB/s eta 0:00:01\n",
      "\u001b[?25hCollecting scikit-learn\n",
      "  Downloading scikit_learn-0.22.2.post1-cp35-cp35m-manylinux1_x86_64.whl (7.0 MB)\n",
      "\u001b[K     |████████████████████████████████| 7.0 MB 19.4 MB/s eta 0:00:01     |██▌                             | 542 kB 19.4 MB/s eta 0:00:01\n",
      "\u001b[?25hCollecting click\n",
      "  Downloading click-7.1.2-py2.py3-none-any.whl (82 kB)\n",
      "\u001b[K     |████████████████████████████████| 82 kB 3.2 MB/s  eta 0:00:01\n",
      "\u001b[?25hCollecting joblib\n",
      "  Downloading joblib-0.14.1-py2.py3-none-any.whl (294 kB)\n",
      "\u001b[K     |████████████████████████████████| 294 kB 41.3 MB/s eta 0:00:01\n",
      "\u001b[?25hCollecting regex\n",
      "  Downloading regex-2020.11.13.tar.gz (694 kB)\n",
      "\u001b[K     |████████████████████████████████| 694 kB 53.7 MB/s eta 0:00:01\n",
      "\u001b[?25hCollecting tqdm\n",
      "  Downloading tqdm-4.58.0-py2.py3-none-any.whl (73 kB)\n",
      "\u001b[K     |████████████████████████████████| 73 kB 4.4 MB/s  eta 0:00:01\n",
      "\u001b[?25hRequirement already satisfied: six>=1.5 in /usr/lib/python3/dist-packages (from python-dateutil>=2.5.0->pandas) (1.10.0)\n",
      "Collecting scipy>=0.17.0\n",
      "  Downloading scipy-1.4.1-cp35-cp35m-manylinux1_x86_64.whl (26.0 MB)\n",
      "\u001b[K     |████████████████████████████████| 26.0 MB 43.4 MB/s eta 0:00:01\n",
      "\u001b[?25hBuilding wheels for collected packages: sklearn, nltk, regex\n",
      "  Building wheel for sklearn (setup.py) ... \u001b[?25ldone\n",
      "\u001b[?25h  Created wheel for sklearn: filename=sklearn-0.0-py2.py3-none-any.whl size=2397 sha256=fd72d12f12d1ae2d345f6a6a4d28b48ab5cbe111a868200fef7ff720f8539e2e\n",
      "  Stored in directory: /root/.cache/pip/wheels/9e/ec/a6/33cdb5605b0b150074213e154792654a1006e6e6807dc7ca6f\n",
      "  Building wheel for nltk (setup.py) ... \u001b[?25ldone\n",
      "\u001b[?25h  Created wheel for nltk: filename=nltk-3.5-py3-none-any.whl size=1435511 sha256=ad2cd01c47a95aacaf184e23ad7b3fc8f2bef83e3452728e3607f2e85f09e181\n",
      "  Stored in directory: /root/.cache/pip/wheels/5f/ad/20/8be5325bab3791cc067f49a12929479ed9a8347ff732cac59d\n",
      "  Building wheel for regex (setup.py) ... \u001b[?25ldone\n",
      "\u001b[?25h  Created wheel for regex: filename=regex-2020.11.13-cp35-cp35m-linux_x86_64.whl size=585183 sha256=de6b37e38cbb94347013421cb25508c51dac1da74c95b5139af8cb4b9ff57bce\n",
      "  Stored in directory: /root/.cache/pip/wheels/a7/2e/82/c105385ef65d2c37b9a8e0fb9bb81b4e18ed297d8ea2b102f1\n",
      "Successfully built sklearn nltk regex\n",
      "Installing collected packages: numpy, pytz, pandas, scipy, joblib, scikit-learn, sklearn, click, regex, tqdm, nltk\n",
      "Successfully installed click-7.1.2 joblib-0.14.1 nltk-3.5 numpy-1.18.5 pandas-0.24.2 pytz-2021.1 regex-2020.11.13 scikit-learn-0.22.2.post1 scipy-1.4.1 sklearn-0.0 tqdm-4.58.0\n",
      "\u001b[33mWARNING: You are using pip version 20.2.4; however, version 20.3.4 is available.\n",
      "You should consider upgrading via the '/usr/bin/python3 -m pip install --upgrade pip' command.\u001b[0m\n"
     ]
    }
   ],
   "source": [
    "!pip install pandas sklearn nltk"
   ]
  },
  {
   "cell_type": "code",
   "execution_count": 2,
   "metadata": {
    "id": "HQSm0MKiQxU9"
   },
   "outputs": [],
   "source": [
    "import pandas as pd\n",
    "from sklearn.metrics import f1_score\n",
    "import nltk\n",
    "from nltk.tag import StanfordNERTagger"
   ]
  },
  {
   "cell_type": "code",
   "execution_count": 3,
   "metadata": {},
   "outputs": [
    {
     "name": "stdout",
     "output_type": "stream",
     "text": [
      "test.txt  train.txt  valid.txt\r\n"
     ]
    }
   ],
   "source": [
    "!ls ../../../datasets/conll/conll2003/"
   ]
  },
  {
   "cell_type": "code",
   "execution_count": 4,
   "metadata": {
    "id": "34hUrBolQxVF"
   },
   "outputs": [],
   "source": [
    "raw_conll = open(\"../../../datasets/conll/conll2003/test.txt\").read()\n",
    "split_conll = raw_conll.split()"
   ]
  },
  {
   "cell_type": "code",
   "execution_count": 5,
   "metadata": {
    "id": "3a_I9_BiQxVF"
   },
   "outputs": [],
   "source": [
    "# Amend class annotations to reflect Stanford's NERTagger\n",
    "for n,i in enumerate(split_conll):\n",
    "    if i == \"I-PER\":\n",
    "        split_conll[n] = \"PERSON\"\n",
    "    if i == \"I-ORG\":\n",
    "        split_conll[n] = \"ORGANIZATION\"\n",
    "    if i == \"I-LOC\":\n",
    "        split_conll[n] = \"LOCATION\"\n",
    "    if i == \"B-PER\":\n",
    "        split_conll[n] = \"PERSON\"\n",
    "    if i == \"B-ORG\":\n",
    "        split_conll[n] = \"ORGANIZATION\"\n",
    "    if i == \"B-LOC\":\n",
    "        split_conll[n] = \"LOCATION\"\n",
    "    if i == \"I-MISC\":\n",
    "        split_conll[n] = \"MISC\"\n",
    "    if i == \"B-MISC\":\n",
    "        split_conll[n] = \"MISC\""
   ]
  },
  {
   "cell_type": "code",
   "execution_count": 6,
   "metadata": {
    "id": "IPi1A8V2QxVF"
   },
   "outputs": [],
   "source": [
    "reference_conll=list(zip(split_conll[0::4],split_conll[3::4]))"
   ]
  },
  {
   "cell_type": "code",
   "execution_count": 7,
   "metadata": {
    "id": "-xdt40OpQxVG"
   },
   "outputs": [],
   "source": [
    "conll_tokens = split_conll[::4]"
   ]
  },
  {
   "cell_type": "code",
   "execution_count": 8,
   "metadata": {},
   "outputs": [
    {
     "name": "stdout",
     "output_type": "stream",
     "text": [
      "--2021-03-04 23:37:31--  https://nlp.stanford.edu/software/stanford-ner-4.2.0.zip\n",
      "Resolving nlp.stanford.edu (nlp.stanford.edu)... 171.64.67.140\n",
      "Connecting to nlp.stanford.edu (nlp.stanford.edu)|171.64.67.140|:443... connected.\n",
      "HTTP request sent, awaiting response... 200 OK\n",
      "Length: 180437064 (172M) [application/zip]\n",
      "Saving to: ‘stanford-ner-4.2.0.zip’\n",
      "\n",
      "stanford-ner-4.2.0. 100%[===================>] 172.08M  4.16MB/s    in 35s     \n",
      "\n",
      "2021-03-04 23:38:06 (4.97 MB/s) - ‘stanford-ner-4.2.0.zip’ saved [180437064/180437064]\n",
      "\n"
     ]
    }
   ],
   "source": [
    "!wget https://nlp.stanford.edu/software/stanford-ner-4.2.0.zip"
   ]
  },
  {
   "cell_type": "code",
   "execution_count": 9,
   "metadata": {},
   "outputs": [
    {
     "name": "stdout",
     "output_type": "stream",
     "text": [
      "Archive:  stanford-ner-4.2.0.zip\n",
      "   creating: stanford-ner-2020-11-17/\n",
      "   creating: stanford-ner-2020-11-17/lib/\n",
      "  inflating: stanford-ner-2020-11-17/lib/jollyday-0.4.9.jar  \n",
      "  inflating: stanford-ner-2020-11-17/lib/stanford-ner-resources.jar  \n",
      "  inflating: stanford-ner-2020-11-17/lib/joda-time.jar  \n",
      "  inflating: stanford-ner-2020-11-17/stanford-ner-4.2.0.jar  \n",
      "  inflating: stanford-ner-2020-11-17/NERDemo.java  \n",
      "  inflating: stanford-ner-2020-11-17/LICENSE.txt  \n",
      "  inflating: stanford-ner-2020-11-17/sample-conll-file.txt  \n",
      "  inflating: stanford-ner-2020-11-17/stanford-ner-4.2.0-javadoc.jar  \n",
      "  inflating: stanford-ner-2020-11-17/stanford-ner-4.2.0-sources.jar  \n",
      "  inflating: stanford-ner-2020-11-17/stanford-ner.jar  \n",
      "  inflating: stanford-ner-2020-11-17/sample.txt  \n",
      "  inflating: stanford-ner-2020-11-17/build.xml  \n",
      "  inflating: stanford-ner-2020-11-17/ner-gui.bat  \n",
      "  inflating: stanford-ner-2020-11-17/sample-w-time.txt  \n",
      "  inflating: stanford-ner-2020-11-17/ner-gui.command  \n",
      "   creating: stanford-ner-2020-11-17/classifiers/\n",
      "  inflating: stanford-ner-2020-11-17/classifiers/english.muc.7class.distsim.prop  \n",
      "  inflating: stanford-ner-2020-11-17/classifiers/english.all.3class.distsim.crf.ser.gz  \n",
      "  inflating: stanford-ner-2020-11-17/classifiers/english.conll.4class.distsim.crf.ser.gz  \n",
      "  inflating: stanford-ner-2020-11-17/classifiers/example.serialized.ncc.prop  \n",
      "  inflating: stanford-ner-2020-11-17/classifiers/english.muc.7class.distsim.crf.ser.gz  \n",
      "  inflating: stanford-ner-2020-11-17/classifiers/english.all.3class.distsim.prop  \n",
      "  inflating: stanford-ner-2020-11-17/classifiers/example.serialized.ncc.ncc.ser.gz  \n",
      "  inflating: stanford-ner-2020-11-17/classifiers/english.conll.4class.distsim.prop  \n",
      "  inflating: stanford-ner-2020-11-17/ner-gui.sh  \n",
      "  inflating: stanford-ner-2020-11-17/sample.ner.txt  \n",
      "  inflating: stanford-ner-2020-11-17/ner.bat  \n",
      "  inflating: stanford-ner-2020-11-17/README.txt  \n",
      "  inflating: stanford-ner-2020-11-17/ner.sh  \n"
     ]
    }
   ],
   "source": [
    "!unzip stanford-ner-4.2.0.zip"
   ]
  },
  {
   "cell_type": "code",
   "execution_count": 10,
   "metadata": {},
   "outputs": [
    {
     "name": "stdout",
     "output_type": "stream",
     "text": [
      "build.xml     ner-gui.command\t     sample-w-time.txt\r\n",
      "classifiers   ner-gui.sh\t     stanford-ner-4.2.0.jar\r\n",
      "lib\t      ner.sh\t\t     stanford-ner-4.2.0-javadoc.jar\r\n",
      "LICENSE.txt   README.txt\t     stanford-ner-4.2.0-sources.jar\r\n",
      "ner.bat       sample-conll-file.txt  stanford-ner.jar\r\n",
      "NERDemo.java  sample.ner.txt\r\n",
      "ner-gui.bat   sample.txt\r\n"
     ]
    }
   ],
   "source": [
    "!ls stanford-ner-2020-11-17"
   ]
  },
  {
   "cell_type": "code",
   "execution_count": 11,
   "metadata": {},
   "outputs": [
    {
     "name": "stdout",
     "output_type": "stream",
     "text": [
      "english.all.3class.distsim.crf.ser.gz\t english.muc.7class.distsim.crf.ser.gz\r\n",
      "english.all.3class.distsim.prop\t\t english.muc.7class.distsim.prop\r\n",
      "english.conll.4class.distsim.crf.ser.gz  example.serialized.ncc.ncc.ser.gz\r\n",
      "english.conll.4class.distsim.prop\t example.serialized.ncc.prop\r\n"
     ]
    }
   ],
   "source": [
    "!ls stanford-ner-2020-11-17/classifiers"
   ]
  },
  {
   "cell_type": "code",
   "execution_count": 12,
   "metadata": {
    "id": "UyjJcLRzQxVG"
   },
   "outputs": [],
   "source": [
    "st = StanfordNERTagger('stanford-ner-2020-11-17/classifiers/english.conll.4class.distsim.crf.ser.gz',\n",
    "\t\t\t\t\t   'stanford-ner-2020-11-17/stanford-ner.jar',\n",
    "\t\t\t\t\t   encoding='utf-8')                 \n",
    "stanford_prediction = st.tag(conll_tokens)"
   ]
  },
  {
   "cell_type": "code",
   "execution_count": 13,
   "metadata": {
    "id": "B5KX8-24QxVH"
   },
   "outputs": [],
   "source": [
    "stanford_pred = [x[1] for x in stanford_prediction]"
   ]
  },
  {
   "cell_type": "code",
   "execution_count": 14,
   "metadata": {
    "id": "MWWNo1zjQxVH",
    "outputId": "cf87d5c2-173a-4e5e-d5f4-9bb130918d23"
   },
   "outputs": [
    {
     "data": {
      "text/plain": [
       "0.9007987632053595"
      ]
     },
     "execution_count": 14,
     "metadata": {},
     "output_type": "execute_result"
    }
   ],
   "source": [
    "f1_score(split_conll[3::4], stanford_pred, average='micro',labels=['LOCATION'])"
   ]
  },
  {
   "cell_type": "code",
   "execution_count": 15,
   "metadata": {
    "id": "R8UYQhLbQxVI",
    "outputId": "ea3f215f-93c3-4b42-8424-e2150e4b7fa8"
   },
   "outputs": [
    {
     "data": {
      "text/plain": [
       "0.9497165843847138"
      ]
     },
     "execution_count": 15,
     "metadata": {},
     "output_type": "execute_result"
    }
   ],
   "source": [
    "f1_score(split_conll[3::4], stanford_pred, average='micro',labels=['PERSON'])"
   ]
  },
  {
   "cell_type": "code",
   "execution_count": 16,
   "metadata": {
    "id": "Yon16rfbQxVJ",
    "outputId": "19ba580d-99d6-4baf-ce47-8bc6db624cba"
   },
   "outputs": [
    {
     "data": {
      "text/plain": [
       "0.8582253240279163"
      ]
     },
     "execution_count": 16,
     "metadata": {},
     "output_type": "execute_result"
    }
   ],
   "source": [
    "f1_score(split_conll[3::4], stanford_pred, average='micro',labels=['ORGANIZATION'])"
   ]
  },
  {
   "cell_type": "code",
   "execution_count": 17,
   "metadata": {
    "id": "SuQK2duQQxVJ",
    "outputId": "553b086d-d611-4b62-8990-af2cc68685b8"
   },
   "outputs": [
    {
     "data": {
      "text/plain": [
       "0.7972399150743099"
      ]
     },
     "execution_count": 17,
     "metadata": {},
     "output_type": "execute_result"
    }
   ],
   "source": [
    "f1_score(split_conll[3::4], stanford_pred, average='micro',labels=['MISC'])"
   ]
  },
  {
   "cell_type": "code",
   "execution_count": null,
   "metadata": {
    "id": "Y-Y5piZOQxVK"
   },
   "outputs": [],
   "source": []
  },
  {
   "cell_type": "code",
   "execution_count": null,
   "metadata": {
    "id": "7R1QGNDrQxVK"
   },
   "outputs": [],
   "source": []
  },
  {
   "cell_type": "code",
   "execution_count": null,
   "metadata": {
    "id": "xg48wPQsQxVK"
   },
   "outputs": [],
   "source": []
  },
  {
   "cell_type": "markdown",
   "metadata": {
    "id": "xoZMjUWtQxVK"
   },
   "source": [
    "##SEC-Filings - Pre-Trained"
   ]
  },
  {
   "cell_type": "code",
   "execution_count": 18,
   "metadata": {},
   "outputs": [
    {
     "name": "stdout",
     "output_type": "stream",
     "text": [
      "FIN3.txt\r\n"
     ]
    }
   ],
   "source": [
    "!ls ../../../datasets/SEC-filings/CONLL-format/data/test/"
   ]
  },
  {
   "cell_type": "code",
   "execution_count": 19,
   "metadata": {
    "id": "9vxq6LMfQxVL"
   },
   "outputs": [],
   "source": [
    "raw_sec_test = open(\"../../../datasets/SEC-filings/CONLL-format/data/test/FIN3.txt\").read()\n",
    "split_sec_test = raw_sec_test.split()"
   ]
  },
  {
   "cell_type": "code",
   "execution_count": 20,
   "metadata": {
    "id": "CXEJV_hIQxVL"
   },
   "outputs": [],
   "source": [
    "# Amend class annotations to reflect Stanford's NERTagger\n",
    "for n,i in enumerate(split_sec_test):\n",
    "    if i == \"I-PER\":\n",
    "        split_sec_test[n] = \"PERSON\"\n",
    "    if i == \"I-ORG\":\n",
    "        split_sec_test[n] = \"ORGANIZATION\"\n",
    "    if i == \"I-LOC\":\n",
    "        split_sec_test[n] = \"LOCATION\"\n",
    "    if i == \"B-PER\":\n",
    "        split_sec_test[n] = \"PERSON\"\n",
    "    if i == \"B-ORG\":\n",
    "        split_sec_test[n] = \"ORGANIZATION\"\n",
    "    if i == \"B-LOC\":\n",
    "        split_sec_test[n] = \"LOCATION\"\n",
    "    if i == \"I-MISC\":\n",
    "        split_sec_test[n] = \"MISC\"\n",
    "    if i == \"B-MISC\":\n",
    "        split_sec_test[n] = \"MISC\""
   ]
  },
  {
   "cell_type": "code",
   "execution_count": 21,
   "metadata": {
    "id": "CAppQe6gQxVL"
   },
   "outputs": [],
   "source": [
    "reference_sec_test=list(zip(split_sec_test[0::4],split_sec_test[3::4]))"
   ]
  },
  {
   "cell_type": "code",
   "execution_count": 22,
   "metadata": {
    "id": "87F2wFmsQxVL"
   },
   "outputs": [],
   "source": [
    "sec_test_tokens = split_sec_test[::4]"
   ]
  },
  {
   "cell_type": "code",
   "execution_count": 23,
   "metadata": {
    "id": "Wpq3QB1vQxVM"
   },
   "outputs": [],
   "source": [
    "st = StanfordNERTagger('stanford-ner-2020-11-17/classifiers/english.conll.4class.distsim.crf.ser.gz',\n",
    "\t\t\t\t\t   'stanford-ner-2020-11-17/stanford-ner.jar',\n",
    "\t\t\t\t\t   encoding='utf-8')              \n",
    "stanford_prediction_sec_test = st.tag(sec_test_tokens)"
   ]
  },
  {
   "cell_type": "code",
   "execution_count": 24,
   "metadata": {
    "id": "Weo1O0svQxVM"
   },
   "outputs": [],
   "source": [
    "stanford_pred_sec_test = [x[1] for x in stanford_prediction_sec_test]"
   ]
  },
  {
   "cell_type": "code",
   "execution_count": 25,
   "metadata": {
    "id": "YTvpm_wdQxVM",
    "outputId": "cdbc5b8c-3c2b-4b04-afa8-da274d28b055"
   },
   "outputs": [
    {
     "data": {
      "text/plain": [
       "0.39999999999999997"
      ]
     },
     "execution_count": 25,
     "metadata": {},
     "output_type": "execute_result"
    }
   ],
   "source": [
    "f1_score(split_sec_test[3::4], stanford_pred_sec_test, average='micro',labels=['LOCATION'])"
   ]
  },
  {
   "cell_type": "code",
   "execution_count": 26,
   "metadata": {
    "id": "Gc0Kf5ixQxVM",
    "outputId": "d32ec822-0af5-488f-ce8a-879a550a9181"
   },
   "outputs": [
    {
     "data": {
      "text/plain": [
       "0.2967741935483871"
      ]
     },
     "execution_count": 26,
     "metadata": {},
     "output_type": "execute_result"
    }
   ],
   "source": [
    "f1_score(split_sec_test[3::4], stanford_pred_sec_test, average='micro',labels=['PERSON'])"
   ]
  },
  {
   "cell_type": "code",
   "execution_count": 27,
   "metadata": {
    "id": "vpZoI51OQxVN",
    "outputId": "e86f01ca-84ec-4646-fc84-f0daf322209a"
   },
   "outputs": [
    {
     "data": {
      "text/plain": [
       "0.2608695652173913"
      ]
     },
     "execution_count": 27,
     "metadata": {},
     "output_type": "execute_result"
    }
   ],
   "source": [
    "f1_score(split_sec_test[3::4], stanford_pred_sec_test, average='micro',labels=['ORGANIZATION'])"
   ]
  },
  {
   "cell_type": "code",
   "execution_count": 28,
   "metadata": {
    "id": "vrC-3h6VQxVN",
    "outputId": "a8a63c14-81e5-4989-83e8-0f8caa68eb5f"
   },
   "outputs": [
    {
     "data": {
      "text/plain": [
       "0.04307692307692307"
      ]
     },
     "execution_count": 28,
     "metadata": {},
     "output_type": "execute_result"
    }
   ],
   "source": [
    "f1_score(split_sec_test[3::4], stanford_pred_sec_test, average='micro',labels=['MISC'])"
   ]
  },
  {
   "cell_type": "code",
   "execution_count": null,
   "metadata": {
    "id": "mEVxJPZMQxVN"
   },
   "outputs": [],
   "source": []
  },
  {
   "cell_type": "code",
   "execution_count": null,
   "metadata": {
    "id": "KGNhYbYwQxVO"
   },
   "outputs": [],
   "source": []
  },
  {
   "cell_type": "code",
   "execution_count": null,
   "metadata": {
    "id": "P-F8z8dhQxVO"
   },
   "outputs": [],
   "source": []
  },
  {
   "cell_type": "markdown",
   "metadata": {
    "id": "4TVFm8NSQxVO"
   },
   "source": [
    "##SEC-Filings - Custom-Trained"
   ]
  },
  {
   "cell_type": "code",
   "execution_count": 29,
   "metadata": {},
   "outputs": [
    {
     "name": "stdout",
     "output_type": "stream",
     "text": [
      "FIN5.txt\r\n"
     ]
    }
   ],
   "source": [
    "!ls ../../../datasets/SEC-filings/CONLL-format/data/train/"
   ]
  },
  {
   "cell_type": "code",
   "execution_count": 30,
   "metadata": {
    "id": "1JhE-uJ0QxVO"
   },
   "outputs": [],
   "source": [
    "df = pd.read_csv('../../../datasets/SEC-filings/CONLL-format/data/train/FIN5.txt',sep=' ')"
   ]
  },
  {
   "cell_type": "code",
   "execution_count": 31,
   "metadata": {
    "id": "1947bFRzQxVO"
   },
   "outputs": [],
   "source": [
    "df=df.replace({'O':'O', 'I-ORG':'ORGANIZATION', 'I-PER':'PERSON', 'I-LOC':'LOCATION', 'I-MISC':'MISC'})"
   ]
  },
  {
   "cell_type": "code",
   "execution_count": 32,
   "metadata": {
    "id": "W5e_9ePNQxVP",
    "outputId": "3dd69637-cf68-4f95-c76b-66837c508b0e"
   },
   "outputs": [
    {
     "data": {
      "text/plain": [
       "O               25762\n",
       "PERSON            628\n",
       "ORGANIZATION      193\n",
       "LOCATION          170\n",
       "MISC                7\n",
       "Name: O.1, dtype: int64"
      ]
     },
     "execution_count": 32,
     "metadata": {},
     "output_type": "execute_result"
    }
   ],
   "source": [
    "df['O.1'].value_counts()"
   ]
  },
  {
   "cell_type": "code",
   "execution_count": 33,
   "metadata": {
    "id": "jhORk6gaQxVP"
   },
   "outputs": [],
   "source": [
    "df = df.drop(['-X-','O'],axis=1)"
   ]
  },
  {
   "cell_type": "code",
   "execution_count": 34,
   "metadata": {
    "id": "9yG7y4UzQxVQ"
   },
   "outputs": [],
   "source": [
    "df=df.dropna(subset=['-DOCSTART-'])"
   ]
  },
  {
   "cell_type": "code",
   "execution_count": 35,
   "metadata": {
    "id": "1q-ZxOxwQxVQ"
   },
   "outputs": [],
   "source": [
    "df=df.drop(df[df['-DOCSTART-'].str.contains(r'[^0-9a-zA-Z]')].index,axis=0)"
   ]
  },
  {
   "cell_type": "code",
   "execution_count": 36,
   "metadata": {
    "id": "dKu4CJZJQxVQ"
   },
   "outputs": [],
   "source": [
    "df.to_csv('ner_df.tsv', sep = '\\t', index=False,header=False)"
   ]
  },
  {
   "cell_type": "code",
   "execution_count": null,
   "metadata": {
    "id": "xdjjQzh0QxVQ"
   },
   "outputs": [],
   "source": [
    "# in the terminal run the following command\n",
    "#cd /Users/aminov.sb/Desktop/stanford-ner-tagger\n",
    "#java -cp \"stanford-ner.jar:lib/*\" -mx4g edu.stanford.nlp.ie.crf.CRFClassifier -prop train/prop.txt"
   ]
  },
  {
   "cell_type": "code",
   "execution_count": 37,
   "metadata": {},
   "outputs": [
    {
     "name": "stdout",
     "output_type": "stream",
     "text": [
      "Invoked on Thu Mar 04 23:40:59 UTC 2021 with arguments: -prop prop.txt\n",
      "usePrevSequences=true\n",
      "useClassFeature=true\n",
      "useTypeSeqs2=true\n",
      "useSequences=true\n",
      "wordShape=chris2useLC\n",
      "useTypeySequences=true\n",
      "useDisjunctive=true\n",
      "noMidNGrams=true\n",
      "serializeTo=ner_df.ser.gz\n",
      "maxNGramLeng=3\n",
      "useNGrams=true\n",
      "usePrev=true\n",
      "useNext=true\n",
      "maxLeft=1\n",
      "trainFile=ner_df.tsv\n",
      "map=word=0,answer=1\n",
      "useWord=true\n",
      "useTypeSeqs=true\n",
      "numFeatures = 43673\n",
      "Time to convert docs to feature indices: 1.1 seconds\n",
      "Current memory used: 20m\n",
      "numClasses: 5 [0=O,1=ORGANIZATION,2=LOCATION,3=PERSON,4=MISC]\n",
      "numDocuments: 1\n",
      "numDatums: 22410\n",
      "numFeatures: 43673\n",
      "Time to convert docs to data/labels: 0.6 seconds\n",
      "Current memory used: 38m\n",
      "Running gradient on 2 threads\n",
      "numWeights: 549005\n",
      "QNMinimizer called on double function of 549005 variables, using M = 25.\n",
      "               An explanation of the output:\n",
      "Iter           The number of iterations\n",
      "evals          The number of function evaluations\n",
      "SCALING        <D> Diagonal scaling was used; <I> Scaled Identity\n",
      "LINESEARCH     [## M steplength]  Minpack linesearch\n",
      "                   1-Function value was too high\n",
      "                   2-Value ok, gradient positive, positive curvature\n",
      "                   3-Value ok, gradient negative, positive curvature\n",
      "                   4-Value ok, gradient negative, negative curvature\n",
      "               [.. B]  Backtracking\n",
      "VALUE          The current function value\n",
      "TIME           Total elapsed time\n",
      "|GNORM|        The current norm of the gradient\n",
      "{RELNORM}      The ratio of the current to initial gradient norms\n",
      "AVEIMPROVE     The average improvement / current value\n",
      "EVALSCORE      The last available eval score\n",
      " \n",
      "Iter ## evals ## <SCALING> [LINESEARCH] VALUE TIME |GNORM| {RELNORM} AVEIMPROVE EVALSCORE\n",
      "\n",
      "Iter 1 evals 1 <D> [11M 9.103E-5] 9.803E4 0.92s |3.206E3| {8.033E-2} 0.000E0 - \n",
      "Iter 2 evals 4 <D> [3M 5.000E0] 9.523E4 1.41s |1.825E3| {4.574E-2} 1.467E-2 - \n",
      "Iter 3 evals 6 <D> [M 1.000E0] 9.416E4 1.67s |1.390E3| {3.484E-2} 1.370E-2 - \n",
      "Iter 4 evals 7 <D> [M 1.000E0] 9.230E4 1.94s |6.336E2| {1.588E-2} 1.551E-2 - \n",
      "Iter 5 evals 8 <D> [M 1.000E0] 9.098E4 2.19s |6.176E2| {1.548E-2} 1.549E-2 - \n",
      "Iter 6 evals 9 <D> [M 1.000E0] 8.745E4 2.46s |5.585E3| {1.400E-1} 2.016E-2 - \n",
      "Iter 7 evals 10 <D> [M 1.000E0] 7.747E4 2.79s |5.659E3| {1.418E-1} 3.792E-2 - \n",
      "Iter 8 evals 11 <D> [M 1.000E0] 5.001E4 3.02s |4.068E3| {1.020E-1} 1.200E-1 - \n",
      "Iter 9 evals 12 <D> [M 1.000E0] 4.100E4 3.21s |5.727E2| {1.435E-2} 1.546E-1 - \n",
      "Iter 10 evals 13 <D> [M 1.000E0] 4.006E4 3.42s |4.408E2| {1.105E-2} 1.447E-1 - \n",
      "Iter 11 evals 14 <D> [M 1.000E0] 3.419E4 3.63s |3.251E2| {8.147E-3} 1.785E-1 - \n",
      "Iter 12 evals 15 <D> [M 1.000E0] 2.623E4 3.83s |3.321E2| {8.322E-3} 2.589E-1 - \n",
      "Iter 13 evals 16 <D> [M 1.000E0] 1.894E4 4.01s |3.952E2| {9.903E-3} 3.872E-1 - \n",
      "Iter 14 evals 17 <D> [M 1.000E0] 1.577E4 4.25s |3.401E2| {8.523E-3} 4.770E-1 - \n",
      "Iter 15 evals 18 <D> [M 1.000E0] 1.302E4 4.45s |4.805E2| {1.204E-2} 5.716E-1 - \n",
      "Iter 16 evals 19 <D> [M 1.000E0] 1.061E4 4.67s |2.726E2| {6.831E-3} 6.303E-1 - \n",
      "Iter 17 evals 20 <D> [M 1.000E0] 8.428E3 4.88s |2.492E2| {6.245E-3} 4.934E-1 - \n",
      "Iter 18 evals 21 <D> [M 1.000E0] 6.747E3 5.08s |3.287E2| {8.238E-3} 5.077E-1 - \n",
      "Iter 19 evals 22 <D> [M 1.000E0] 5.877E3 5.28s |1.963E2| {4.919E-3} 5.817E-1 - \n",
      "Iter 20 evals 23 <D> [M 1.000E0] 4.620E3 5.59s |1.274E2| {3.193E-3} 6.402E-1 - \n",
      "Iter 21 evals 24 <D> [M 1.000E0] 3.877E3 5.80s |3.046E2| {7.633E-3} 5.767E-1 - \n",
      "Iter 22 evals 25 <D> [M 1.000E0] 3.101E3 6.05s |2.144E2| {5.373E-3} 5.110E-1 - \n",
      "Iter 23 evals 26 <D> [M 1.000E0] 2.524E3 6.28s |9.485E1| {2.377E-3} 5.246E-1 - \n",
      "Iter 24 evals 27 <D> [M 1.000E0] 2.221E3 6.56s |2.005E2| {5.025E-3} 4.862E-1 - \n",
      "Iter 25 evals 28 <D> [M 1.000E0] 1.916E3 6.89s |1.505E2| {3.770E-3} 4.536E-1 - \n",
      "Iter 26 evals 29 <D> [M 1.000E0] 1.745E3 7.12s |9.322E1| {2.336E-3} 3.829E-1 - \n",
      "Iter 27 evals 30 <D> [M 1.000E0] 1.575E3 7.33s |9.879E1| {2.476E-3} 3.285E-1 - \n",
      "Iter 28 evals 31 <D> [2M 5.130E-1] 1.416E3 7.73s |1.239E2| {3.104E-3} 3.150E-1 - \n",
      "Iter 29 evals 33 <D> [M 1.000E0] 1.309E3 7.97s |1.057E2| {2.648E-3} 2.529E-1 - \n",
      "Iter 30 evals 34 <D> [M 1.000E0] 1.210E3 8.21s |1.190E2| {2.982E-3} 2.204E-1 - \n",
      "Iter 31 evals 35 <D> [M 1.000E0] 1.115E3 8.48s |1.157E2| {2.900E-3} 1.780E-1 - \n",
      "Iter 32 evals 36 <D> [M 1.000E0] 1.075E3 8.72s |5.314E1| {1.332E-3} 1.349E-1 - \n",
      "Iter 33 evals 37 <D> [M 1.000E0] 9.747E2 9.03s |5.693E1| {1.427E-3} 1.279E-1 - \n",
      "Iter 34 evals 38 <D> [2M 4.052E-1] 9.214E2 9.47s |5.472E1| {1.371E-3} 1.080E-1 - \n",
      "Iter 35 evals 40 <D> [1M 1.776E-1] 8.686E2 9.94s |6.076E1| {1.523E-3} 1.009E-1 - \n",
      "Iter 36 evals 42 <D> [2M 3.501E-1] 7.510E2 10.41s |7.493E1| {1.878E-3} 1.097E-1 - \n",
      "Iter 37 evals 44 <D> [M 1.000E0] 5.936E2 10.70s |1.427E2| {3.577E-3} 1.386E-1 - \n",
      "Iter 38 evals 45 <D> [M 1.000E0] 4.609E2 10.98s |8.191E1| {2.053E-3} 1.840E-1 - \n",
      "Iter 39 evals 46 <D> [M 1.000E0] 3.860E2 11.24s |3.900E1| {9.773E-4} 2.135E-1 - \n",
      "Iter 40 evals 47 <D> [1M 4.969E-1] 3.356E2 11.80s |5.560E1| {1.393E-3} 2.324E-1 - \n",
      "Iter 41 evals 49 <D> [M 1.000E0] 2.842E2 12.08s |5.494E1| {1.377E-3} 2.781E-1 - \n",
      "Iter 42 evals 50 <D> [M 1.000E0] 2.466E2 12.36s |2.805E1| {7.030E-4} 2.953E-1 - \n",
      "Iter 43 evals 51 <D> [M 1.000E0] 2.111E2 12.66s |3.630E1| {9.097E-4} 3.364E-1 - \n",
      "Iter 44 evals 52 <D> [M 1.000E0] 1.855E2 12.93s |5.057E1| {1.267E-3} 3.682E-1 - \n",
      "Iter 45 evals 53 <D> [M 1.000E0] 1.644E2 13.22s |1.967E1| {4.929E-4} 3.569E-1 - \n",
      "Iter 46 evals 54 <D> [M 1.000E0] 1.502E2 13.53s |1.629E1| {4.083E-4} 2.951E-1 - \n",
      "Iter 47 evals 55 <D> [M 1.000E0] 1.374E2 13.85s |3.081E1| {7.720E-4} 2.355E-1 - \n",
      "Iter 48 evals 56 <D> [M 1.000E0] 1.283E2 14.22s |1.812E1| {4.540E-4} 2.010E-1 - \n",
      "Iter 49 evals 57 <D> [M 1.000E0] 1.211E2 14.58s |1.115E1| {2.795E-4} 1.771E-1 - \n",
      "Iter 50 evals 58 <D> [M 1.000E0] 1.171E2 14.92s |9.751E0| {2.444E-4} 1.428E-1 - \n",
      "Iter 51 evals 59 <D> [M 1.000E0] 1.127E2 15.24s |1.328E1| {3.328E-4} 1.188E-1 - \n",
      "Iter 52 evals 60 <D> [M 1.000E0] 1.101E2 15.58s |7.688E0| {1.927E-4} 9.171E-2 - \n",
      "Iter 53 evals 61 <D> [M 1.000E0] 1.084E2 15.90s |5.375E0| {1.347E-4} 7.107E-2 - \n",
      "Iter 54 evals 62 <D> [M 1.000E0] 1.068E2 16.17s |5.641E0| {1.413E-4} 5.385E-2 - \n",
      "Iter 55 evals 63 <D> [M 1.000E0] 1.061E2 16.46s |7.644E0| {1.916E-4} 4.157E-2 - \n",
      "Iter 56 evals 64 <D> [M 1.000E0] 1.054E2 16.74s |3.661E0| {9.175E-5} 3.035E-2 - \n",
      "Iter 57 evals 65 <D> [M 1.000E0] 1.049E2 17.03s |3.526E0| {8.836E-5} 2.223E-2 - \n",
      "Iter 58 evals 66 <D> [M 1.000E0] 1.046E2 17.32s |4.895E0| {1.227E-4} 1.581E-2 - \n",
      "Iter 59 evals 67 <D> [M 1.000E0] 1.042E2 17.60s |3.002E0| {7.523E-5} 1.233E-2 - \n",
      "Iter 60 evals 68 <D> [M 1.000E0] 1.039E2 17.89s |2.100E0| {5.262E-5} 8.436E-3 - \n",
      "Iter 61 evals 69 <D> [M 1.000E0] 1.038E2 18.18s |3.144E0| {7.878E-5} 6.142E-3 - \n",
      "Iter 62 evals 70 <D> [M 1.000E0] 1.036E2 18.46s |3.827E0| {9.591E-5} 4.621E-3 - \n",
      "Iter 63 evals 71 <D> [M 1.000E0] 1.035E2 18.75s |1.616E0| {4.049E-5} 3.231E-3 - \n",
      "Iter 64 evals 72 <D> [M 1.000E0] 1.034E2 19.01s |9.875E-1| {2.474E-5} 2.635E-3 - \n",
      "Iter 65 evals 73 <D> [M 1.000E0] 1.033E2 19.29s |1.537E0| {3.852E-5} 2.011E-3 - \n",
      "Iter 66 evals 74 <D> [1M 4.767E-1] 1.033E2 19.77s |1.196E0| {2.997E-5} 1.590E-3 - \n",
      "Iter 67 evals 76 <D> [M 1.000E0] 1.033E2 20.06s |9.076E-1| {2.274E-5} 1.289E-3 - \n",
      "Iter 68 evals 77 <D> [M 1.000E0] 1.032E2 20.34s |8.805E-1| {2.207E-5} 9.411E-4 - \n",
      "Iter 69 evals 78 <D> [M 1.000E0] 1.032E2 20.63s |6.234E-1| {1.562E-5} 7.046E-4 - \n",
      "Iter 70 evals 79 <D> [M 1.000E0] 1.032E2 20.91s |8.188E-1| {2.052E-5} 5.402E-4 - \n",
      "Iter 71 evals 80 <D> [M 1.000E0] 1.032E2 21.17s |3.951E-1| {9.901E-6} 4.536E-4 - \n",
      "Iter 72 evals 81 <D> [M 1.000E0] 1.032E2 21.45s |4.158E-1| {1.042E-5} 3.122E-4 - \n",
      "Iter 73 evals 82 <D> [M 1.000E0] 1.032E2 21.74s |4.571E-1| {1.146E-5} 2.294E-4 - \n",
      "Iter 74 evals 83 <D> [M 1.000E0] 1.032E2 22.03s |1.537E-1| {3.853E-6} 1.547E-4 - \n",
      "Iter 75 evals 84 <D> [M 1.000E0] 1.032E2 22.31s |1.285E-1| {3.220E-6} 1.236E-4 - \n",
      "QNMinimizer terminated due to average improvement: | newest_val - previous_val | / |newestVal| < TOL \n",
      "Total time spent in optimization: 22.59s\n",
      "CRFClassifier training ... done [24.9 sec].\n",
      "Serializing classifier to ner_df.ser.gz... done.\n"
     ]
    }
   ],
   "source": [
    "!java -cp \"stanford-ner-2020-11-17/stanford-ner.jar:lib/*\" -mx4g edu.stanford.nlp.ie.crf.CRFClassifier -prop prop.txt"
   ]
  },
  {
   "cell_type": "code",
   "execution_count": 38,
   "metadata": {
    "id": "kLnTJkb2QxVR"
   },
   "outputs": [],
   "source": [
    "import os\n",
    "jar_engine = 'stanford-ner-2020-11-17/stanford-ner-4.2.0.jar'\n",
    "#load your own ner model\n",
    "model = 'ner_df.ser.gz'\n",
    "\n",
    "#model = '/Users/aminov.sb/Desktop/stanford-ner-tagger/ner_df.ser.gz'"
   ]
  },
  {
   "cell_type": "code",
   "execution_count": 39,
   "metadata": {
    "id": "-M2gaYsJQxVR"
   },
   "outputs": [],
   "source": [
    "entity_tagger=StanfordNERTagger(model,jar_engine, encoding='utf8')"
   ]
  },
  {
   "cell_type": "code",
   "execution_count": 40,
   "metadata": {
    "id": "LUyyJ-rvQxVR"
   },
   "outputs": [],
   "source": [
    "raw_sec_train = open(\"../../../datasets/SEC-filings/CONLL-format/data/test/FIN3.txt\").read()\n",
    "split_sec_train = raw_sec_train.split()"
   ]
  },
  {
   "cell_type": "code",
   "execution_count": 41,
   "metadata": {
    "id": "KmdywscPQxVR"
   },
   "outputs": [],
   "source": [
    "# Amend class annotations to reflect Stanford's NERTagger\n",
    "for n,i in enumerate(split_sec_train):\n",
    "    if i == \"I-PER\":\n",
    "        split_sec_train[n] = \"PERSON\"\n",
    "    if i == \"I-ORG\":\n",
    "        split_sec_train[n] = \"ORGANIZATION\"\n",
    "    if i == \"I-LOC\":\n",
    "        split_sec_train[n] = \"LOCATION\"\n",
    "    if i == \"B-PER\":\n",
    "        split_sec_train[n] = \"PERSON\"\n",
    "    if i == \"B-ORG\":\n",
    "        split_sec_train[n] = \"ORGANIZATION\"\n",
    "    if i == \"B-LOC\":\n",
    "        split_sec_train[n] = \"LOCATION\"\n",
    "    if i == \"I-MISC\":\n",
    "        split_sec_train[n] = \"MISC\"\n",
    "    if i == \"B-MISC\":\n",
    "        split_sec_train[n] = \"MISC\""
   ]
  },
  {
   "cell_type": "code",
   "execution_count": 42,
   "metadata": {
    "id": "XHludBM3QxVS"
   },
   "outputs": [],
   "source": [
    "reference_sec_train=list(zip(split_sec_train[0::4],split_sec_train[3::4]))"
   ]
  },
  {
   "cell_type": "code",
   "execution_count": 43,
   "metadata": {
    "id": "AZKOUu7CQxVS"
   },
   "outputs": [],
   "source": [
    "sec_train_tokens = split_sec_train[::4]"
   ]
  },
  {
   "cell_type": "code",
   "execution_count": 44,
   "metadata": {
    "id": "vAt05cnfQxVS"
   },
   "outputs": [],
   "source": [
    "stanford_prediction_sec_train = entity_tagger.tag(sec_train_tokens)"
   ]
  },
  {
   "cell_type": "code",
   "execution_count": 45,
   "metadata": {
    "id": "nxBFRvCKQxVS"
   },
   "outputs": [],
   "source": [
    "stanford_pred_sec_train = [x[1] for x in stanford_prediction_sec_train]"
   ]
  },
  {
   "cell_type": "code",
   "execution_count": 46,
   "metadata": {
    "id": "zN97uCNtQxVS",
    "outputId": "f43e8812-155a-4c7c-df7d-359dbe841e90"
   },
   "outputs": [
    {
     "data": {
      "text/plain": [
       "0.40384615384615385"
      ]
     },
     "execution_count": 46,
     "metadata": {},
     "output_type": "execute_result"
    }
   ],
   "source": [
    "f1_score(split_sec_train[3::4], stanford_pred_sec_train, average='micro',labels=['LOCATION'])"
   ]
  },
  {
   "cell_type": "code",
   "execution_count": 47,
   "metadata": {
    "id": "QrPnpuEKQxVT",
    "outputId": "f6ca055d-e1fc-43b3-d984-c7d02b1fb89a"
   },
   "outputs": [
    {
     "data": {
      "text/plain": [
       "0.8955916473317866"
      ]
     },
     "execution_count": 47,
     "metadata": {},
     "output_type": "execute_result"
    }
   ],
   "source": [
    "f1_score(split_sec_train[3::4], stanford_pred_sec_train, average='micro',labels=['PERSON'])"
   ]
  },
  {
   "cell_type": "code",
   "execution_count": 48,
   "metadata": {
    "id": "Z8fX-HWVQxVT",
    "outputId": "846699b7-cbb4-48db-d3e4-52cd7b7b2f68"
   },
   "outputs": [
    {
     "data": {
      "text/plain": [
       "0.2518518518518518"
      ]
     },
     "execution_count": 48,
     "metadata": {},
     "output_type": "execute_result"
    }
   ],
   "source": [
    "f1_score(split_sec_train[3::4], stanford_pred_sec_train, average='micro',labels=['ORGANIZATION'])"
   ]
  },
  {
   "cell_type": "code",
   "execution_count": 49,
   "metadata": {
    "id": "Gk_C_SHoQxVT",
    "outputId": "7d3e8df3-30aa-4df8-cef5-dd3855aed4e3"
   },
   "outputs": [
    {
     "data": {
      "text/plain": [
       "0.4444444444444445"
      ]
     },
     "execution_count": 49,
     "metadata": {},
     "output_type": "execute_result"
    }
   ],
   "source": [
    "f1_score(split_sec_train[3::4], stanford_pred_sec_train, average='micro',labels=['MISC'])"
   ]
  },
  {
   "cell_type": "code",
   "execution_count": null,
   "metadata": {
    "id": "jV50Ywn8QxVU"
   },
   "outputs": [],
   "source": []
  },
  {
   "cell_type": "code",
   "execution_count": null,
   "metadata": {
    "id": "aRJZ2XI3QxVU"
   },
   "outputs": [],
   "source": []
  },
  {
   "cell_type": "code",
   "execution_count": null,
   "metadata": {
    "id": "cnxW5O-fQxVV"
   },
   "outputs": [],
   "source": []
  }
 ],
 "metadata": {
  "colab": {
   "collapsed_sections": [],
   "name": "Stanford-ner-complete.ipynb",
   "provenance": []
  },
  "kernelspec": {
   "display_name": "Python 3",
   "language": "python",
   "name": "python3"
  },
  "language_info": {
   "codemirror_mode": {
    "name": "ipython",
    "version": 3
   },
   "file_extension": ".py",
   "mimetype": "text/x-python",
   "name": "python",
   "nbconvert_exporter": "python",
   "pygments_lexer": "ipython3",
   "version": "3.5.2"
  }
 },
 "nbformat": 4,
 "nbformat_minor": 1
}
