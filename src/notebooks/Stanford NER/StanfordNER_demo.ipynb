{
 "cells": [
  {
   "cell_type": "markdown",
   "metadata": {
    "id": "SfcTiyZcQxVE"
   },
   "source": [
    "## CONLL 2003 (English) - Pre-Trained Model"
   ]
  },
  {
   "cell_type": "code",
   "execution_count": 109,
   "metadata": {},
   "outputs": [
    {
     "name": "stdout",
     "output_type": "stream",
     "text": [
      "Requirement already satisfied: pandas in /Users/aminov.sb/opt/anaconda3/lib/python3.7/site-packages (1.1.0)\n",
      "Collecting sklearn\n",
      "  Downloading sklearn-0.0.tar.gz (1.1 kB)\n",
      "Requirement already satisfied: nltk in /Users/aminov.sb/opt/anaconda3/lib/python3.7/site-packages (3.4.5)\n",
      "Requirement already satisfied: six in /Users/aminov.sb/opt/anaconda3/lib/python3.7/site-packages (from nltk) (1.15.0)\n",
      "Requirement already satisfied: pytz>=2017.2 in /Users/aminov.sb/opt/anaconda3/lib/python3.7/site-packages (from pandas) (2019.3)\n",
      "Requirement already satisfied: python-dateutil>=2.7.3 in /Users/aminov.sb/opt/anaconda3/lib/python3.7/site-packages (from pandas) (2.8.0)\n",
      "Requirement already satisfied: numpy>=1.15.4 in /Users/aminov.sb/opt/anaconda3/lib/python3.7/site-packages (from pandas) (1.19.5)\n",
      "Requirement already satisfied: scikit-learn in /Users/aminov.sb/opt/anaconda3/lib/python3.7/site-packages (from sklearn) (0.23.2)\n",
      "Requirement already satisfied: threadpoolctl>=2.0.0 in /Users/aminov.sb/opt/anaconda3/lib/python3.7/site-packages (from scikit-learn->sklearn) (2.1.0)\n",
      "Requirement already satisfied: scipy>=0.19.1 in /Users/aminov.sb/opt/anaconda3/lib/python3.7/site-packages (from scikit-learn->sklearn) (1.4.1)\n",
      "Requirement already satisfied: joblib>=0.11 in /Users/aminov.sb/opt/anaconda3/lib/python3.7/site-packages (from scikit-learn->sklearn) (0.13.2)\n",
      "Building wheels for collected packages: sklearn\n",
      "  Building wheel for sklearn (setup.py) ... \u001b[?25ldone\n",
      "\u001b[?25h  Created wheel for sklearn: filename=sklearn-0.0-py2.py3-none-any.whl size=1316 sha256=a1e9ce17e702ee8a2150a7233085156366daf4d44fc4766f83da2ad994189d6c\n",
      "  Stored in directory: /Users/aminov.sb/Library/Caches/pip/wheels/46/ef/c3/157e41f5ee1372d1be90b09f74f82b10e391eaacca8f22d33e\n",
      "Successfully built sklearn\n",
      "Installing collected packages: sklearn\n",
      "Successfully installed sklearn-0.0\n"
     ]
    }
   ],
   "source": [
    "!pip install pandas sklearn nltk"
   ]
  },
  {
   "cell_type": "code",
   "execution_count": 1,
   "metadata": {
    "id": "HQSm0MKiQxU9"
   },
   "outputs": [],
   "source": [
    "import pandas as pd\n",
    "from sklearn.metrics import f1_score\n",
    "import nltk\n",
    "from nltk.tag import StanfordNERTagger"
   ]
  },
  {
   "cell_type": "code",
   "execution_count": 2,
   "metadata": {},
   "outputs": [
    {
     "output_type": "stream",
     "name": "stdout",
     "text": [
      "ls: ../../datasets/conll/conll2003/: No such file or directory\n"
     ]
    }
   ],
   "source": [
    "!ls ../../datasets/conll/conll2003/"
   ]
  },
  {
   "cell_type": "code",
   "execution_count": 3,
   "metadata": {
    "id": "34hUrBolQxVF"
   },
   "outputs": [],
   "source": [
    "raw_conll_test = open(\"../../../datasets/conll/conll2003/test.txt\").read()\n",
    "split_conll_test = raw_conll_test.split()"
   ]
  },
  {
   "cell_type": "code",
   "execution_count": 6,
   "metadata": {},
   "outputs": [],
   "source": [
    "# Amend class annotations to reflect Stanford's NERTagger\n",
    "for n,i in enumerate(split_conll_test):\n",
    "    if i == \"I-PER\":\n",
    "        split_conll_test[n] = \"PERSON\"\n",
    "    if i == \"I-ORG\":\n",
    "        split_conll_test[n] = \"ORGANIZATION\"\n",
    "    if i == \"I-LOC\":\n",
    "        split_conll_test[n] = \"LOCATION\"\n",
    "    if i == \"B-PER\":\n",
    "        split_conll_test[n] = \"PERSON\"\n",
    "    if i == \"B-ORG\":\n",
    "        split_conll_test[n] = \"ORGANIZATION\"\n",
    "    if i == \"B-LOC\":\n",
    "        split_conll_test[n] = \"LOCATION\"\n",
    "    if i == \"I-MISC\":\n",
    "        split_conll_test[n] = \"MISC\"\n",
    "    if i == \"B-MISC\":\n",
    "        split_conll_test[n] = \"MISC\""
   ]
  },
  {
   "cell_type": "code",
   "execution_count": 7,
   "metadata": {
    "id": "IPi1A8V2QxVF"
   },
   "outputs": [],
   "source": [
    "reference_conll_test=list(zip(split_conll_test[0::4],split_conll_test[3::4]))"
   ]
  },
  {
   "cell_type": "code",
   "execution_count": 8,
   "metadata": {
    "id": "-xdt40OpQxVG"
   },
   "outputs": [],
   "source": [
    "conll_tokens_test = split_conll_test[::4]"
   ]
  },
  {
   "cell_type": "code",
   "execution_count": 12,
   "metadata": {},
   "outputs": [
    {
     "output_type": "stream",
     "name": "stdout",
     "text": [
      "--2021-04-08 01:52:03--  https://nlp.stanford.edu/software/stanford-ner-4.2.0.zip\n",
      "Resolving nlp.stanford.edu (nlp.stanford.edu)... 171.64.67.140\n",
      "Connecting to nlp.stanford.edu (nlp.stanford.edu)|171.64.67.140|:443... connected.\n",
      "HTTP request sent, awaiting response... 302 FOUND\n",
      "Location: https://downloads.cs.stanford.edu/nlp/software/stanford-ner-4.2.0.zip [following]\n",
      "--2021-04-08 01:52:04--  https://downloads.cs.stanford.edu/nlp/software/stanford-ner-4.2.0.zip\n",
      "Resolving downloads.cs.stanford.edu (downloads.cs.stanford.edu)... 171.64.64.22\n",
      "Connecting to downloads.cs.stanford.edu (downloads.cs.stanford.edu)|171.64.64.22|:443... connected.\n",
      "HTTP request sent, awaiting response... 200 OK\n",
      "Length: 180437064 (172M) [application/zip]\n",
      "Saving to: ‘stanford-ner-4.2.0.zip’\n",
      "\n",
      "stanford-ner-4.2.0. 100%[===================>] 172,08M   358KB/s    in 6m 35s  \n",
      "\n",
      "2021-04-08 01:58:41 (446 KB/s) - ‘stanford-ner-4.2.0.zip’ saved [180437064/180437064]\n",
      "\n"
     ]
    }
   ],
   "source": [
    "!wget https://nlp.stanford.edu/software/stanford-ner-4.2.0.zip"
   ]
  },
  {
   "cell_type": "code",
   "execution_count": 17,
   "metadata": {},
   "outputs": [
    {
     "output_type": "stream",
     "name": "stdout",
     "text": [
      "Archive:  stanford-ner-4.2.0.zip\n",
      "replace stanford-ner-2020-11-17/lib/jollyday-0.4.9.jar? [y]es, [n]o, [A]ll, [N]one, [r]ename: ^C\n"
     ]
    }
   ],
   "source": [
    "!unzip stanford-ner-4.2.0.zip"
   ]
  },
  {
   "cell_type": "code",
   "execution_count": 18,
   "metadata": {},
   "outputs": [
    {
     "output_type": "stream",
     "name": "stdout",
     "text": [
      "LICENSE.txt                    \u001b[31mner.sh\u001b[m\u001b[m\nNERDemo.java                   sample-conll-file.txt\nREADME.txt                     sample-w-time.txt\nbuild.xml                      sample.ner.txt\n\u001b[34mclassifiers\u001b[m\u001b[m                    \u001b[31msample.txt\u001b[m\u001b[m\n\u001b[34mlib\u001b[m\u001b[m                            stanford-ner-4.2.0-javadoc.jar\nner-gui.bat                    stanford-ner-4.2.0-sources.jar\n\u001b[31mner-gui.command\u001b[m\u001b[m                stanford-ner-4.2.0.jar\n\u001b[31mner-gui.sh\u001b[m\u001b[m                     stanford-ner.jar\n\u001b[31mner.bat\u001b[m\u001b[m\n"
     ]
    }
   ],
   "source": [
    "!ls stanford-ner-2020-11-17"
   ]
  },
  {
   "cell_type": "code",
   "execution_count": 19,
   "metadata": {},
   "outputs": [
    {
     "output_type": "stream",
     "name": "stdout",
     "text": [
      "english.all.3class.distsim.prop         english.muc.7class.distsim.prop\nenglish.conll.4class.distsim.crf.ser.gz example.serialized.ncc.prop\nenglish.conll.4class.distsim.prop\n"
     ]
    }
   ],
   "source": [
    "!ls stanford-ner-2020-11-17/classifiers"
   ]
  },
  {
   "cell_type": "code",
   "execution_count": 20,
   "metadata": {
    "id": "UyjJcLRzQxVG"
   },
   "outputs": [],
   "source": [
    "st = StanfordNERTagger('stanford-ner-2020-11-17/classifiers/english.conll.4class.distsim.crf.ser.gz',\n",
    "\t\t\t\t\t   'stanford-ner-2020-11-17/stanford-ner.jar',\n",
    "\t\t\t\t\t   encoding='utf-8')                 \n",
    "conll_pred = st.tag(conll_tokens_test)"
   ]
  },
  {
   "cell_type": "code",
   "execution_count": 21,
   "metadata": {
    "id": "B5KX8-24QxVH"
   },
   "outputs": [],
   "source": [
    "conll_pred_tags = [x[1] for x in conll_pred]"
   ]
  },
  {
   "cell_type": "code",
   "execution_count": 22,
   "metadata": {
    "id": "MWWNo1zjQxVH",
    "outputId": "cf87d5c2-173a-4e5e-d5f4-9bb130918d23"
   },
   "outputs": [
    {
     "output_type": "execute_result",
     "data": {
      "text/plain": [
       "0.9007987632053595"
      ]
     },
     "metadata": {},
     "execution_count": 22
    }
   ],
   "source": [
    "f1_score(split_conll_test[3::4], conll_pred_tags, average='micro',labels=['LOCATION'])"
   ]
  },
  {
   "cell_type": "code",
   "execution_count": 23,
   "metadata": {
    "id": "R8UYQhLbQxVI",
    "outputId": "ea3f215f-93c3-4b42-8424-e2150e4b7fa8"
   },
   "outputs": [
    {
     "output_type": "execute_result",
     "data": {
      "text/plain": [
       "0.9497165843847138"
      ]
     },
     "metadata": {},
     "execution_count": 23
    }
   ],
   "source": [
    "f1_score(split_conll_test[3::4], conll_pred_tags, average='micro',labels=['PERSON'])"
   ]
  },
  {
   "cell_type": "code",
   "execution_count": 25,
   "metadata": {
    "id": "Yon16rfbQxVJ",
    "outputId": "19ba580d-99d6-4baf-ce47-8bc6db624cba"
   },
   "outputs": [
    {
     "output_type": "execute_result",
     "data": {
      "text/plain": [
       "0.8582253240279163"
      ]
     },
     "metadata": {},
     "execution_count": 25
    }
   ],
   "source": [
    "f1_score(split_conll_test[3::4], conll_pred_tags, average='micro',labels=['ORGANIZATION'])"
   ]
  },
  {
   "cell_type": "code",
   "execution_count": 26,
   "metadata": {
    "id": "SuQK2duQQxVJ",
    "outputId": "553b086d-d611-4b62-8990-af2cc68685b8"
   },
   "outputs": [
    {
     "output_type": "execute_result",
     "data": {
      "text/plain": [
       "0.7972399150743099"
      ]
     },
     "metadata": {},
     "execution_count": 26
    }
   ],
   "source": [
    "f1_score(split_conll_test[3::4], conll_pred_tags, average='micro',labels=['MISC'])"
   ]
  },
  {
   "cell_type": "code",
   "execution_count": 27,
   "metadata": {},
   "outputs": [
    {
     "output_type": "execute_result",
     "data": {
      "text/plain": [
       "0.9750782154030772"
      ]
     },
     "metadata": {},
     "execution_count": 27
    }
   ],
   "source": [
    "f1_score(split_conll_test[3::4], conll_pred_tags, average='micro')"
   ]
  },
  {
   "cell_type": "code",
   "execution_count": null,
   "metadata": {},
   "outputs": [],
   "source": []
  },
  {
   "cell_type": "code",
   "execution_count": null,
   "metadata": {},
   "outputs": [],
   "source": []
  },
  {
   "cell_type": "markdown",
   "metadata": {
    "id": "Y-Y5piZOQxVK"
   },
   "source": [
    "## CONLL 2003 (English) - Custom-Trained Model"
   ]
  },
  {
   "cell_type": "code",
   "execution_count": null,
   "metadata": {},
   "outputs": [],
   "source": [
    "!ls ../../../conll/conll2003"
   ]
  },
  {
   "cell_type": "code",
   "execution_count": 31,
   "metadata": {},
   "outputs": [],
   "source": [
    "conll_train = pd.read_csv('../../../conll/conll2003/train.txt',sep=' ')"
   ]
  },
  {
   "cell_type": "code",
   "execution_count": 32,
   "metadata": {},
   "outputs": [],
   "source": [
    "conll_train=conll_train.replace({'O':'O', 'B-ORG':'ORGANIZATION', 'B-PER':'PERSON', 'B-LOC':'LOCATION', 'B-MISC':'MISC','I-ORG':'ORGANIZATION', 'I-PER':'PERSON', 'I-LOC':'LOCATION', 'I-MISC':'MISC'}) "
   ]
  },
  {
   "cell_type": "code",
   "execution_count": 33,
   "metadata": {},
   "outputs": [
    {
     "output_type": "execute_result",
     "data": {
      "text/plain": [
       "  -DOCSTART-  -X- -X-.1             O\n",
       "0         EU  NNP  B-NP  ORGANIZATION\n",
       "1    rejects  VBZ  B-VP             O\n",
       "2     German   JJ  B-NP          MISC\n",
       "3       call   NN  I-NP             O\n",
       "4         to   TO  B-VP             O"
      ],
      "text/html": "<div>\n<style scoped>\n    .dataframe tbody tr th:only-of-type {\n        vertical-align: middle;\n    }\n\n    .dataframe tbody tr th {\n        vertical-align: top;\n    }\n\n    .dataframe thead th {\n        text-align: right;\n    }\n</style>\n<table border=\"1\" class=\"dataframe\">\n  <thead>\n    <tr style=\"text-align: right;\">\n      <th></th>\n      <th>-DOCSTART-</th>\n      <th>-X-</th>\n      <th>-X-.1</th>\n      <th>O</th>\n    </tr>\n  </thead>\n  <tbody>\n    <tr>\n      <th>0</th>\n      <td>EU</td>\n      <td>NNP</td>\n      <td>B-NP</td>\n      <td>ORGANIZATION</td>\n    </tr>\n    <tr>\n      <th>1</th>\n      <td>rejects</td>\n      <td>VBZ</td>\n      <td>B-VP</td>\n      <td>O</td>\n    </tr>\n    <tr>\n      <th>2</th>\n      <td>German</td>\n      <td>JJ</td>\n      <td>B-NP</td>\n      <td>MISC</td>\n    </tr>\n    <tr>\n      <th>3</th>\n      <td>call</td>\n      <td>NN</td>\n      <td>I-NP</td>\n      <td>O</td>\n    </tr>\n    <tr>\n      <th>4</th>\n      <td>to</td>\n      <td>TO</td>\n      <td>B-VP</td>\n      <td>O</td>\n    </tr>\n  </tbody>\n</table>\n</div>"
     },
     "metadata": {},
     "execution_count": 33
    }
   ],
   "source": [
    "conll_train.head()"
   ]
  },
  {
   "cell_type": "code",
   "execution_count": 34,
   "metadata": {},
   "outputs": [
    {
     "output_type": "execute_result",
     "data": {
      "text/plain": [
       "O               168345\n",
       "PERSON           11128\n",
       "ORGANIZATION     10025\n",
       "LOCATION          8297\n",
       "MISC              4593\n",
       "Name: O, dtype: int64"
      ]
     },
     "metadata": {},
     "execution_count": 34
    }
   ],
   "source": [
    "conll_train['O'].value_counts() "
   ]
  },
  {
   "cell_type": "code",
   "execution_count": 35,
   "metadata": {},
   "outputs": [],
   "source": [
    "conll_train = conll_train.drop(['-X-','-X-.1'],axis=1) "
   ]
  },
  {
   "cell_type": "code",
   "execution_count": 36,
   "metadata": {},
   "outputs": [],
   "source": [
    "conll_train=conll_train.dropna(subset=['-DOCSTART-']) "
   ]
  },
  {
   "cell_type": "code",
   "execution_count": 226,
   "metadata": {},
   "outputs": [],
   "source": [
    "conll_train.to_csv('../../../conll/conll2003/train.tsv', sep = '\\t', index=False,header=False) "
   ]
  },
  {
   "cell_type": "code",
   "execution_count": 228,
   "metadata": {},
   "outputs": [
    {
     "output_type": "stream",
     "name": "stdout",
     "text": [
      "Invoked on Mon Apr 05 03:44:46 ALMT 2021 with arguments: -prop prop_conll.txt\n",
      "usePrevSequences=true\n",
      "useClassFeature=true\n",
      "useTypeSeqs2=true\n",
      "useSequences=true\n",
      "wordShape=chris2useLC\n",
      "useTypeySequences=true\n",
      "useDisjunctive=true\n",
      "noMidNGrams=true\n",
      "serializeTo=conll_ner.ser.gz\n",
      "maxNGramLeng=3\n",
      "useNGrams=true\n",
      "usePrev=true\n",
      "useNext=true\n",
      "maxLeft=1\n",
      "trainFile=train.tsv\n",
      "map=word=0,answer=1\n",
      "useWord=true\n",
      "useTypeSeqs=true\n",
      "numFeatures = 406281\n",
      "Time to convert docs to feature indices: 3.4 seconds\n",
      "Current memory used: 279m\n",
      "numClasses: 5 [0=O,1=ORGANIZATION,2=MISC,3=PERSON,4=LOCATION]\n",
      "numDocuments: 2154\n",
      "numDatums: 202385\n",
      "numFeatures: 406281\n",
      "Time to convert docs to data/labels: 2.8 seconds\n",
      "Current memory used: 378m\n",
      "Running gradient on 8 threads\n",
      "numWeights: 5260025\n",
      "QNMinimizer called on double function of 5260025 variables, using M = 25.\n",
      "               An explanation of the output:\n",
      "Iter           The number of iterations\n",
      "evals          The number of function evaluations\n",
      "SCALING        <D> Diagonal scaling was used; <I> Scaled Identity\n",
      "LINESEARCH     [## M steplength]  Minpack linesearch\n",
      "                   1-Function value was too high\n",
      "                   2-Value ok, gradient positive, positive curvature\n",
      "                   3-Value ok, gradient negative, positive curvature\n",
      "                   4-Value ok, gradient negative, negative curvature\n",
      "               [.. B]  Backtracking\n",
      "VALUE          The current function value\n",
      "TIME           Total elapsed time\n",
      "|GNORM|        The current norm of the gradient\n",
      "{RELNORM}      The ratio of the current to initial gradient norms\n",
      "AVEIMPROVE     The average improvement / current value\n",
      "EVALSCORE      The last available eval score\n",
      " \n",
      "Iter ## evals ## <SCALING> [LINESEARCH] VALUE TIME |GNORM| {RELNORM} AVEIMPROVE EVALSCORE\n",
      "\n",
      "Iter 1 evals 1 <D> [1113M 1.695E-5] 1.157E6 3.64s |9.069E4| {3.534E-1} 0.000E0 - \n",
      "Iter 2 evals 6 <D> [M 1.000E0] 1.074E6 5.88s |7.082E4| {2.760E-1} 3.868E-2 - \n",
      "Iter 3 evals 7 <D> [1M 3.712E-1] 1.006E6 7.46s |2.338E4| {9.109E-2} 5.001E-2 - \n",
      "Iter 4 evals 9 <D> [M 1.000E0] 9.921E5 8.28s |2.009E4| {7.827E-2} 4.160E-2 - \n",
      "Iter 5 evals 10 <D> [M 1.000E0] 9.555E5 9.04s |1.817E4| {7.078E-2} 4.223E-2 - \n",
      "Iter 6 evals 11 <D> [M 1.000E0] 9.460E5 11.57s |2.242E4| {8.738E-2} 3.721E-2 - \n",
      "Iter 7 evals 12 <D> [M 1.000E0] 9.346E5 12.54s |1.094E4| {4.262E-2} 3.403E-2 - \n",
      "Iter 8 evals 13 <D> [M 1.000E0] 9.280E5 14.93s |9.577E3| {3.732E-2} 3.088E-2 - \n",
      "Iter 9 evals 14 <D> [M 1.000E0] 9.225E5 16.13s |6.603E3| {2.573E-2} 2.828E-2 - \n",
      "Iter 10 evals 15 <D> [M 1.000E0] 9.143E5 17.10s |1.138E4| {4.434E-2} 2.657E-2 - \n",
      "Iter 11 evals 16 <D> [M 1.000E0] 9.081E5 18.11s |9.800E3| {3.819E-2} 1.828E-2 - \n",
      "Iter 12 evals 17 <D> [M 1.000E0] 9.023E5 19.11s |3.300E3| {1.286E-2} 1.152E-2 - \n",
      "Iter 13 evals 18 <D> [M 1.000E0] 8.963E5 21.37s |2.553E3| {9.950E-3} 1.069E-2 - \n",
      "Iter 14 evals 19 <D> [M 1.000E0] 8.820E5 22.76s |4.183E3| {1.630E-2} 8.325E-3 - \n",
      "Iter 15 evals 20 <D> [M 1.000E0] 8.705E5 23.93s |1.105E4| {4.305E-2} 8.678E-3 - \n",
      "Iter 16 evals 21 <D> [M 1.000E0] 8.417E5 26.27s |6.222E3| {2.425E-2} 1.104E-2 - \n",
      "Iter 17 evals 22 <D> [M 1.000E0] 7.844E5 27.40s |3.713E3| {1.447E-2} 1.830E-2 - \n",
      "Iter 18 evals 23 <D> [M 1.000E0] 6.699E5 30.49s |4.696E3| {1.830E-2} 3.770E-2 - \n",
      "Iter 19 evals 24 <D> [M 1.000E0] 6.177E5 32.82s |3.068E3| {1.195E-2} 4.802E-2 - \n",
      "Iter 20 evals 25 <D> [M 1.000E0] 5.931E5 34.01s |3.006E3| {1.171E-2} 5.310E-2 - \n",
      "Iter 21 evals 26 <D> [M 1.000E0] 4.911E5 35.17s |1.199E4| {4.673E-2} 8.372E-2 - \n",
      "Iter 22 evals 27 <D> [M 1.000E0] 4.557E5 36.43s |1.084E4| {4.225E-2} 9.671E-2 - \n",
      "Iter 23 evals 28 <D> [M 1.000E0] 3.935E5 40.74s |2.721E3| {1.060E-2} 1.242E-1 - \n",
      "Iter 24 evals 29 <D> [M 1.000E0] 3.175E5 42.67s |2.015E3| {7.852E-3} 1.742E-1 - \n",
      "Iter 25 evals 30 <D> [M 1.000E0] 2.631E5 44.18s |2.042E3| {7.955E-3} 2.199E-1 - \n",
      "Iter 26 evals 31 <D> [M 1.000E0] 2.269E5 46.93s |4.127E3| {1.608E-2} 2.457E-1 - \n",
      "Iter 27 evals 32 <D> [2M 4.605E-1] 1.867E5 49.68s |2.780E3| {1.083E-2} 2.589E-1 - \n",
      "Iter 28 evals 34 <D> [M 1.000E0] 1.485E5 51.25s |3.761E3| {1.465E-2} 3.159E-1 - \n",
      "Iter 29 evals 35 <D> [M 1.000E0] 1.289E5 53.33s |2.045E3| {7.969E-3} 3.603E-1 - \n",
      "Iter 30 evals 36 <D> [M 1.000E0] 1.084E5 54.92s |1.577E3| {6.144E-3} 3.530E-1 - \n",
      "Iter 31 evals 37 <D> [1M 2.735E-1] 9.948E4 57.77s |1.569E3| {6.115E-3} 3.580E-1 - \n",
      "Iter 32 evals 39 <D> [M 1.000E0] 8.463E4 59.65s |2.367E3| {9.223E-3} 3.650E-1 - \n",
      "Iter 33 evals 40 <D> [M 1.000E0] 7.630E4 61.81s |9.951E2| {3.877E-3} 3.161E-1 - \n",
      "Iter 34 evals 41 <D> [M 1.000E0] 7.012E4 63.42s |2.152E3| {8.386E-3} 2.752E-1 - \n",
      "Iter 35 evals 42 <D> [M 1.000E0] 6.222E4 65.36s |1.345E3| {5.240E-3} 2.647E-1 - \n",
      "Iter 36 evals 43 <D> [M 1.000E0] 5.884E4 67.13s |3.007E3| {1.172E-2} 2.172E-1 - \n",
      "Iter 37 evals 44 <D> [M 1.000E0] 5.276E4 68.72s |1.224E3| {4.768E-3} 1.815E-1 - \n",
      "Iter 38 evals 45 <D> [M 1.000E0] 4.838E4 70.58s |1.302E3| {5.072E-3} 1.663E-1 - \n",
      "Iter 39 evals 46 <D> [M 1.000E0] 4.337E4 72.17s |1.402E3| {5.462E-3} 1.499E-1 - \n",
      "Iter 40 evals 47 <D> [M 1.000E0] 3.847E4 74.03s |1.153E3| {4.491E-3} 1.586E-1 - \n",
      "Iter 41 evals 48 <D> [M 1.000E0] 3.580E4 75.62s |2.954E3| {1.151E-2} 1.364E-1 - \n",
      "Iter 42 evals 49 <D> [1M 1.538E-1] 3.459E4 79.54s |2.034E3| {7.924E-3} 1.206E-1 - \n",
      "Iter 43 evals 51 <D> [M 1.000E0] 3.303E4 81.14s |6.384E2| {2.487E-3} 1.123E-1 - \n",
      "Iter 44 evals 52 <D> [M 1.000E0] 3.183E4 83.01s |1.002E3| {3.905E-3} 9.550E-2 - \n",
      "Iter 45 evals 53 <D> [M 1.000E0] 3.098E4 84.61s |1.009E3| {3.930E-3} 8.995E-2 - \n",
      "Iter 46 evals 54 <D> [M 1.000E0] 2.938E4 86.52s |9.773E2| {3.808E-3} 7.954E-2 - \n",
      "Iter 47 evals 55 <D> [M 1.000E0] 2.652E4 88.29s |9.089E2| {3.542E-3} 8.247E-2 - \n",
      "Iter 48 evals 56 <D> [M 1.000E0] 2.368E4 90.06s |6.960E2| {2.712E-3} 8.313E-2 - \n",
      "Iter 49 evals 57 <D> [M 1.000E0] 2.096E4 92.14s |1.045E3| {4.073E-3} 8.354E-2 - \n",
      "Iter 50 evals 58 <D> [1M 2.054E-1] 1.966E4 96.13s |7.539E2| {2.937E-3} 8.208E-2 - \n",
      "Iter 51 evals 60 <D> [M 1.000E0] 1.777E4 97.79s |6.682E2| {2.604E-3} 9.463E-2 - \n",
      "Iter 52 evals 61 <D> [M 1.000E0] 1.635E4 99.44s |5.713E2| {2.226E-3} 1.020E-1 - \n",
      "Iter 53 evals 62 <D> [M 1.000E0] 1.466E4 101.36s |6.776E2| {2.640E-3} 1.171E-1 - \n",
      "Iter 54 evals 63 <D> [M 1.000E0] 1.372E4 103.07s |1.844E3| {7.187E-3} 1.257E-1 - \n",
      "Iter 55 evals 64 <D> [M 1.000E0] 1.235E4 105.46s |1.031E3| {4.016E-3} 1.379E-1 - \n",
      "Iter 56 evals 65 <D> [M 1.000E0] 1.131E4 108.36s |6.143E2| {2.394E-3} 1.345E-1 - \n",
      "Iter 57 evals 66 <D> [M 1.000E0] 1.047E4 110.41s |8.532E2| {3.325E-3} 1.261E-1 - \n",
      "Iter 58 evals 67 <D> [M 1.000E0] 9.836E3 112.42s |1.509E3| {5.880E-3} 1.131E-1 - \n",
      "Iter 59 evals 68 <D> [M 1.000E0] 8.955E3 114.19s |3.984E2| {1.552E-3} 1.196E-1 - \n",
      "Iter 60 evals 69 <D> [M 1.000E0] 8.491E3 116.26s |3.028E2| {1.180E-3} 1.093E-1 - \n",
      "Iter 61 evals 70 <D> [M 1.000E0] 7.945E3 117.98s |1.293E3| {5.040E-3} 1.058E-1 - \n",
      "Iter 62 evals 71 <D> [M 1.000E0] 7.194E3 119.93s |9.329E2| {3.635E-3} 1.038E-1 - \n",
      "Iter 63 evals 72 <D> [M 1.000E0] 6.905E3 121.60s |4.059E2| {1.582E-3} 9.874E-2 - \n",
      "Iter 64 evals 73 <D> [M 1.000E0] 6.532E3 123.43s |4.053E2| {1.579E-3} 8.910E-2 - \n",
      "Iter 65 evals 74 <D> [2M 5.033E-1] 6.253E3 126.30s |3.565E2| {1.389E-3} 8.080E-2 - \n",
      "Iter 66 evals 76 <D> [M 1.000E0] 5.910E3 128.26s |4.309E2| {1.679E-3} 7.725E-2 - \n",
      "Iter 67 evals 77 <D> [M 1.000E0] 5.593E3 130.12s |2.438E2| {9.500E-4} 7.585E-2 - \n",
      "Iter 68 evals 78 <D> [M 1.000E0] 5.216E3 132.08s |2.020E2| {7.873E-4} 7.169E-2 - \n",
      "Iter 69 evals 79 <D> [M 1.000E0] 5.002E3 133.75s |9.347E2| {3.642E-3} 6.975E-2 - \n",
      "Iter 70 evals 80 <D> [1M 4.707E-1] 4.759E3 136.71s |3.707E2| {1.445E-3} 6.695E-2 - \n",
      "Iter 71 evals 82 <D> [M 1.000E0] 4.579E3 138.50s |1.545E2| {6.021E-4} 5.712E-2 - \n",
      "Iter 72 evals 83 <D> [M 1.000E0] 4.437E3 140.44s |2.117E2| {8.249E-4} 5.563E-2 - \n",
      "Iter 73 evals 84 <D> [M 1.000E0] 4.178E3 142.17s |3.325E2| {1.296E-3} 5.634E-2 - \n",
      "Iter 74 evals 85 <D> [M 1.000E0] 4.022E3 143.88s |2.100E2| {8.184E-4} 5.547E-2 - \n",
      "Iter 75 evals 86 <D> [M 1.000E0] 3.862E3 145.91s |3.189E2| {1.243E-3} 5.303E-2 - \n",
      "Iter 76 evals 87 <D> [M 1.000E0] 3.781E3 148.18s |4.087E2| {1.593E-3} 4.792E-2 - \n",
      "Iter 77 evals 88 <D> [M 1.000E0] 3.682E3 150.13s |2.287E2| {8.912E-4} 4.167E-2 - \n",
      "Iter 78 evals 89 <D> [M 1.000E0] 3.602E3 152.10s |1.327E2| {5.172E-4} 3.888E-2 - \n",
      "Iter 79 evals 90 <D> [M 1.000E0] 3.523E3 154.84s |1.303E2| {5.075E-4} 3.508E-2 - \n",
      "Iter 80 evals 91 <D> [M 1.000E0] 3.435E3 156.71s |1.534E2| {5.976E-4} 3.328E-2 - \n",
      "Iter 81 evals 92 <D> [M 1.000E0] 3.384E3 158.93s |2.267E2| {8.832E-4} 3.113E-2 - \n",
      "Iter 82 evals 93 <D> [M 1.000E0] 3.339E3 161.36s |3.032E2| {1.181E-3} 2.515E-2 - \n",
      "Iter 83 evals 94 <D> [M 1.000E0] 3.313E3 165.42s |2.812E2| {1.096E-3} 2.140E-2 - \n",
      "Iter 84 evals 95 <D> [M 1.000E0] 3.269E3 167.68s |1.241E2| {4.836E-4} 1.814E-2 - \n",
      "Iter 85 evals 96 <D> [M 1.000E0] 3.248E3 169.45s |1.189E2| {4.632E-4} 1.643E-2 - \n",
      "Iter 86 evals 97 <D> [M 1.000E0] 3.219E3 171.57s |9.177E1| {3.576E-4} 1.437E-2 - \n",
      "Iter 87 evals 98 <D> [M 1.000E0] 3.185E3 173.94s |1.135E2| {4.422E-4} 1.308E-2 - \n",
      "Iter 88 evals 99 <D> [M 1.000E0] 3.163E3 175.81s |1.157E2| {4.507E-4} 1.141E-2 - \n",
      "Iter 89 evals 100 <D> [M 1.000E0] 3.155E3 178.04s |2.222E2| {8.658E-4} 8.884E-3 - \n",
      "Iter 90 evals 101 <D> [M 1.000E0] 3.133E3 179.89s |7.566E1| {2.948E-4} 8.016E-3 - \n",
      "Iter 91 evals 102 <D> [M 1.000E0] 3.121E3 182.04s |5.713E1| {2.226E-4} 6.971E-3 - \n",
      "Iter 92 evals 103 <D> [M 1.000E0] 3.106E3 183.92s |1.306E2| {5.088E-4} 6.653E-3 - \n",
      "Iter 93 evals 104 <D> [1M 3.407E-1] 3.097E3 186.87s |8.182E1| {3.188E-4} 5.556E-3 - \n",
      "Iter 94 evals 106 <D> [M 1.000E0] 3.089E3 188.61s |4.913E1| {1.915E-4} 5.148E-3 - \n",
      "Iter 95 evals 107 <D> [M 1.000E0] 3.078E3 190.61s |4.038E1| {1.573E-4} 4.573E-3 - \n",
      "Iter 96 evals 108 <D> [M 1.000E0] 3.068E3 192.31s |5.364E1| {2.090E-4} 3.804E-3 - \n",
      "Iter 97 evals 109 <D> [M 1.000E0] 3.066E3 194.09s |1.696E2| {6.609E-4} 3.136E-3 - \n",
      "Iter 98 evals 110 <D> [M 1.000E0] 3.058E3 196.12s |1.042E2| {4.060E-4} 3.170E-3 - \n",
      "Iter 99 evals 111 <D> [M 1.000E0] 3.051E3 197.81s |4.423E1| {1.723E-4} 2.664E-3 - \n",
      "Iter 100 evals 112 <D> [M 1.000E0] 3.047E3 199.74s |2.828E1| {1.102E-4} 2.430E-3 - \n",
      "Iter 101 evals 113 <D> [M 1.000E0] 3.039E3 201.44s |5.202E1| {2.027E-4} 2.218E-3 - \n",
      "Iter 102 evals 114 <D> [M 1.000E0] 3.036E3 203.40s |8.702E1| {3.391E-4} 1.988E-3 - \n",
      "Iter 103 evals 115 <D> [M 1.000E0] 3.030E3 205.07s |3.867E1| {1.507E-4} 1.944E-3 - \n",
      "Iter 104 evals 116 <D> [2M 5.136E-1] 3.027E3 207.91s |4.510E1| {1.757E-4} 1.688E-3 - \n",
      "Iter 105 evals 118 <D> [M 1.000E0] 3.023E3 209.67s |3.384E1| {1.319E-4} 1.490E-3 - \n",
      "Iter 106 evals 119 <D> [M 1.000E0] 3.019E3 211.81s |4.073E1| {1.587E-4} 1.562E-3 - \n",
      "Iter 107 evals 120 <D> [M 1.000E0] 3.016E3 213.56s |3.458E1| {1.348E-4} 1.408E-3 - \n",
      "Iter 108 evals 121 <D> [M 1.000E0] 3.012E3 216.12s |4.326E1| {1.685E-4} 1.307E-3 - \n",
      "Iter 109 evals 122 <D> [M 1.000E0] 3.009E3 217.85s |7.506E1| {2.925E-4} 1.274E-3 - \n",
      "Iter 110 evals 123 <D> [1M 4.242E-1] 3.007E3 224.22s |4.462E1| {1.739E-4} 1.066E-3 - \n",
      "Iter 111 evals 125 <D> [M 1.000E0] 3.005E3 229.91s |3.056E1| {1.191E-4} 1.057E-3 - \n",
      "Iter 112 evals 126 <D> [M 1.000E0] 3.003E3 231.88s |5.393E1| {2.101E-4} 8.994E-4 - \n",
      "Iter 113 evals 127 <D> [M 1.000E0] 3.000E3 233.52s |5.003E1| {1.949E-4} 8.991E-4 - \n",
      "Iter 114 evals 128 <D> [M 1.000E0] 2.998E3 235.15s |3.153E1| {1.229E-4} 8.433E-4 - \n",
      "Iter 115 evals 129 <D> [M 1.000E0] 2.997E3 237.06s |7.425E1| {2.893E-4} 7.519E-4 - \n",
      "Iter 116 evals 130 <D> [M 1.000E0] 2.994E3 238.67s |4.136E1| {1.612E-4} 7.267E-4 - \n",
      "Iter 117 evals 131 <D> [M 1.000E0] 2.993E3 240.53s |6.635E1| {2.585E-4} 6.193E-4 - \n",
      "Iter 118 evals 132 <D> [M 1.000E0] 2.991E3 242.14s |2.539E1| {9.895E-5} 6.022E-4 - \n",
      "Iter 119 evals 133 <D> [M 1.000E0] 2.989E3 243.73s |2.693E1| {1.049E-4} 6.124E-4 - \n",
      "Iter 120 evals 134 <D> [1M 2.485E-1] 2.987E3 246.62s |5.876E1| {2.290E-4} 5.755E-4 - \n",
      "Iter 121 evals 136 <D> [M 1.000E0] 2.986E3 248.60s |3.267E1| {1.273E-4} 5.737E-4 - \n",
      "Iter 122 evals 137 <D> [M 1.000E0] 2.984E3 250.21s |2.020E1| {7.872E-5} 5.449E-4 - \n",
      "Iter 123 evals 138 <D> [M 1.000E0] 2.981E3 252.09s |2.665E1| {1.039E-4} 5.662E-4 - \n",
      "Iter 124 evals 139 <D> [M 1.000E0] 2.978E3 253.70s |5.757E1| {2.243E-4} 6.197E-4 - \n",
      "Iter 125 evals 140 <D> [1M 2.191E-1] 2.976E3 258.33s |6.290E1| {2.451E-4} 5.886E-4 - \n",
      "Iter 126 evals 142 <D> [M 1.000E0] 2.974E3 262.42s |2.871E1| {1.119E-4} 6.496E-4 - \n",
      "Iter 127 evals 143 <D> [M 1.000E0] 2.972E3 264.79s |1.954E1| {7.614E-5} 6.244E-4 - \n",
      "Iter 128 evals 144 <D> [M 1.000E0] 2.970E3 266.75s |2.533E1| {9.869E-5} 6.234E-4 - \n",
      "Iter 129 evals 145 <D> [M 1.000E0] 2.968E3 268.94s |3.978E1| {1.550E-4} 6.586E-4 - \n",
      "Iter 130 evals 146 <D> [M 1.000E0] 2.965E3 270.96s |2.909E1| {1.134E-4} 6.941E-4 - \n",
      "Iter 131 evals 147 <D> [M 1.000E0] 2.963E3 272.78s |4.541E1| {1.769E-4} 6.962E-4 - \n",
      "Iter 132 evals 148 <D> [M 1.000E0] 2.962E3 274.90s |7.276E1| {2.835E-4} 6.438E-4 - \n",
      "Iter 133 evals 149 <D> [M 1.000E0] 2.959E3 276.60s |2.170E1| {8.454E-5} 6.491E-4 - \n",
      "Iter 134 evals 150 <D> [M 1.000E0] 2.958E3 278.66s |1.308E1| {5.097E-5} 6.267E-4 - \n",
      "Iter 135 evals 151 <D> [M 1.000E0] 2.956E3 280.35s |4.936E1| {1.923E-4} 6.229E-4 - \n",
      "Iter 136 evals 152 <D> [M 1.000E0] 2.954E3 282.10s |3.848E1| {1.500E-4} 6.187E-4 - \n",
      "Iter 137 evals 153 <D> [1M 3.802E-1] 2.953E3 285.13s |3.065E1| {1.194E-4} 5.711E-4 - \n",
      "Iter 138 evals 155 <D> [M 1.000E0] 2.952E3 287.30s |1.673E1| {6.517E-5} 5.365E-4 - \n",
      "Iter 139 evals 156 <D> [M 1.000E0] 2.951E3 289.10s |1.737E1| {6.770E-5} 4.641E-4 - \n",
      "Iter 140 evals 157 <D> [M 1.000E0] 2.950E3 291.13s |2.384E1| {9.288E-5} 4.498E-4 - \n",
      "Iter 141 evals 158 <D> [2M 4.994E-1] 2.949E3 293.81s |2.725E1| {1.062E-4} 4.340E-4 - \n",
      "Iter 142 evals 160 <D> [M 1.000E0] 2.949E3 295.79s |4.695E1| {1.829E-4} 3.355E-4 - \n",
      "Iter 143 evals 161 <D> [M 1.000E0] 2.948E3 297.50s |1.821E1| {7.096E-5} 3.191E-4 - \n",
      "Iter 144 evals 162 <D> [M 1.000E0] 2.948E3 299.50s |1.468E1| {5.719E-5} 2.621E-4 - \n",
      "Iter 145 evals 163 <D> [M 1.000E0] 2.947E3 301.22s |1.226E1| {4.779E-5} 2.227E-4 - \n",
      "Iter 146 evals 164 <D> [M 1.000E0] 2.947E3 302.93s |2.367E1| {9.224E-5} 2.152E-4 - \n",
      "Iter 147 evals 165 <D> [2M 5.084E-1] 2.947E3 306.07s |1.608E1| {6.266E-5} 1.895E-4 - \n",
      "Iter 148 evals 167 <D> [M 1.000E0] 2.946E3 308.17s |1.485E1| {5.786E-5} 1.733E-4 - \n",
      "Iter 149 evals 168 <D> [M 1.000E0] 2.946E3 309.97s |8.690E0| {3.386E-5} 1.420E-4 - \n",
      "Iter 150 evals 169 <D> [M 1.000E0] 2.945E3 311.94s |8.762E0| {3.414E-5} 1.313E-4 - \n",
      "Iter 151 evals 170 <D> [M 1.000E0] 2.945E3 313.63s |1.192E1| {4.643E-5} 1.355E-4 - \n",
      "Iter 152 evals 171 <D> [1M 3.768E-1] 2.945E3 316.49s |1.737E1| {6.768E-5} 1.111E-4 - \n",
      "Iter 153 evals 173 <D> [M 1.000E0] 2.945E3 318.23s |8.671E0| {3.379E-5} 1.083E-4 - \n",
      "QNMinimizer terminated due to average improvement: | newest_val - previous_val | / |newestVal| < TOL \n",
      "Total time spent in optimization: 320.25s\n",
      "CRFClassifier training ... done [329.9 sec].\n",
      "Serializing classifier to conll_ner.ser.gz... done.\n"
     ]
    }
   ],
   "source": [
    "!java -cp \"stanford-ner.jar:lib/*\" -mx4g edu.stanford.nlp.ie.crf.CRFClassifier -prop prop_conll.txt"
   ]
  },
  {
   "cell_type": "code",
   "execution_count": 44,
   "metadata": {},
   "outputs": [],
   "source": [
    "import os\n",
    "jar_engine = 'stanford-ner.jar'\n",
    "#load your own ner model\n",
    "model = 'conll_ner.ser.gz'"
   ]
  },
  {
   "cell_type": "code",
   "execution_count": 45,
   "metadata": {},
   "outputs": [],
   "source": [
    "entity_tagger=StanfordNERTagger(model,jar_engine, encoding='utf8') "
   ]
  },
  {
   "cell_type": "code",
   "execution_count": 46,
   "metadata": {},
   "outputs": [],
   "source": [
    "conll_test = open(\"../../../conll/conll2003/test.txt\").read()\n",
    "conll_test_split = conll_test.split()"
   ]
  },
  {
   "cell_type": "code",
   "execution_count": 47,
   "metadata": {},
   "outputs": [],
   "source": [
    "# Amend class annotations to reflect Stanford's NERTagger\n",
    "for n,i in enumerate(conll_test_split):\n",
    "    if i == \"I-PER\":\n",
    "        conll_test_split[n] = \"PERSON\"\n",
    "    if i == \"I-ORG\":\n",
    "        conll_test_split[n] = \"ORGANIZATION\"\n",
    "    if i == \"I-LOC\":\n",
    "        conll_test_split[n] = \"LOCATION\"\n",
    "    if i == \"B-PER\":\n",
    "        conll_test_split[n] = \"PERSON\"\n",
    "    if i == \"B-ORG\":\n",
    "        conll_test_split[n] = \"ORGANIZATION\"\n",
    "    if i == \"B-LOC\":\n",
    "        conll_test_split[n] = \"LOCATION\"\n",
    "    if i == \"I-MISC\":\n",
    "        conll_test_split[n] = \"MISC\"\n",
    "    if i == \"B-MISC\":\n",
    "        conll_test_split[n] = \"MISC\""
   ]
  },
  {
   "cell_type": "code",
   "execution_count": 48,
   "metadata": {},
   "outputs": [],
   "source": [
    "conll_test=list(zip(conll_test_split[0::4],conll_test_split[3::4]))"
   ]
  },
  {
   "cell_type": "code",
   "execution_count": 49,
   "metadata": {},
   "outputs": [],
   "source": [
    "conll_words = conll_test_split[0::4]\n",
    "conll_tags = conll_test_split[3::4]"
   ]
  },
  {
   "cell_type": "code",
   "execution_count": 50,
   "metadata": {},
   "outputs": [],
   "source": [
    "conll_pred = entity_tagger.tag(conll_words)"
   ]
  },
  {
   "cell_type": "code",
   "execution_count": 51,
   "metadata": {},
   "outputs": [],
   "source": [
    "conll_pred = [x[1] for x in conll_pred]"
   ]
  },
  {
   "cell_type": "code",
   "execution_count": 52,
   "metadata": {},
   "outputs": [
    {
     "output_type": "execute_result",
     "data": {
      "text/plain": [
       "0.8553326293558606"
      ]
     },
     "metadata": {},
     "execution_count": 52
    }
   ],
   "source": [
    "f1_score(conll_tags, conll_pred, average='micro',labels=['LOCATION'])"
   ]
  },
  {
   "cell_type": "code",
   "execution_count": 53,
   "metadata": {},
   "outputs": [
    {
     "output_type": "execute_result",
     "data": {
      "text/plain": [
       "0.9105895000895897"
      ]
     },
     "metadata": {},
     "execution_count": 53
    }
   ],
   "source": [
    "f1_score(conll_tags, conll_pred, average='micro',labels=['PERSON'])"
   ]
  },
  {
   "cell_type": "code",
   "execution_count": 54,
   "metadata": {},
   "outputs": [
    {
     "output_type": "execute_result",
     "data": {
      "text/plain": [
       "0.8175241157556271"
      ]
     },
     "metadata": {},
     "execution_count": 54
    }
   ],
   "source": [
    "f1_score(conll_tags, conll_pred, average='micro',labels=['ORGANIZATION'])"
   ]
  },
  {
   "cell_type": "code",
   "execution_count": 55,
   "metadata": {},
   "outputs": [
    {
     "output_type": "execute_result",
     "data": {
      "text/plain": [
       "0.7560064068339563"
      ]
     },
     "metadata": {},
     "execution_count": 55
    }
   ],
   "source": [
    "f1_score(conll_tags, conll_pred, average='micro',labels=['MISC'])"
   ]
  },
  {
   "cell_type": "code",
   "execution_count": 56,
   "metadata": {},
   "outputs": [
    {
     "output_type": "execute_result",
     "data": {
      "text/plain": [
       "0.9907150452576705"
      ]
     },
     "metadata": {},
     "execution_count": 56
    }
   ],
   "source": [
    "f1_score(conll_tags, conll_pred, average='micro',labels=['O'])"
   ]
  },
  {
   "cell_type": "code",
   "execution_count": 57,
   "metadata": {},
   "outputs": [
    {
     "output_type": "execute_result",
     "data": {
      "text/plain": [
       "0.9664852355033643"
      ]
     },
     "metadata": {},
     "execution_count": 57
    }
   ],
   "source": [
    "f1_score(conll_tags, conll_pred, average='micro')"
   ]
  },
  {
   "cell_type": "code",
   "execution_count": null,
   "metadata": {},
   "outputs": [],
   "source": []
  },
  {
   "cell_type": "code",
   "execution_count": null,
   "metadata": {},
   "outputs": [],
   "source": []
  },
  {
   "cell_type": "markdown",
   "metadata": {
    "id": "xoZMjUWtQxVK"
   },
   "source": [
    "## SEC-Filings - Pre-Trained"
   ]
  },
  {
   "cell_type": "code",
   "execution_count": 18,
   "metadata": {},
   "outputs": [
    {
     "name": "stdout",
     "output_type": "stream",
     "text": [
      "FIN3.txt\n"
     ]
    }
   ],
   "source": [
    "!ls ../../../datasets/SEC-filings/CONLL-format/data/test/"
   ]
  },
  {
   "cell_type": "code",
   "execution_count": 58,
   "metadata": {
    "id": "9vxq6LMfQxVL"
   },
   "outputs": [],
   "source": [
    "sec_test = open(\"../../../datasets/SEC-filings/CONLL-format/data/test/FIN3.txt\").read()\n",
    "sec_test_split = sec_test.split()"
   ]
  },
  {
   "cell_type": "code",
   "execution_count": 59,
   "metadata": {
    "id": "CXEJV_hIQxVL"
   },
   "outputs": [],
   "source": [
    "# Amend class annotations to reflect Stanford's NERTagger\n",
    "for n,i in enumerate(sec_test_split):\n",
    "    if i == \"I-PER\":\n",
    "        sec_test_split[n] = \"PERSON\"\n",
    "    if i == \"I-ORG\":\n",
    "        sec_test_split[n] = \"ORGANIZATION\"\n",
    "    if i == \"I-LOC\":\n",
    "        sec_test_split[n] = \"LOCATION\"\n",
    "    if i == \"B-PER\":\n",
    "        sec_test_split[n] = \"PERSON\"\n",
    "    if i == \"B-ORG\":\n",
    "        sec_test_split[n] = \"ORGANIZATION\"\n",
    "    if i == \"B-LOC\":\n",
    "        sec_test_split[n] = \"LOCATION\"\n",
    "    if i == \"I-MISC\":\n",
    "        sec_test_split[n] = \"MISC\"\n",
    "    if i == \"B-MISC\":\n",
    "        sec_test_split[n] = \"MISC\""
   ]
  },
  {
   "cell_type": "code",
   "execution_count": 61,
   "metadata": {
    "id": "CAppQe6gQxVL"
   },
   "outputs": [],
   "source": [
    "sec_test=list(zip(sec_test_split[0::4],sec_test_split[3::4]))"
   ]
  },
  {
   "cell_type": "code",
   "execution_count": 63,
   "metadata": {
    "id": "87F2wFmsQxVL"
   },
   "outputs": [],
   "source": [
    "sec_words = sec_test_split[0::4]\n",
    "sec_tags = sec_test_split[3::4]"
   ]
  },
  {
   "cell_type": "code",
   "execution_count": 67,
   "metadata": {
    "id": "Wpq3QB1vQxVM"
   },
   "outputs": [],
   "source": [
    "st = StanfordNERTagger('/stanford-ner-2020-11-17/classifiers/english.conll.4class.distsim.crf.ser.gz',\n",
    "\t\t\t\t\t   '/stanford ner/stanford-ner-2020-11-17/stanford-ner.jar',\n",
    "\t\t\t\t\t   encoding='utf-8')              \n",
    "sec_pred = st.tag(sec_words)"
   ]
  },
  {
   "cell_type": "code",
   "execution_count": 68,
   "metadata": {
    "id": "Weo1O0svQxVM"
   },
   "outputs": [],
   "source": [
    "sec_pred = [x[1] for x in sec_pred]"
   ]
  },
  {
   "cell_type": "code",
   "execution_count": 69,
   "metadata": {
    "id": "YTvpm_wdQxVM",
    "outputId": "cdbc5b8c-3c2b-4b04-afa8-da274d28b055"
   },
   "outputs": [
    {
     "output_type": "execute_result",
     "data": {
      "text/plain": [
       "0.39999999999999997"
      ]
     },
     "metadata": {},
     "execution_count": 69
    }
   ],
   "source": [
    "f1_score(sec_test_split[3::4], sec_pred, average='micro',labels=['LOCATION'])"
   ]
  },
  {
   "cell_type": "code",
   "execution_count": 70,
   "metadata": {
    "id": "Gc0Kf5ixQxVM",
    "outputId": "d32ec822-0af5-488f-ce8a-879a550a9181"
   },
   "outputs": [
    {
     "output_type": "execute_result",
     "data": {
      "text/plain": [
       "0.2967741935483871"
      ]
     },
     "metadata": {},
     "execution_count": 70
    }
   ],
   "source": [
    "f1_score(sec_test_split[3::4], sec_pred, average='micro',labels=['PERSON'])"
   ]
  },
  {
   "cell_type": "code",
   "execution_count": 71,
   "metadata": {
    "id": "vpZoI51OQxVN",
    "outputId": "e86f01ca-84ec-4646-fc84-f0daf322209a"
   },
   "outputs": [
    {
     "output_type": "execute_result",
     "data": {
      "text/plain": [
       "0.2608695652173913"
      ]
     },
     "metadata": {},
     "execution_count": 71
    }
   ],
   "source": [
    "f1_score(sec_test_split[3::4], sec_pred, average='micro',labels=['ORGANIZATION'])"
   ]
  },
  {
   "cell_type": "code",
   "execution_count": 72,
   "metadata": {
    "id": "vrC-3h6VQxVN",
    "outputId": "a8a63c14-81e5-4989-83e8-0f8caa68eb5f"
   },
   "outputs": [
    {
     "output_type": "execute_result",
     "data": {
      "text/plain": [
       "0.04307692307692307"
      ]
     },
     "metadata": {},
     "execution_count": 72
    }
   ],
   "source": [
    "f1_score(sec_test_split[3::4], sec_pred, average='micro',labels=['MISC'])"
   ]
  },
  {
   "cell_type": "code",
   "execution_count": 73,
   "metadata": {
    "id": "mEVxJPZMQxVN"
   },
   "outputs": [
    {
     "output_type": "execute_result",
     "data": {
      "text/plain": [
       "0.9269378821043097"
      ]
     },
     "metadata": {},
     "execution_count": 73
    }
   ],
   "source": [
    "f1_score(sec_test_split[3::4], sec_pred, average='micro')"
   ]
  },
  {
   "cell_type": "code",
   "execution_count": null,
   "metadata": {
    "id": "KGNhYbYwQxVO"
   },
   "outputs": [],
   "source": []
  },
  {
   "cell_type": "code",
   "execution_count": null,
   "metadata": {
    "id": "P-F8z8dhQxVO"
   },
   "outputs": [],
   "source": []
  },
  {
   "cell_type": "markdown",
   "metadata": {
    "id": "4TVFm8NSQxVO"
   },
   "source": [
    "## SEC-Filings - Custom-Trained"
   ]
  },
  {
   "cell_type": "code",
   "execution_count": 118,
   "metadata": {},
   "outputs": [],
   "source": [
    "sec_train = open(\"../../../datasets/SEC-filings/CONLL-format/data/test/FIN5.txt\").read()\n",
    "sec_train_split = sec_train.split()"
   ]
  },
  {
   "cell_type": "code",
   "execution_count": 119,
   "metadata": {},
   "outputs": [],
   "source": [
    "# Amend class annotations to reflect Stanford's NERTagger\n",
    "for n,i in enumerate(sec_train_split):\n",
    "    if i == \"I-PER\":\n",
    "        sec_train_split[n] = \"PERSON\"\n",
    "    if i == \"I-ORG\":\n",
    "        sec_train_split[n] = \"ORGANIZATION\"\n",
    "    if i == \"I-LOC\":\n",
    "        sec_train_split[n] = \"LOCATION\"\n",
    "    if i == \"B-PER\":\n",
    "        sec_train_split[n] = \"PERSON\"\n",
    "    if i == \"B-ORG\":\n",
    "        sec_train_split[n] = \"ORGANIZATION\"\n",
    "    if i == \"B-LOC\":\n",
    "        sec_train_split[n] = \"LOCATION\"\n",
    "    if i == \"I-MISC\":\n",
    "        sec_train_split[n] = \"MISC\"\n",
    "    if i == \"B-MISC\":\n",
    "        sec_train_split[n] = \"MISC\""
   ]
  },
  {
   "cell_type": "code",
   "execution_count": 120,
   "metadata": {},
   "outputs": [],
   "source": [
    "sec_train=list(zip(sec_train_split[0::4],sec_train_split[3::4]))"
   ]
  },
  {
   "cell_type": "code",
   "execution_count": 122,
   "metadata": {},
   "outputs": [],
   "source": [
    "sec_words = sec_test_split[0::4]\n",
    "sec_tags = sec_test_split[3::4]"
   ]
  },
  {
   "cell_type": "code",
   "execution_count": 123,
   "metadata": {},
   "outputs": [],
   "source": [
    "import pandas as pd\n",
    "df = pd.DataFrame(sec_train)"
   ]
  },
  {
   "cell_type": "code",
   "execution_count": 125,
   "metadata": {},
   "outputs": [],
   "source": [
    "df.to_csv('sec_train.tsv', sep = '\\t', index=False,header=False)"
   ]
  },
  {
   "cell_type": "code",
   "execution_count": 126,
   "metadata": {},
   "outputs": [
    {
     "output_type": "stream",
     "name": "stdout",
     "text": [
      "Invoked on Thu Apr 08 03:29:56 ALMT 2021 with arguments: -prop prop_sec.txt\n",
      "usePrevSequences=true\n",
      "useClassFeature=true\n",
      "useTypeSeqs2=true\n",
      "useSequences=true\n",
      "wordShape=chris2useLC\n",
      "useTypeySequences=true\n",
      "useDisjunctive=true\n",
      "noMidNGrams=true\n",
      "serializeTo=sec_custom.ser.gz\n",
      "maxNGramLeng=3\n",
      "useNGrams=true\n",
      "usePrev=true\n",
      "useNext=true\n",
      "maxLeft=1\n",
      "trainFile=sec_train.tsv\n",
      "map=word=0,answer=1\n",
      "useWord=true\n",
      "useTypeSeqs=true\n",
      "numFeatures = 64044\n",
      "Time to convert docs to feature indices: 0.9 seconds\n",
      "Current memory used: 144m\n",
      "numClasses: 5 [0=O,1=ORGANIZATION,2=LOCATION,3=PERSON,4=MISC]\n",
      "numDocuments: 1\n",
      "numDatums: 41015\n",
      "numFeatures: 64044\n",
      "Time to convert docs to data/labels: 0.5 seconds\n",
      "Current memory used: 175m\n",
      "Running gradient on 8 threads\n",
      "numWeights: 800520\n",
      "QNMinimizer called on double function of 800520 variables, using M = 25.\n",
      "               An explanation of the output:\n",
      "Iter           The number of iterations\n",
      "evals          The number of function evaluations\n",
      "SCALING        <D> Diagonal scaling was used; <I> Scaled Identity\n",
      "LINESEARCH     [## M steplength]  Minpack linesearch\n",
      "                   1-Function value was too high\n",
      "                   2-Value ok, gradient positive, positive curvature\n",
      "                   3-Value ok, gradient negative, positive curvature\n",
      "                   4-Value ok, gradient negative, negative curvature\n",
      "               [.. B]  Backtracking\n",
      "VALUE          The current function value\n",
      "TIME           Total elapsed time\n",
      "|GNORM|        The current norm of the gradient\n",
      "{RELNORM}      The ratio of the current to initial gradient norms\n",
      "AVEIMPROVE     The average improvement / current value\n",
      "EVALSCORE      The last available eval score\n",
      " \n",
      "Iter ## evals ## <SCALING> [LINESEARCH] VALUE TIME |GNORM| {RELNORM} AVEIMPROVE EVALSCORE\n",
      "\n",
      "Iter 1 evals 1 <D> [11M 9.202E-5] 1.545E5 1.18s |5.331E3| {7.761E-2} 0.000E0 - \n",
      "Iter 2 evals 4 <D> [331M 7.206E0] 1.394E5 2.60s |2.210E3| {3.217E-2} 5.407E-2 - \n",
      "Iter 3 evals 8 <D> [1M 3.619E-1] 1.382E5 3.46s |1.997E3| {2.907E-2} 3.951E-2 - \n",
      "Iter 4 evals 10 <D> [M 1.000E0] 1.365E5 3.86s |1.856E3| {2.702E-2} 3.292E-2 - \n",
      "Iter 5 evals 11 <D> [M 1.000E0] 1.344E5 4.25s |7.200E2| {1.048E-2} 2.994E-2 - \n",
      "Iter 6 evals 12 <D> [M 1.000E0] 1.331E5 4.63s |1.082E3| {1.575E-2} 2.689E-2 - \n",
      "Iter 7 evals 13 <D> [M 1.000E0] 1.304E5 5.03s |3.895E3| {5.671E-2} 2.649E-2 - \n",
      "Iter 8 evals 14 <D> [M 1.000E0] 1.225E5 5.44s |1.471E3| {2.141E-2} 3.263E-2 - \n",
      "Iter 9 evals 15 <D> [M 1.000E0] 1.063E5 5.83s |1.676E3| {2.439E-2} 5.045E-2 - \n",
      "Iter 10 evals 16 <D> [M 1.000E0] 7.501E4 6.37s |5.965E3| {8.685E-2} 1.060E-1 - \n",
      "Iter 11 evals 17 <D> [1M 2.991E-1] 6.914E4 6.91s |1.316E3| {1.916E-2} 1.017E-1 - \n",
      "Iter 12 evals 19 <D> [M 1.000E0] 6.607E4 7.22s |6.924E2| {1.008E-2} 1.091E-1 - \n",
      "Iter 13 evals 20 <D> [M 1.000E0] 6.464E4 7.55s |5.415E2| {7.884E-3} 1.112E-1 - \n",
      "Iter 14 evals 21 <D> [M 1.000E0] 5.929E4 7.92s |4.212E2| {6.133E-3} 1.267E-1 - \n",
      "Iter 15 evals 22 <D> [M 1.000E0] 4.727E4 8.27s |4.886E2| {7.114E-3} 1.815E-1 - \n",
      "Iter 16 evals 23 <D> [2M 4.115E-1] 3.283E4 8.91s |5.053E2| {7.356E-3} 2.971E-1 - \n",
      "Iter 17 evals 25 <D> [1M 3.074E-1] 2.497E4 9.46s |5.693E2| {8.288E-3} 3.909E-1 - \n",
      "Iter 18 evals 27 <D> [1M 3.733E-1] 1.985E4 10.05s |5.667E2| {8.250E-3} 4.355E-1 - \n",
      "Iter 19 evals 29 <D> [M 1.000E0] 1.706E4 10.34s |5.671E2| {8.257E-3} 3.396E-1 - \n",
      "Iter 20 evals 30 <D> [M 1.000E0] 1.555E4 10.64s |3.858E2| {5.617E-3} 3.446E-1 - \n",
      "Iter 21 evals 31 <D> [1M 9.130E-2] 1.409E4 11.53s |5.506E2| {8.016E-3} 3.689E-1 - \n",
      "Iter 22 evals 33 <D> [M 1.000E0] 1.281E4 11.94s |1.720E3| {2.504E-2} 4.045E-1 - \n",
      "Iter 23 evals 34 <D> [M 1.000E0] 1.119E4 12.25s |6.034E2| {8.785E-3} 4.297E-1 - \n",
      "Iter 24 evals 35 <D> [M 1.000E0] 1.020E4 12.62s |4.294E2| {6.252E-3} 3.632E-1 - \n",
      "Iter 25 evals 36 <D> [M 1.000E0] 9.075E3 12.95s |7.124E2| {1.037E-2} 2.618E-1 - \n",
      "Iter 26 evals 37 <D> [M 1.000E0] 7.891E3 13.29s |2.891E2| {4.209E-3} 2.164E-1 - \n",
      "Iter 27 evals 38 <D> [M 1.000E0] 7.159E3 13.65s |2.556E2| {3.721E-3} 1.772E-1 - \n",
      "Iter 28 evals 39 <D> [M 1.000E0] 6.162E3 14.00s |5.578E2| {8.120E-3} 1.769E-1 - \n",
      "Iter 29 evals 40 <D> [M 1.000E0] 5.316E3 14.34s |3.667E2| {5.339E-3} 1.925E-1 - \n",
      "Iter 30 evals 41 <D> [M 1.000E0] 4.783E3 14.86s |1.456E2| {2.119E-3} 1.945E-1 - \n",
      "Iter 31 evals 42 <D> [M 1.000E0] 4.180E3 15.19s |1.390E2| {2.024E-3} 2.065E-1 - \n",
      "Iter 32 evals 43 <D> [1M 6.394E-2] 4.022E3 15.88s |1.354E2| {1.971E-3} 1.783E-1 - \n",
      "Iter 33 evals 45 <D> [1M 1.588E-1] 3.683E3 16.48s |1.340E2| {1.951E-3} 1.771E-1 - \n",
      "Iter 34 evals 47 <D> [1M 4.977E-1] 3.094E3 17.07s |1.954E2| {2.844E-3} 1.933E-1 - \n",
      "Iter 35 evals 49 <D> [M 1.000E0] 2.800E3 17.45s |1.837E2| {2.674E-3} 1.818E-1 - \n",
      "Iter 36 evals 50 <D> [M 1.000E0] 2.497E3 17.85s |1.960E2| {2.854E-3} 1.868E-1 - \n",
      "Iter 37 evals 51 <D> [M 1.000E0] 2.233E3 18.35s |1.412E2| {2.056E-3} 1.759E-1 - \n",
      "Iter 38 evals 52 <D> [M 1.000E0] 1.986E3 18.73s |1.432E2| {2.085E-3} 1.676E-1 - \n",
      "Iter 39 evals 53 <D> [M 1.000E0] 1.673E3 19.15s |1.572E2| {2.289E-3} 1.858E-1 - \n",
      "Iter 40 evals 54 <D> [M 1.000E0] 1.405E3 19.55s |1.245E2| {1.813E-3} 1.976E-1 - \n",
      "Iter 41 evals 55 <D> [2M 3.338E-1] 1.272E3 20.25s |8.536E1| {1.243E-3} 2.163E-1 - \n",
      "Iter 42 evals 57 <D> [M 1.000E0] 1.065E3 20.66s |1.763E2| {2.567E-3} 2.458E-1 - \n",
      "Iter 43 evals 58 <D> [M 1.000E0] 9.204E2 21.08s |1.242E2| {1.807E-3} 2.361E-1 - \n",
      "Iter 44 evals 59 <D> [M 1.000E0] 8.178E2 21.50s |7.701E1| {1.121E-3} 2.424E-1 - \n",
      "Iter 45 evals 60 <D> [2M 4.261E-1] 7.350E2 22.26s |6.344E1| {9.236E-4} 2.397E-1 - \n",
      "Iter 46 evals 62 <D> [2M 2.873E-1] 6.695E2 23.04s |5.327E1| {7.756E-4} 2.336E-1 - \n",
      "Iter 47 evals 64 <D> [1M 3.723E-1] 5.811E2 23.83s |5.316E1| {7.740E-4} 2.418E-1 - \n",
      "Iter 48 evals 66 <D> [M 1.000E0] 4.972E2 24.30s |9.140E1| {1.331E-3} 2.366E-1 - \n",
      "Iter 49 evals 67 <D> [M 1.000E0] 4.359E2 24.78s |4.555E1| {6.632E-4} 2.222E-1 - \n",
      "Iter 50 evals 68 <D> [M 1.000E0] 3.947E2 25.23s |3.801E1| {5.534E-4} 2.222E-1 - \n",
      "Iter 51 evals 69 <D> [1M 3.643E-1] 3.407E2 26.12s |5.666E1| {8.249E-4} 2.126E-1 - \n",
      "Iter 52 evals 71 <D> [M 1.000E0] 3.034E2 26.58s |5.941E1| {8.649E-4} 2.033E-1 - \n",
      "Iter 53 evals 72 <D> [M 1.000E0] 2.735E2 27.04s |3.121E1| {4.544E-4} 1.991E-1 - \n",
      "Iter 54 evals 73 <D> [M 1.000E0] 2.552E2 27.50s |2.577E1| {3.752E-4} 1.880E-1 - \n",
      "Iter 55 evals 74 <D> [M 1.000E0] 2.313E2 27.95s |3.315E1| {4.826E-4} 1.894E-1 - \n",
      "Iter 56 evals 75 <D> [M 1.000E0] 2.188E2 28.41s |3.423E1| {4.983E-4} 1.656E-1 - \n",
      "Iter 57 evals 76 <D> [M 1.000E0] 2.077E2 28.86s |4.452E1| {6.481E-4} 1.394E-1 - \n",
      "Iter 58 evals 77 <D> [M 1.000E0] 2.000E2 29.32s |2.368E1| {3.447E-4} 1.180E-1 - \n",
      "Iter 59 evals 78 <D> [M 1.000E0] 1.935E2 29.79s |1.363E1| {1.984E-4} 1.040E-1 - \n",
      "Iter 60 evals 79 <D> [M 1.000E0] 1.884E2 30.25s |1.234E1| {1.797E-4} 8.087E-2 - \n",
      "Iter 61 evals 80 <D> [M 1.000E0] 1.848E2 30.76s |1.304E1| {1.898E-4} 6.420E-2 - \n",
      "Iter 62 evals 81 <D> [M 1.000E0] 1.819E2 31.24s |8.828E0| {1.285E-4} 5.037E-2 - \n",
      "Iter 63 evals 82 <D> [M 1.000E0] 1.802E2 31.77s |1.002E1| {1.459E-4} 4.166E-2 - \n",
      "Iter 64 evals 83 <D> [M 1.000E0] 1.789E2 32.26s |6.788E0| {9.882E-5} 2.931E-2 - \n",
      "Iter 65 evals 84 <D> [M 1.000E0] 1.779E2 32.74s |5.654E0| {8.232E-5} 2.294E-2 - \n",
      "Iter 66 evals 85 <D> [M 1.000E0] 1.772E2 33.21s |6.741E0| {9.815E-5} 1.718E-2 - \n",
      "Iter 67 evals 86 <D> [M 1.000E0] 1.767E2 33.71s |6.152E0| {8.957E-5} 1.316E-2 - \n",
      "Iter 68 evals 87 <D> [M 1.000E0] 1.762E2 34.21s |4.715E0| {6.865E-5} 9.789E-3 - \n",
      "Iter 69 evals 88 <D> [M 1.000E0] 1.758E2 34.66s |4.602E0| {6.699E-5} 7.135E-3 - \n",
      "Iter 70 evals 89 <D> [M 1.000E0] 1.755E2 35.13s |4.027E0| {5.862E-5} 5.300E-3 - \n",
      "Iter 71 evals 90 <D> [M 1.000E0] 1.752E2 35.60s |3.469E0| {5.051E-5} 3.798E-3 - \n",
      "Iter 72 evals 91 <D> [M 1.000E0] 1.749E2 36.05s |3.051E0| {4.442E-5} 2.993E-3 - \n",
      "Iter 73 evals 92 <D> [M 1.000E0] 1.747E2 36.49s |2.861E0| {4.165E-5} 2.406E-3 - \n",
      "Iter 74 evals 93 <D> [M 1.000E0] 1.746E2 37.00s |6.709E0| {9.767E-5} 1.906E-3 - \n",
      "Iter 75 evals 94 <D> [M 1.000E0] 1.744E2 37.50s |1.688E0| {2.458E-5} 1.628E-3 - \n",
      "Iter 76 evals 95 <D> [M 1.000E0] 1.743E2 38.01s |1.390E0| {2.024E-5} 1.383E-3 - \n",
      "Iter 77 evals 96 <D> [M 1.000E0] 1.742E2 38.51s |2.545E0| {3.705E-5} 1.172E-3 - \n",
      "Iter 78 evals 97 <D> [M 1.000E0] 1.741E2 38.97s |1.689E0| {2.459E-5} 9.879E-4 - \n",
      "Iter 79 evals 98 <D> [M 1.000E0] 1.741E2 39.44s |1.367E0| {1.990E-5} 8.180E-4 - \n",
      "Iter 80 evals 99 <D> [M 1.000E0] 1.741E2 39.89s |1.605E0| {2.337E-5} 6.534E-4 - \n",
      "Iter 81 evals 100 <D> [M 1.000E0] 1.740E2 40.37s |6.897E-1| {1.004E-5} 5.142E-4 - \n",
      "Iter 82 evals 101 <D> [M 1.000E0] 1.740E2 40.86s |5.195E-1| {7.563E-6} 3.734E-4 - \n",
      "Iter 83 evals 102 <D> [M 1.000E0] 1.740E2 41.35s |1.332E0| {1.939E-5} 3.449E-4 - \n",
      "Iter 84 evals 103 <D> [1M 2.507E-1] 1.740E2 42.17s |6.110E-1| {8.895E-6} 2.148E-4 - \n",
      "Iter 85 evals 105 <D> [M 1.000E0] 1.740E2 42.62s |3.819E-1| {5.560E-6} 1.641E-4 - \n",
      "Iter 86 evals 106 <D> [M 1.000E0] 1.740E2 43.08s |5.192E-1| {7.560E-6} 1.052E-4 - \n",
      "QNMinimizer terminated due to average improvement: | newest_val - previous_val | / |newestVal| < TOL \n",
      "Total time spent in optimization: 43.55s\n",
      "CRFClassifier training ... done [46.1 sec].\n",
      "Serializing classifier to sec_custom.ser.gz... done.\n"
     ]
    }
   ],
   "source": [
    "!java -cp \"stanford-ner.jar:lib/*\" -mx4g edu.stanford.nlp.ie.crf.CRFClassifier -prop prop_sec.txt"
   ]
  },
  {
   "cell_type": "code",
   "execution_count": 128,
   "metadata": {
    "id": "kLnTJkb2QxVR"
   },
   "outputs": [],
   "source": [
    "import os\n",
    "jar_engine = 'stanford-ner.jar'\n",
    "#load your own ner model\n",
    "model = 'sec_custom.ser.gz'"
   ]
  },
  {
   "cell_type": "code",
   "execution_count": 129,
   "metadata": {
    "id": "-M2gaYsJQxVR"
   },
   "outputs": [],
   "source": [
    "entity_tagger=StanfordNERTagger(model,jar_engine, encoding='utf8')"
   ]
  },
  {
   "cell_type": "code",
   "execution_count": 131,
   "metadata": {
    "id": "LUyyJ-rvQxVR"
   },
   "outputs": [],
   "source": [
    "sec_test = open(\"../../../datasets/SEC-filings/CONLL-format/data/test/FIN3.txt\").read()\n",
    "sec_test_split = sec_test.split()"
   ]
  },
  {
   "cell_type": "code",
   "execution_count": 132,
   "metadata": {
    "id": "KmdywscPQxVR"
   },
   "outputs": [],
   "source": [
    "# Amend class annotations to reflect Stanford's NERTagger\n",
    "for n,i in enumerate(sec_test_split):\n",
    "    if i == \"I-PER\":\n",
    "        sec_test_split[n] = \"PERSON\"\n",
    "    if i == \"I-ORG\":\n",
    "        sec_test_split[n] = \"ORGANIZATION\"\n",
    "    if i == \"I-LOC\":\n",
    "        sec_test_split[n] = \"LOCATION\"\n",
    "    if i == \"B-PER\":\n",
    "        sec_test_split[n] = \"PERSON\"\n",
    "    if i == \"B-ORG\":\n",
    "        sec_test_split[n] = \"ORGANIZATION\"\n",
    "    if i == \"B-LOC\":\n",
    "        sec_test_split[n] = \"LOCATION\"\n",
    "    if i == \"I-MISC\":\n",
    "        sec_test_split[n] = \"MISC\"\n",
    "    if i == \"B-MISC\":\n",
    "        sec_test_split[n] = \"MISC\""
   ]
  },
  {
   "cell_type": "code",
   "execution_count": 133,
   "metadata": {
    "id": "XHludBM3QxVS"
   },
   "outputs": [],
   "source": [
    "sec_test=list(zip(sec_test_split[0::4],sec_test_split[3::4]))"
   ]
  },
  {
   "cell_type": "code",
   "execution_count": 134,
   "metadata": {
    "id": "AZKOUu7CQxVS"
   },
   "outputs": [],
   "source": [
    "sec_words = sec_test_split[0::4]\n",
    "sec_tags = sec_test_split[3::4]"
   ]
  },
  {
   "cell_type": "code",
   "execution_count": 136,
   "metadata": {
    "id": "vAt05cnfQxVS"
   },
   "outputs": [],
   "source": [
    "sec_pred = entity_tagger.tag(sec_words)"
   ]
  },
  {
   "cell_type": "code",
   "execution_count": 137,
   "metadata": {
    "id": "nxBFRvCKQxVS"
   },
   "outputs": [],
   "source": [
    "sec_pred = [x[1] for x in sec_pred]"
   ]
  },
  {
   "cell_type": "code",
   "execution_count": 138,
   "metadata": {
    "id": "zN97uCNtQxVS",
    "outputId": "f43e8812-155a-4c7c-df7d-359dbe841e90"
   },
   "outputs": [
    {
     "output_type": "execute_result",
     "data": {
      "text/plain": [
       "0.6814814814814815"
      ]
     },
     "metadata": {},
     "execution_count": 138
    }
   ],
   "source": [
    "f1_score(sec_tags, sec_pred, average='micro',labels=['LOCATION'])"
   ]
  },
  {
   "cell_type": "code",
   "execution_count": 139,
   "metadata": {
    "id": "QrPnpuEKQxVT",
    "outputId": "f6ca055d-e1fc-43b3-d984-c7d02b1fb89a"
   },
   "outputs": [
    {
     "output_type": "execute_result",
     "data": {
      "text/plain": [
       "0.9023255813953489"
      ]
     },
     "metadata": {},
     "execution_count": 139
    }
   ],
   "source": [
    "f1_score(sec_tags, sec_pred, average='micro',labels=['PERSON'])"
   ]
  },
  {
   "cell_type": "code",
   "execution_count": 140,
   "metadata": {
    "id": "Z8fX-HWVQxVT",
    "outputId": "846699b7-cbb4-48db-d3e4-52cd7b7b2f68"
   },
   "outputs": [
    {
     "output_type": "execute_result",
     "data": {
      "text/plain": [
       "0.3636363636363636"
      ]
     },
     "metadata": {},
     "execution_count": 140
    }
   ],
   "source": [
    "f1_score(sec_tags, sec_pred, average='micro',labels=['ORGANIZATION'])"
   ]
  },
  {
   "cell_type": "code",
   "execution_count": 141,
   "metadata": {
    "id": "Gk_C_SHoQxVT",
    "outputId": "7d3e8df3-30aa-4df8-cef5-dd3855aed4e3"
   },
   "outputs": [
    {
     "output_type": "execute_result",
     "data": {
      "text/plain": [
       "0.25"
      ]
     },
     "metadata": {},
     "execution_count": 141
    }
   ],
   "source": [
    "f1_score(sec_tags, sec_pred, average='micro',labels=['MISC'])"
   ]
  },
  {
   "cell_type": "code",
   "execution_count": 142,
   "metadata": {
    "id": "jV50Ywn8QxVU"
   },
   "outputs": [
    {
     "output_type": "execute_result",
     "data": {
      "text/plain": [
       "0.986942410747981"
      ]
     },
     "metadata": {},
     "execution_count": 142
    }
   ],
   "source": [
    "f1_score(sec_tags, sec_pred, average='micro')"
   ]
  },
  {
   "cell_type": "code",
   "execution_count": null,
   "metadata": {
    "id": "aRJZ2XI3QxVU"
   },
   "outputs": [],
   "source": []
  },
  {
   "source": [
    "## NCBI-Disease Custom-Trained"
   ],
   "cell_type": "markdown",
   "metadata": {
    "id": "cnxW5O-fQxVV"
   }
  },
  {
   "cell_type": "code",
   "execution_count": 146,
   "metadata": {},
   "outputs": [],
   "source": [
    "ncbi_train = open(\"../../../datasets/ncbi/train.txt\").read()\n",
    "ncbi_train_split = ncbi_train.split()"
   ]
  },
  {
   "cell_type": "code",
   "execution_count": 147,
   "metadata": {},
   "outputs": [],
   "source": [
    "# Amend class annotations to reflect Stanford's NERTagger\n",
    "for n,i in enumerate(ncbi_train_split):\n",
    "    if i == \"B-Disease\":\n",
    "        ncbi_train_split[n] = \"DISEASE\"\n",
    "    if i == \"I-Disease\":\n",
    "        ncbi_train_split[n] = \"DISEASE\""
   ]
  },
  {
   "cell_type": "code",
   "execution_count": 149,
   "metadata": {},
   "outputs": [],
   "source": [
    "ncbi_train=list(zip(ncbi_train_split[0::4],ncbi_train_split[3::4]))"
   ]
  },
  {
   "cell_type": "code",
   "execution_count": 151,
   "metadata": {},
   "outputs": [],
   "source": [
    "ncbi_words = ncbi_train_split[0::4]\n",
    "ncbi_tags = ncbi_train_split[3::4]"
   ]
  },
  {
   "cell_type": "code",
   "execution_count": 153,
   "metadata": {},
   "outputs": [],
   "source": [
    "import pandas as pd\n",
    "df = pd.DataFrame(ncbi_train)"
   ]
  },
  {
   "cell_type": "code",
   "execution_count": 154,
   "metadata": {},
   "outputs": [],
   "source": [
    "df.to_csv('ncbi_train.tsv', sep = '\\t', index=False,header=False)"
   ]
  },
  {
   "cell_type": "code",
   "execution_count": 155,
   "metadata": {},
   "outputs": [
    {
     "output_type": "stream",
     "name": "stdout",
     "text": [
      "Invoked on Thu Apr 08 03:56:37 ALMT 2021 with arguments: -prop prop_ncbi.txt\n",
      "usePrevSequences=true\n",
      "useClassFeature=true\n",
      "useTypeSeqs2=true\n",
      "useSequences=true\n",
      "wordShape=chris2useLC\n",
      "useTypeySequences=true\n",
      "useDisjunctive=true\n",
      "noMidNGrams=true\n",
      "serializeTo=ncbi_ner.ser.gz\n",
      "maxNGramLeng=3\n",
      "useNGrams=true\n",
      "usePrev=true\n",
      "useNext=true\n",
      "maxLeft=1\n",
      "trainFile=ncbi_train.tsv\n",
      "map=word=0,answer=1\n",
      "useWord=true\n",
      "useTypeSeqs=true\n",
      "numFeatures = 189623\n",
      "Time to convert docs to feature indices: 2.5 seconds\n",
      "Current memory used: 143m\n",
      "numClasses: 2 [0=O,1=DISEASE]\n",
      "numDocuments: 1\n",
      "numDatums: 136012\n",
      "numFeatures: 189623\n",
      "Time to convert docs to data/labels: 2.1 seconds\n",
      "Current memory used: 563m\n",
      "Running gradient on 8 threads\n",
      "numWeights: 536518\n",
      "QNMinimizer called on double function of 536518 variables, using M = 25.\n",
      "               An explanation of the output:\n",
      "Iter           The number of iterations\n",
      "evals          The number of function evaluations\n",
      "SCALING        <D> Diagonal scaling was used; <I> Scaled Identity\n",
      "LINESEARCH     [## M steplength]  Minpack linesearch\n",
      "                   1-Function value was too high\n",
      "                   2-Value ok, gradient positive, positive curvature\n",
      "                   3-Value ok, gradient negative, positive curvature\n",
      "                   4-Value ok, gradient negative, negative curvature\n",
      "               [.. B]  Backtracking\n",
      "VALUE          The current function value\n",
      "TIME           Total elapsed time\n",
      "|GNORM|        The current norm of the gradient\n",
      "{RELNORM}      The ratio of the current to initial gradient norms\n",
      "AVEIMPROVE     The average improvement / current value\n",
      "EVALSCORE      The last available eval score\n",
      " \n",
      "Iter ## evals ## <SCALING> [LINESEARCH] VALUE TIME |GNORM| {RELNORM} AVEIMPROVE EVALSCORE\n",
      "\n",
      "Iter 1 evals 1 <D> [1113M 5.982E-6] 1.512E5 2.34s |2.614E4| {1.610E-1} 0.000E0 - \n",
      "Iter 2 evals 6 <D> [M 1.000E0] 1.469E5 2.71s |1.895E4| {1.167E-1} 1.441E-2 - \n",
      "Iter 3 evals 7 <D> [M 1.000E0] 1.381E5 3.04s |1.812E4| {1.116E-1} 3.152E-2 - \n",
      "Iter 4 evals 8 <D> [M 1.000E0] 1.253E5 3.54s |7.852E3| {4.837E-2} 5.166E-2 - \n",
      "Iter 5 evals 9 <D> [M 1.000E0] 1.213E5 3.98s |1.013E4| {6.241E-2} 4.929E-2 - \n",
      "Iter 6 evals 10 <D> [M 1.000E0] 1.137E5 4.53s |4.469E3| {2.753E-2} 5.500E-2 - \n",
      "Iter 7 evals 11 <D> [M 1.000E0] 1.108E5 4.92s |3.517E3| {2.166E-2} 5.209E-2 - \n",
      "Iter 8 evals 12 <D> [M 1.000E0] 1.054E5 5.27s |2.531E3| {1.559E-2} 5.426E-2 - \n",
      "Iter 9 evals 13 <D> [M 1.000E0] 1.034E5 5.68s |1.178E4| {7.258E-2} 5.135E-2 - \n",
      "Iter 10 evals 14 <D> [M 1.000E0] 1.002E5 6.11s |3.541E3| {2.182E-2} 5.082E-2 - \n",
      "Iter 11 evals 15 <D> [M 1.000E0] 9.894E4 6.59s |2.628E3| {1.619E-2} 4.851E-2 - \n",
      "Iter 12 evals 16 <D> [M 1.000E0] 9.764E4 7.01s |2.267E3| {1.396E-2} 4.144E-2 - \n",
      "Iter 13 evals 17 <D> [M 1.000E0] 9.569E4 7.41s |4.643E3| {2.860E-2} 3.092E-2 - \n",
      "Iter 14 evals 18 <D> [M 1.000E0] 9.255E4 7.84s |1.340E3| {8.254E-3} 3.104E-2 - \n",
      "Iter 15 evals 19 <D> [M 1.000E0] 9.113E4 8.59s |1.276E3| {7.864E-3} 2.473E-2 - \n",
      "Iter 16 evals 20 <D> [M 1.000E0] 8.776E4 9.03s |1.376E3| {8.480E-3} 2.622E-2 - \n",
      "Iter 17 evals 21 <D> [M 1.000E0] 8.249E4 9.43s |4.172E3| {2.570E-2} 2.779E-2 - \n",
      "Iter 18 evals 22 <D> [M 1.000E0] 7.720E4 9.83s |2.160E3| {1.331E-2} 3.393E-2 - \n",
      "Iter 19 evals 23 <D> [M 1.000E0] 7.063E4 10.22s |1.238E3| {7.630E-3} 4.192E-2 - \n",
      "Iter 20 evals 24 <D> [M 1.000E0] 6.527E4 10.56s |1.180E3| {7.272E-3} 5.158E-2 - \n",
      "Iter 21 evals 25 <D> [M 1.000E0] 6.056E4 10.91s |9.898E2| {6.098E-3} 6.123E-2 - \n",
      "Iter 22 evals 26 <D> [M 1.000E0] 5.597E4 11.28s |6.930E2| {4.269E-3} 7.097E-2 - \n",
      "Iter 23 evals 27 <D> [M 1.000E0] 4.786E4 11.63s |1.816E3| {1.119E-2} 9.339E-2 - \n",
      "Iter 24 evals 28 <D> [M 1.000E0] 4.220E4 11.97s |3.557E3| {2.191E-2} 1.160E-1 - \n",
      "Iter 25 evals 29 <D> [M 1.000E0] 3.718E4 12.38s |2.424E3| {1.493E-2} 1.360E-1 - \n",
      "Iter 26 evals 30 <D> [M 1.000E0] 3.261E4 12.77s |1.758E3| {1.083E-2} 1.530E-1 - \n",
      "Iter 27 evals 31 <D> [M 1.000E0] 2.824E4 13.33s |2.630E3| {1.620E-2} 1.734E-1 - \n",
      "Iter 28 evals 32 <D> [M 1.000E0] 2.424E4 13.70s |2.282E3| {1.406E-2} 1.913E-1 - \n",
      "Iter 29 evals 33 <D> [M 1.000E0] 2.052E4 14.07s |2.061E3| {1.270E-2} 2.181E-1 - \n",
      "Iter 30 evals 34 <D> [1M 4.027E-1] 1.875E4 14.76s |1.483E3| {9.134E-3} 2.231E-1 - \n",
      "Iter 31 evals 36 <D> [1M 2.407E-1] 1.743E4 15.49s |2.308E3| {1.422E-2} 2.211E-1 - \n",
      "Iter 32 evals 38 <D> [M 1.000E0] 1.566E4 15.88s |1.341E3| {8.261E-3} 2.055E-1 - \n",
      "Iter 33 evals 39 <D> [M 1.000E0] 1.405E4 16.26s |1.638E3| {1.009E-2} 2.004E-1 - \n",
      "Iter 34 evals 40 <D> [M 1.000E0] 1.249E4 16.67s |9.774E2| {6.022E-3} 1.978E-1 - \n",
      "Iter 35 evals 41 <D> [M 1.000E0] 1.128E4 17.07s |6.999E2| {4.312E-3} 1.890E-1 - \n",
      "Iter 36 evals 42 <D> [M 1.000E0] 9.988E3 17.50s |8.842E2| {5.447E-3} 1.827E-1 - \n",
      "Iter 37 evals 43 <D> [2M 5.135E-1] 9.350E3 18.28s |7.150E2| {4.405E-3} 1.593E-1 - \n",
      "Iter 38 evals 45 <D> [M 1.000E0] 8.744E3 18.80s |4.189E2| {2.580E-3} 1.346E-1 - \n",
      "Iter 39 evals 46 <D> [M 1.000E0] 8.109E3 19.26s |4.302E2| {2.650E-3} 1.312E-1 - \n",
      "Iter 40 evals 47 <D> [2M 4.380E-1] 7.280E3 19.95s |3.631E2| {2.237E-3} 1.394E-1 - \n",
      "Iter 41 evals 49 <D> [M 1.000E0] 6.553E3 20.35s |6.139E2| {3.782E-3} 1.390E-1 - \n",
      "Iter 42 evals 50 <D> [M 1.000E0] 6.001E3 20.77s |6.005E2| {3.700E-3} 1.341E-1 - \n",
      "Iter 43 evals 51 <D> [M 1.000E0] 5.591E3 21.19s |7.415E2| {4.568E-3} 1.234E-1 - \n",
      "Iter 44 evals 52 <D> [M 1.000E0] 5.137E3 21.61s |3.348E2| {2.063E-3} 1.196E-1 - \n",
      "Iter 45 evals 53 <D> [M 1.000E0] 4.837E3 22.02s |5.841E2| {3.598E-3} 1.065E-1 - \n",
      "Iter 46 evals 54 <D> [M 1.000E0] 4.455E3 22.42s |4.388E2| {2.703E-3} 1.099E-1 - \n",
      "Iter 47 evals 55 <D> [M 1.000E0] 4.136E3 22.82s |5.988E2| {3.689E-3} 1.114E-1 - \n",
      "Iter 48 evals 56 <D> [M 1.000E0] 3.839E3 23.21s |4.654E2| {2.867E-3} 1.112E-1 - \n",
      "Iter 49 evals 57 <D> [M 1.000E0] 3.582E3 23.61s |3.371E2| {2.077E-3} 1.032E-1 - \n",
      "Iter 50 evals 58 <D> [M 1.000E0] 3.306E3 24.02s |8.647E2| {5.327E-3} 9.821E-2 - \n",
      "Iter 51 evals 59 <D> [2M 5.097E-1] 3.068E3 24.75s |5.575E2| {3.434E-3} 9.557E-2 - \n",
      "Iter 52 evals 61 <D> [M 1.000E0] 2.883E3 25.18s |1.719E2| {1.059E-3} 9.392E-2 - \n",
      "Iter 53 evals 62 <D> [M 1.000E0] 2.741E3 25.58s |2.046E2| {1.261E-3} 8.743E-2 - \n",
      "Iter 54 evals 63 <D> [M 1.000E0] 2.541E3 25.98s |2.134E2| {1.315E-3} 9.040E-2 - \n",
      "Iter 55 evals 64 <D> [M 1.000E0] 2.373E3 26.39s |2.322E2| {1.431E-3} 8.772E-2 - \n",
      "Iter 56 evals 65 <D> [M 1.000E0] 2.269E3 26.79s |3.233E2| {1.992E-3} 8.226E-2 - \n",
      "Iter 57 evals 66 <D> [M 1.000E0] 2.135E3 27.20s |2.746E2| {1.692E-3} 7.980E-2 - \n",
      "Iter 58 evals 67 <D> [M 1.000E0] 2.064E3 27.61s |4.609E2| {2.839E-3} 7.360E-2 - \n",
      "Iter 59 evals 68 <D> [M 1.000E0] 1.974E3 28.02s |2.293E2| {1.413E-3} 6.744E-2 - \n",
      "Iter 60 evals 69 <D> [M 1.000E0] 1.890E3 28.43s |1.414E2| {8.714E-4} 6.232E-2 - \n",
      "Iter 61 evals 70 <D> [M 1.000E0] 1.814E3 28.83s |1.213E2| {7.471E-4} 5.890E-2 - \n",
      "Iter 62 evals 71 <D> [M 1.000E0] 1.755E3 29.24s |2.612E2| {1.609E-3} 5.617E-2 - \n",
      "Iter 63 evals 72 <D> [M 1.000E0] 1.694E3 29.65s |2.069E2| {1.275E-3} 4.998E-2 - \n",
      "Iter 64 evals 73 <D> [1M 4.808E-1] 1.670E3 30.38s |2.242E2| {1.381E-3} 4.213E-2 - \n",
      "Iter 65 evals 75 <D> [M 1.000E0] 1.625E3 30.79s |1.388E2| {8.552E-4} 3.964E-2 - \n",
      "Iter 66 evals 76 <D> [M 1.000E0] 1.593E3 31.20s |8.237E1| {5.075E-4} 3.407E-2 - \n",
      "Iter 67 evals 77 <D> [M 1.000E0] 1.557E3 31.62s |1.108E2| {6.826E-4} 3.255E-2 - \n",
      "Iter 68 evals 78 <D> [2M 5.116E-1] 1.534E3 32.37s |1.528E2| {9.416E-4} 2.873E-2 - \n",
      "Iter 69 evals 80 <D> [M 1.000E0] 1.506E3 32.79s |8.745E1| {5.388E-4} 2.553E-2 - \n",
      "Iter 70 evals 81 <D> [M 1.000E0] 1.491E3 33.19s |1.649E2| {1.016E-3} 2.167E-2 - \n",
      "Iter 71 evals 82 <D> [M 1.000E0] 1.472E3 33.59s |7.716E1| {4.754E-4} 1.920E-2 - \n",
      "Iter 72 evals 83 <D> [M 1.000E0] 1.458E3 33.99s |6.964E1| {4.290E-4} 1.621E-2 - \n",
      "Iter 73 evals 84 <D> [M 1.000E0] 1.449E3 34.40s |1.683E2| {1.037E-3} 1.519E-2 - \n",
      "Iter 74 evals 85 <D> [M 1.000E0] 1.433E3 34.81s |7.141E1| {4.399E-4} 1.343E-2 - \n",
      "Iter 75 evals 86 <D> [M 1.000E0] 1.425E3 35.24s |9.795E1| {6.034E-4} 1.176E-2 - \n",
      "Iter 76 evals 87 <D> [2M 5.197E-1] 1.420E3 36.03s |8.821E1| {5.434E-4} 9.648E-3 - \n",
      "Iter 77 evals 89 <D> [M 1.000E0] 1.414E3 36.44s |6.169E1| {3.801E-4} 8.463E-3 - \n",
      "Iter 78 evals 90 <D> [M 1.000E0] 1.411E3 36.86s |1.499E2| {9.236E-4} 6.707E-3 - \n",
      "Iter 79 evals 91 <D> [M 1.000E0] 1.406E3 37.33s |3.897E1| {2.401E-4} 6.042E-3 - \n",
      "Iter 80 evals 92 <D> [M 1.000E0] 1.401E3 37.81s |5.891E1| {3.630E-4} 5.064E-3 - \n",
      "Iter 81 evals 93 <D> [M 1.000E0] 1.394E3 38.31s |7.927E1| {4.883E-4} 4.568E-3 - \n",
      "Iter 82 evals 94 <D> [M 1.000E0] 1.391E3 38.74s |8.725E1| {5.376E-4} 4.225E-3 - \n",
      "Iter 83 evals 95 <D> [M 1.000E0] 1.384E3 39.17s |4.443E1| {2.738E-4} 3.498E-3 - \n",
      "Iter 84 evals 96 <D> [M 1.000E0] 1.384E3 39.63s |1.249E2| {7.697E-4} 2.969E-3 - \n",
      "Iter 85 evals 97 <D> [M 1.000E0] 1.380E3 40.15s |5.872E1| {3.618E-4} 2.857E-3 - \n",
      "Iter 86 evals 98 <D> [M 1.000E0] 1.378E3 40.54s |3.764E1| {2.319E-4} 2.588E-3 - \n",
      "Iter 87 evals 99 <D> [M 1.000E0] 1.377E3 40.94s |2.144E1| {1.321E-4} 2.497E-3 - \n",
      "Iter 88 evals 100 <D> [M 1.000E0] 1.374E3 41.34s |2.252E1| {1.387E-4} 2.351E-3 - \n",
      "Iter 89 evals 101 <D> [M 1.000E0] 1.373E3 41.74s |6.185E1| {3.810E-4} 2.062E-3 - \n",
      "Iter 90 evals 102 <D> [M 1.000E0] 1.370E3 42.14s |2.996E1| {1.846E-4} 1.728E-3 - \n",
      "Iter 91 evals 103 <D> [M 1.000E0] 1.370E3 42.54s |5.862E1| {3.611E-4} 1.516E-3 - \n",
      "Iter 92 evals 104 <D> [M 1.000E0] 1.369E3 42.95s |6.401E1| {3.943E-4} 1.123E-3 - \n",
      "Iter 93 evals 105 <D> [M 1.000E0] 1.368E3 43.34s |2.609E1| {1.608E-4} 1.179E-3 - \n",
      "Iter 94 evals 106 <D> [M 1.000E0] 1.367E3 43.75s |1.254E1| {7.724E-5} 9.675E-4 - \n",
      "Iter 95 evals 107 <D> [M 1.000E0] 1.366E3 44.15s |2.745E1| {1.691E-4} 9.215E-4 - \n",
      "Iter 96 evals 108 <D> [1M 2.996E-1] 1.366E3 44.87s |2.445E1| {1.507E-4} 8.264E-4 - \n",
      "Iter 97 evals 110 <D> [M 1.000E0] 1.365E3 45.30s |1.937E1| {1.193E-4} 6.494E-4 - \n",
      "Iter 98 evals 111 <D> [M 1.000E0] 1.364E3 45.72s |1.594E1| {9.823E-5} 6.360E-4 - \n",
      "Iter 99 evals 112 <D> [M 1.000E0] 1.364E3 46.13s |1.454E1| {8.960E-5} 4.709E-4 - \n",
      "Iter 100 evals 113 <D> [M 1.000E0] 1.363E3 46.54s |1.133E1| {6.978E-5} 4.719E-4 - \n",
      "Iter 101 evals 114 <D> [1M 4.185E-1] 1.363E3 47.27s |1.827E1| {1.125E-4} 4.254E-4 - \n",
      "Iter 102 evals 116 <D> [M 1.000E0] 1.363E3 47.67s |1.025E1| {6.315E-5} 3.681E-4 - \n",
      "Iter 103 evals 117 <D> [M 1.000E0] 1.363E3 48.08s |1.152E1| {7.095E-5} 3.346E-4 - \n",
      "Iter 104 evals 118 <D> [M 1.000E0] 1.362E3 48.48s |3.947E1| {2.432E-4} 2.543E-4 - \n",
      "Iter 105 evals 119 <D> [M 1.000E0] 1.362E3 48.88s |2.860E1| {1.762E-4} 2.377E-4 - \n",
      "Iter 106 evals 120 <D> [M 1.000E0] 1.362E3 49.28s |8.066E0| {4.969E-5} 2.129E-4 - \n",
      "Iter 107 evals 121 <D> [M 1.000E0] 1.362E3 49.69s |6.362E0| {3.920E-5} 1.865E-4 - \n",
      "Iter 108 evals 122 <D> [M 1.000E0] 1.362E3 50.09s |2.900E1| {1.787E-4} 1.650E-4 - \n",
      "Iter 109 evals 123 <D> [M 1.000E0] 1.362E3 50.50s |1.345E1| {8.285E-5} 1.435E-4 - \n",
      "Iter 110 evals 124 <D> [M 1.000E0] 1.361E3 50.90s |9.124E0| {5.621E-5} 1.250E-4 - \n",
      "Iter 111 evals 125 <D> [M 1.000E0] 1.361E3 51.31s |6.363E0| {3.920E-5} 1.113E-4 - \n",
      "Iter 112 evals 126 <D> [M 1.000E0] 1.361E3 51.71s |1.343E1| {8.273E-5} 1.046E-4 - \n",
      "Iter 113 evals 127 <D> [M 1.000E0] 1.361E3 52.13s |1.923E1| {1.185E-4} 1.004E-4 - \n",
      "QNMinimizer terminated due to average improvement: | newest_val - previous_val | / |newestVal| < TOL \n",
      "Total time spent in optimization: 52.84s\n",
      "CRFClassifier training ... done [58.2 sec].\n",
      "Serializing classifier to ncbi_ner.ser.gz... done.\n"
     ]
    }
   ],
   "source": [
    "!java -cp \"stanford-ner.jar:lib/*\" -mx4g edu.stanford.nlp.ie.crf.CRFClassifier -prop prop_ncbi.txt"
   ]
  },
  {
   "cell_type": "code",
   "execution_count": 156,
   "metadata": {},
   "outputs": [],
   "source": [
    "import os\n",
    "jar_engine = 'stanford-ner.jar'\n",
    "\n",
    "#load your own ner model\n",
    "model = 'ncbi_ner.ser.gz'"
   ]
  },
  {
   "cell_type": "code",
   "execution_count": 157,
   "metadata": {},
   "outputs": [],
   "source": [
    "entity_tagger=StanfordNERTagger(model,jar_engine, encoding='utf8')"
   ]
  },
  {
   "cell_type": "code",
   "execution_count": 158,
   "metadata": {},
   "outputs": [],
   "source": [
    "ncbi_test = open(\"../../../datasets/ncbi/test.txt\").read()\n",
    "ncbi_test_split = ncbi_test.split()"
   ]
  },
  {
   "cell_type": "code",
   "execution_count": 159,
   "metadata": {},
   "outputs": [],
   "source": [
    "# Amend class annotations to reflect Stanford's NERTagger\n",
    "for n,i in enumerate(ncbi_test_split):\n",
    "    if i == \"B-Disease\":\n",
    "        ncbi_test_split[n] = \"DISEASE\"\n",
    "    if i == \"I-Disease\":\n",
    "        ncbi_test_split[n] = \"DISEASE\""
   ]
  },
  {
   "cell_type": "code",
   "execution_count": 160,
   "metadata": {},
   "outputs": [],
   "source": [
    "ncbi_test=list(zip(ncbi_test_split[0::4],ncbi_test_split[3::4]))"
   ]
  },
  {
   "cell_type": "code",
   "execution_count": 162,
   "metadata": {},
   "outputs": [],
   "source": [
    "ncbi_words = ncbi_test_split[0::4]\n",
    "ncbi_tags = ncbi_test_split[3::4]"
   ]
  },
  {
   "cell_type": "code",
   "execution_count": 163,
   "metadata": {},
   "outputs": [],
   "source": [
    "ncbi_pred = entity_tagger.tag(ncbi_words)"
   ]
  },
  {
   "cell_type": "code",
   "execution_count": 164,
   "metadata": {},
   "outputs": [],
   "source": [
    "ncbi_pred = [x[1] for x in ncbi_pred]"
   ]
  },
  {
   "cell_type": "code",
   "execution_count": 165,
   "metadata": {},
   "outputs": [
    {
     "output_type": "execute_result",
     "data": {
      "text/plain": [
       "0.8613630474216117"
      ]
     },
     "metadata": {},
     "execution_count": 165
    }
   ],
   "source": [
    "f1_score(ncbi_tags, ncbi_pred, average='micro',labels=['DISEASE'])"
   ]
  },
  {
   "cell_type": "code",
   "execution_count": 166,
   "metadata": {},
   "outputs": [
    {
     "output_type": "execute_result",
     "data": {
      "text/plain": [
       "0.9881435188263192"
      ]
     },
     "metadata": {},
     "execution_count": 166
    }
   ],
   "source": [
    "f1_score(ncbi_tags, ncbi_pred, average='micro',labels=['O'])"
   ]
  },
  {
   "cell_type": "code",
   "execution_count": 167,
   "metadata": {},
   "outputs": [
    {
     "output_type": "execute_result",
     "data": {
      "text/plain": [
       "0.9781552407006655"
      ]
     },
     "metadata": {},
     "execution_count": 167
    }
   ],
   "source": [
    "f1_score(ncbi_tags, ncbi_pred, average='micro')"
   ]
  },
  {
   "cell_type": "code",
   "execution_count": null,
   "metadata": {},
   "outputs": [],
   "source": []
  },
  {
   "cell_type": "code",
   "execution_count": null,
   "metadata": {},
   "outputs": [],
   "source": []
  },
  {
   "cell_type": "code",
   "execution_count": null,
   "metadata": {},
   "outputs": [],
   "source": []
  }
 ],
 "metadata": {
  "colab": {
   "collapsed_sections": [],
   "name": "Stanford-ner-complete.ipynb",
   "provenance": []
  },
  "kernelspec": {
   "display_name": "Python 3",
   "language": "python",
   "name": "python3"
  },
  "language_info": {
   "codemirror_mode": {
    "name": "ipython",
    "version": 3
   },
   "file_extension": ".py",
   "mimetype": "text/x-python",
   "name": "python",
   "nbconvert_exporter": "python",
   "pygments_lexer": "ipython3",
   "version": "3.7.4"
  }
 },
 "nbformat": 4,
 "nbformat_minor": 4
}