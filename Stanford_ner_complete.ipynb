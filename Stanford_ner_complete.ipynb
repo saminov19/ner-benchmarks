{
  "nbformat": 4,
  "nbformat_minor": 0,
  "metadata": {
    "kernelspec": {
      "display_name": "Python 3",
      "language": "python",
      "name": "python3"
    },
    "language_info": {
      "codemirror_mode": {
        "name": "ipython",
        "version": 3
      },
      "file_extension": ".py",
      "mimetype": "text/x-python",
      "name": "python",
      "nbconvert_exporter": "python",
      "pygments_lexer": "ipython3",
      "version": "3.7.4"
    },
    "colab": {
      "name": "Stanford-ner-complete.ipynb",
      "provenance": [],
      "collapsed_sections": []
    }
  },
  "cells": [
    {
      "cell_type": "markdown",
      "metadata": {
        "id": "SfcTiyZcQxVE"
      },
      "source": [
        "##CONLL 2003 (English) - Pre-Trained Model"
      ]
    },
    {
      "cell_type": "code",
      "metadata": {
        "id": "HQSm0MKiQxU9"
      },
      "source": [
        "import nltk\n",
        "from nltk.tag import StanfordNERTagger\n",
        "from sklearn.metrics import f1_score"
      ],
      "execution_count": null,
      "outputs": []
    },
    {
      "cell_type": "code",
      "metadata": {
        "id": "34hUrBolQxVF"
      },
      "source": [
        "raw_conll = open(\"/Users/aminov.sb/Desktop/stanford-ner-tagger/DATA/conll2003 (1)/test.txt\").read()\n",
        "split_conll = raw_conll.split()"
      ],
      "execution_count": null,
      "outputs": []
    },
    {
      "cell_type": "code",
      "metadata": {
        "id": "3a_I9_BiQxVF"
      },
      "source": [
        "# Amend class annotations to reflect Stanford's NERTagger\n",
        "for n,i in enumerate(split_conll):\n",
        "    if i == \"I-PER\":\n",
        "        split_conll[n] = \"PERSON\"\n",
        "    if i == \"I-ORG\":\n",
        "        split_conll[n] = \"ORGANIZATION\"\n",
        "    if i == \"I-LOC\":\n",
        "        split_conll[n] = \"LOCATION\"\n",
        "    if i == \"B-PER\":\n",
        "        split_conll[n] = \"PERSON\"\n",
        "    if i == \"B-ORG\":\n",
        "        split_conll[n] = \"ORGANIZATION\"\n",
        "    if i == \"B-LOC\":\n",
        "        split_conll[n] = \"LOCATION\"\n",
        "    if i == \"I-MISC\":\n",
        "        split_conll[n] = \"MISC\"\n",
        "    if i == \"B-MISC\":\n",
        "        split_conll[n] = \"MISC\""
      ],
      "execution_count": null,
      "outputs": []
    },
    {
      "cell_type": "code",
      "metadata": {
        "id": "IPi1A8V2QxVF"
      },
      "source": [
        "reference_conll=list(zip(split_conll[0::4],split_conll[3::4]))"
      ],
      "execution_count": null,
      "outputs": []
    },
    {
      "cell_type": "code",
      "metadata": {
        "id": "-xdt40OpQxVG"
      },
      "source": [
        "conll_tokens = split_conll[::4]"
      ],
      "execution_count": null,
      "outputs": []
    },
    {
      "cell_type": "code",
      "metadata": {
        "id": "UyjJcLRzQxVG"
      },
      "source": [
        "st = StanfordNERTagger('/Users/aminov.sb/Desktop/stanford-ner-tagger/train/english.conll.4class.distsim.crf.ser.gz',\n",
        "\t\t\t\t\t   '/Users/aminov.sb/Desktop/stanford-ner-tagger/train/stanford-ner.jar',\n",
        "\t\t\t\t\t   encoding='utf-8')                  \n",
        "stanford_prediction = st.tag(conll_tokens)"
      ],
      "execution_count": null,
      "outputs": []
    },
    {
      "cell_type": "code",
      "metadata": {
        "id": "B5KX8-24QxVH"
      },
      "source": [
        "stanford_pred = [x[1] for x in stanford_prediction]"
      ],
      "execution_count": null,
      "outputs": []
    },
    {
      "cell_type": "code",
      "metadata": {
        "id": "MWWNo1zjQxVH",
        "outputId": "cf87d5c2-173a-4e5e-d5f4-9bb130918d23"
      },
      "source": [
        "f1_score(split_conll[3::4], stanford_pred, average='micro',labels=['LOCATION'])"
      ],
      "execution_count": null,
      "outputs": [
        {
          "output_type": "execute_result",
          "data": {
            "text/plain": [
              "0.9007987632053595"
            ]
          },
          "metadata": {
            "tags": []
          },
          "execution_count": 81
        }
      ]
    },
    {
      "cell_type": "code",
      "metadata": {
        "id": "R8UYQhLbQxVI",
        "outputId": "ea3f215f-93c3-4b42-8424-e2150e4b7fa8"
      },
      "source": [
        "f1_score(split_conll[3::4], stanford_pred, average='micro',labels=['PERSON'])"
      ],
      "execution_count": null,
      "outputs": [
        {
          "output_type": "execute_result",
          "data": {
            "text/plain": [
              "0.9497165843847138"
            ]
          },
          "metadata": {
            "tags": []
          },
          "execution_count": 82
        }
      ]
    },
    {
      "cell_type": "code",
      "metadata": {
        "id": "Yon16rfbQxVJ",
        "outputId": "19ba580d-99d6-4baf-ce47-8bc6db624cba"
      },
      "source": [
        "f1_score(split_conll[3::4], stanford_pred, average='micro',labels=['ORGANIZATION'])"
      ],
      "execution_count": null,
      "outputs": [
        {
          "output_type": "execute_result",
          "data": {
            "text/plain": [
              "0.8582253240279163"
            ]
          },
          "metadata": {
            "tags": []
          },
          "execution_count": 83
        }
      ]
    },
    {
      "cell_type": "code",
      "metadata": {
        "id": "SuQK2duQQxVJ",
        "outputId": "553b086d-d611-4b62-8990-af2cc68685b8"
      },
      "source": [
        "f1_score(split_conll[3::4], stanford_pred, average='micro',labels=['MISC'])"
      ],
      "execution_count": null,
      "outputs": [
        {
          "output_type": "execute_result",
          "data": {
            "text/plain": [
              "0.7972399150743099"
            ]
          },
          "metadata": {
            "tags": []
          },
          "execution_count": 84
        }
      ]
    },
    {
      "cell_type": "code",
      "metadata": {
        "id": "Y-Y5piZOQxVK"
      },
      "source": [
        ""
      ],
      "execution_count": null,
      "outputs": []
    },
    {
      "cell_type": "code",
      "metadata": {
        "id": "7R1QGNDrQxVK"
      },
      "source": [
        ""
      ],
      "execution_count": null,
      "outputs": []
    },
    {
      "cell_type": "code",
      "metadata": {
        "id": "xg48wPQsQxVK"
      },
      "source": [
        ""
      ],
      "execution_count": null,
      "outputs": []
    },
    {
      "cell_type": "markdown",
      "metadata": {
        "id": "xoZMjUWtQxVK"
      },
      "source": [
        "##SEC-Filings - Pre-Trained"
      ]
    },
    {
      "cell_type": "code",
      "metadata": {
        "id": "9vxq6LMfQxVL"
      },
      "source": [
        "raw_sec_test = open(\"/Users/aminov.sb/Desktop/stanford-ner-tagger/DATA/SEC-Filings/test/FIN3.txt\").read()\n",
        "split_sec_test = raw_sec_test.split()"
      ],
      "execution_count": null,
      "outputs": []
    },
    {
      "cell_type": "code",
      "metadata": {
        "id": "CXEJV_hIQxVL"
      },
      "source": [
        "# Amend class annotations to reflect Stanford's NERTagger\n",
        "for n,i in enumerate(split_sec_test):\n",
        "    if i == \"I-PER\":\n",
        "        split_sec_test[n] = \"PERSON\"\n",
        "    if i == \"I-ORG\":\n",
        "        split_sec_test[n] = \"ORGANIZATION\"\n",
        "    if i == \"I-LOC\":\n",
        "        split_sec_test[n] = \"LOCATION\"\n",
        "    if i == \"B-PER\":\n",
        "        split_sec_test[n] = \"PERSON\"\n",
        "    if i == \"B-ORG\":\n",
        "        split_sec_test[n] = \"ORGANIZATION\"\n",
        "    if i == \"B-LOC\":\n",
        "        split_sec_test[n] = \"LOCATION\"\n",
        "    if i == \"I-MISC\":\n",
        "        split_sec_test[n] = \"MISC\"\n",
        "    if i == \"B-MISC\":\n",
        "        split_sec_test[n] = \"MISC\""
      ],
      "execution_count": null,
      "outputs": []
    },
    {
      "cell_type": "code",
      "metadata": {
        "id": "CAppQe6gQxVL"
      },
      "source": [
        "reference_sec_test=list(zip(split_sec_test[0::4],split_sec_test[3::4]))"
      ],
      "execution_count": null,
      "outputs": []
    },
    {
      "cell_type": "code",
      "metadata": {
        "id": "87F2wFmsQxVL"
      },
      "source": [
        "sec_test_tokens = split_sec_test[::4]"
      ],
      "execution_count": null,
      "outputs": []
    },
    {
      "cell_type": "code",
      "metadata": {
        "id": "Wpq3QB1vQxVM"
      },
      "source": [
        "st = StanfordNERTagger('/Users/aminov.sb/Desktop/stanford-ner-tagger/train/english.conll.4class.distsim.crf.ser.gz',\n",
        "\t\t\t\t\t   '/Users/aminov.sb/Desktop/stanford-ner-tagger/train/stanford-ner.jar',\n",
        "\t\t\t\t\t   encoding='utf-8')                  \n",
        "stanford_prediction_sec_test = st.tag(sec_test_tokens)"
      ],
      "execution_count": null,
      "outputs": []
    },
    {
      "cell_type": "code",
      "metadata": {
        "id": "Weo1O0svQxVM"
      },
      "source": [
        "stanford_pred_sec_test = [x[1] for x in stanford_prediction_sec_test]"
      ],
      "execution_count": null,
      "outputs": []
    },
    {
      "cell_type": "code",
      "metadata": {
        "id": "YTvpm_wdQxVM",
        "outputId": "cdbc5b8c-3c2b-4b04-afa8-da274d28b055"
      },
      "source": [
        "f1_score(split_sec_test[3::4], stanford_pred_sec_test, average='micro',labels=['LOCATION'])"
      ],
      "execution_count": null,
      "outputs": [
        {
          "output_type": "execute_result",
          "data": {
            "text/plain": [
              "0.39999999999999997"
            ]
          },
          "metadata": {
            "tags": []
          },
          "execution_count": 200
        }
      ]
    },
    {
      "cell_type": "code",
      "metadata": {
        "id": "Gc0Kf5ixQxVM",
        "outputId": "d32ec822-0af5-488f-ce8a-879a550a9181"
      },
      "source": [
        "f1_score(split_sec_test[3::4], stanford_pred_sec_test, average='micro',labels=['PERSON'])"
      ],
      "execution_count": null,
      "outputs": [
        {
          "output_type": "execute_result",
          "data": {
            "text/plain": [
              "0.2967741935483871"
            ]
          },
          "metadata": {
            "tags": []
          },
          "execution_count": 178
        }
      ]
    },
    {
      "cell_type": "code",
      "metadata": {
        "id": "vpZoI51OQxVN",
        "outputId": "e86f01ca-84ec-4646-fc84-f0daf322209a"
      },
      "source": [
        "f1_score(split_sec_test[3::4], stanford_pred_sec_test, average='micro',labels=['ORGANIZATION'])"
      ],
      "execution_count": null,
      "outputs": [
        {
          "output_type": "execute_result",
          "data": {
            "text/plain": [
              "0.2608695652173913"
            ]
          },
          "metadata": {
            "tags": []
          },
          "execution_count": 179
        }
      ]
    },
    {
      "cell_type": "code",
      "metadata": {
        "id": "vrC-3h6VQxVN",
        "outputId": "a8a63c14-81e5-4989-83e8-0f8caa68eb5f"
      },
      "source": [
        "f1_score(split_sec_test[3::4], stanford_pred_sec_test, average='micro',labels=['MISC'])"
      ],
      "execution_count": null,
      "outputs": [
        {
          "output_type": "execute_result",
          "data": {
            "text/plain": [
              "0.04307692307692307"
            ]
          },
          "metadata": {
            "tags": []
          },
          "execution_count": 189
        }
      ]
    },
    {
      "cell_type": "code",
      "metadata": {
        "id": "mEVxJPZMQxVN"
      },
      "source": [
        ""
      ],
      "execution_count": null,
      "outputs": []
    },
    {
      "cell_type": "code",
      "metadata": {
        "id": "KGNhYbYwQxVO"
      },
      "source": [
        ""
      ],
      "execution_count": null,
      "outputs": []
    },
    {
      "cell_type": "code",
      "metadata": {
        "id": "P-F8z8dhQxVO"
      },
      "source": [
        ""
      ],
      "execution_count": null,
      "outputs": []
    },
    {
      "cell_type": "markdown",
      "metadata": {
        "id": "4TVFm8NSQxVO"
      },
      "source": [
        "##SEC-Filings - Custom-Trained"
      ]
    },
    {
      "cell_type": "code",
      "metadata": {
        "id": "1JhE-uJ0QxVO"
      },
      "source": [
        "import pandas as pd\n",
        "df = pd.read_csv('/Users/aminov.sb/Desktop/stanford-ner-tagger/DATA/SEC-Filings/train/FIN5.txt',sep=' ')"
      ],
      "execution_count": null,
      "outputs": []
    },
    {
      "cell_type": "code",
      "metadata": {
        "id": "1947bFRzQxVO"
      },
      "source": [
        "df=df.replace({'O':'O', 'I-ORG':'ORGANIZATION', 'I-PER':'PERSON', 'I-LOC':'LOCATION', 'I-MISC':'MISC'})"
      ],
      "execution_count": null,
      "outputs": []
    },
    {
      "cell_type": "code",
      "metadata": {
        "id": "W5e_9ePNQxVP",
        "outputId": "3dd69637-cf68-4f95-c76b-66837c508b0e"
      },
      "source": [
        "df['O.1'].value_counts()"
      ],
      "execution_count": null,
      "outputs": [
        {
          "output_type": "execute_result",
          "data": {
            "text/plain": [
              "O               21416\n",
              "PERSON            628\n",
              "ORGANIZATION      191\n",
              "LOCATION          168\n",
              "MISC                7\n",
              "Name: O.1, dtype: int64"
            ]
          },
          "metadata": {
            "tags": []
          },
          "execution_count": 279
        }
      ]
    },
    {
      "cell_type": "code",
      "metadata": {
        "id": "jhORk6gaQxVP"
      },
      "source": [
        "df = df.drop(['-X-','O'],axis=1)"
      ],
      "execution_count": null,
      "outputs": []
    },
    {
      "cell_type": "code",
      "metadata": {
        "id": "9yG7y4UzQxVQ"
      },
      "source": [
        "df=df.dropna(subset=['-DOCSTART-'])"
      ],
      "execution_count": null,
      "outputs": []
    },
    {
      "cell_type": "code",
      "metadata": {
        "id": "1q-ZxOxwQxVQ"
      },
      "source": [
        "df=df.drop(df[df['-DOCSTART-'].str.contains(r'[^0-9a-zA-Z]')].index,axis=0)"
      ],
      "execution_count": null,
      "outputs": []
    },
    {
      "cell_type": "code",
      "metadata": {
        "id": "dKu4CJZJQxVQ"
      },
      "source": [
        "df.to_csv('/Users/aminov.sb/Desktop/stanford-ner-tagger/DATA/SEC-Filings/train/ner_df.tsv', sep = '\\t', index=False,header=False)"
      ],
      "execution_count": null,
      "outputs": []
    },
    {
      "cell_type": "code",
      "metadata": {
        "id": "xdjjQzh0QxVQ"
      },
      "source": [
        "# in the terminal run the following command\n",
        "#cd /Users/aminov.sb/Desktop/stanford-ner-tagger\n",
        "#java -cp \"stanford-ner.jar:lib/*\" -mx4g edu.stanford.nlp.ie.crf.CRFClassifier -prop train/prop.txt"
      ],
      "execution_count": null,
      "outputs": []
    },
    {
      "cell_type": "code",
      "metadata": {
        "id": "kLnTJkb2QxVR"
      },
      "source": [
        "import os\n",
        "jar_engine = '/Users/aminov.sb/Desktop/stanford-ner-tagger/train/stanford-ner.jar'\n",
        "#load your own ner model\n",
        "model = '/Users/aminov.sb/Desktop/stanford-ner-tagger/ner_df.ser.gz'"
      ],
      "execution_count": null,
      "outputs": []
    },
    {
      "cell_type": "code",
      "metadata": {
        "id": "-M2gaYsJQxVR"
      },
      "source": [
        "entity_tagger=StanfordNERTagger(model,jar_engine, encoding='utf8')"
      ],
      "execution_count": null,
      "outputs": []
    },
    {
      "cell_type": "code",
      "metadata": {
        "id": "LUyyJ-rvQxVR"
      },
      "source": [
        "raw_sec_train = open(\"/Users/aminov.sb/Desktop/stanford-ner-tagger/DATA/SEC-Filings/test/FIN3.txt\").read()\n",
        "split_sec_train = raw_sec_train.split()"
      ],
      "execution_count": null,
      "outputs": []
    },
    {
      "cell_type": "code",
      "metadata": {
        "id": "KmdywscPQxVR"
      },
      "source": [
        "# Amend class annotations to reflect Stanford's NERTagger\n",
        "for n,i in enumerate(split_sec_train):\n",
        "    if i == \"I-PER\":\n",
        "        split_sec_train[n] = \"PERSON\"\n",
        "    if i == \"I-ORG\":\n",
        "        split_sec_train[n] = \"ORGANIZATION\"\n",
        "    if i == \"I-LOC\":\n",
        "        split_sec_train[n] = \"LOCATION\"\n",
        "    if i == \"B-PER\":\n",
        "        split_sec_train[n] = \"PERSON\"\n",
        "    if i == \"B-ORG\":\n",
        "        split_sec_train[n] = \"ORGANIZATION\"\n",
        "    if i == \"B-LOC\":\n",
        "        split_sec_train[n] = \"LOCATION\"\n",
        "    if i == \"I-MISC\":\n",
        "        split_sec_train[n] = \"MISC\"\n",
        "    if i == \"B-MISC\":\n",
        "        split_sec_train[n] = \"MISC\""
      ],
      "execution_count": null,
      "outputs": []
    },
    {
      "cell_type": "code",
      "metadata": {
        "id": "XHludBM3QxVS"
      },
      "source": [
        "reference_sec_train=list(zip(split_sec_train[0::4],split_sec_train[3::4]))"
      ],
      "execution_count": null,
      "outputs": []
    },
    {
      "cell_type": "code",
      "metadata": {
        "id": "AZKOUu7CQxVS"
      },
      "source": [
        "sec_train_tokens = split_sec_train[::4]"
      ],
      "execution_count": null,
      "outputs": []
    },
    {
      "cell_type": "code",
      "metadata": {
        "id": "vAt05cnfQxVS"
      },
      "source": [
        "stanford_prediction_sec_train = entity_tagger.tag(sec_train_tokens)"
      ],
      "execution_count": null,
      "outputs": []
    },
    {
      "cell_type": "code",
      "metadata": {
        "id": "nxBFRvCKQxVS"
      },
      "source": [
        "stanford_pred_sec_train = [x[1] for x in stanford_prediction_sec_train]"
      ],
      "execution_count": null,
      "outputs": []
    },
    {
      "cell_type": "code",
      "metadata": {
        "id": "zN97uCNtQxVS",
        "outputId": "f43e8812-155a-4c7c-df7d-359dbe841e90"
      },
      "source": [
        "f1_score(split_sec_train[3::4], stanford_pred_sec_train, average='micro',labels=['LOCATION'])"
      ],
      "execution_count": null,
      "outputs": [
        {
          "output_type": "execute_result",
          "data": {
            "text/plain": [
              "0.3883495145631068"
            ]
          },
          "metadata": {
            "tags": []
          },
          "execution_count": 298
        }
      ]
    },
    {
      "cell_type": "code",
      "metadata": {
        "id": "QrPnpuEKQxVT",
        "outputId": "f6ca055d-e1fc-43b3-d984-c7d02b1fb89a"
      },
      "source": [
        "f1_score(split_sec_train[3::4], stanford_pred_sec_train, average='micro',labels=['PERSON'])"
      ],
      "execution_count": null,
      "outputs": [
        {
          "output_type": "execute_result",
          "data": {
            "text/plain": [
              "0.8955916473317866"
            ]
          },
          "metadata": {
            "tags": []
          },
          "execution_count": 299
        }
      ]
    },
    {
      "cell_type": "code",
      "metadata": {
        "id": "Z8fX-HWVQxVT",
        "outputId": "846699b7-cbb4-48db-d3e4-52cd7b7b2f68"
      },
      "source": [
        "f1_score(split_sec_train[3::4], stanford_pred_sec_train, average='micro',labels=['ORGANIZATION'])"
      ],
      "execution_count": null,
      "outputs": [
        {
          "output_type": "execute_result",
          "data": {
            "text/plain": [
              "0.2518518518518518"
            ]
          },
          "metadata": {
            "tags": []
          },
          "execution_count": 300
        }
      ]
    },
    {
      "cell_type": "code",
      "metadata": {
        "id": "Gk_C_SHoQxVT",
        "outputId": "7d3e8df3-30aa-4df8-cef5-dd3855aed4e3"
      },
      "source": [
        "f1_score(split_sec_train[3::4], stanford_pred_sec_train, average='micro',labels=['MISC'])"
      ],
      "execution_count": null,
      "outputs": [
        {
          "output_type": "execute_result",
          "data": {
            "text/plain": [
              "0.0"
            ]
          },
          "metadata": {
            "tags": []
          },
          "execution_count": 301
        }
      ]
    },
    {
      "cell_type": "code",
      "metadata": {
        "id": "jV50Ywn8QxVU"
      },
      "source": [
        ""
      ],
      "execution_count": null,
      "outputs": []
    },
    {
      "cell_type": "code",
      "metadata": {
        "id": "aRJZ2XI3QxVU"
      },
      "source": [
        ""
      ],
      "execution_count": null,
      "outputs": []
    },
    {
      "cell_type": "code",
      "metadata": {
        "id": "cnxW5O-fQxVV"
      },
      "source": [
        ""
      ],
      "execution_count": null,
      "outputs": []
    }
  ]
}